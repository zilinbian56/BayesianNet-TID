{
 "cells": [
  {
   "cell_type": "code",
   "execution_count": 237,
   "id": "7588db53",
   "metadata": {},
   "outputs": [],
   "source": [
    "import pandas as pd\n",
    "import numpy as np\n",
    "from sklearn.preprocessing import LabelEncoder\n",
    "from skmultiflow.data import RegressionGenerator\n",
    "from skmultiflow.meta import AdaptiveRandomForestRegressor\n",
    "from skmultiflow.data.file_stream import FileStream\n",
    "from skmultiflow.evaluation import EvaluatePrequential\n",
    "from skmultiflow.drift_detection.adwin import ADWIN\n",
    "from skmultiflow.drift_detection.eddm import EDDM\n",
    "import matplotlib.pyplot as plt\n",
    "from statsmodels.tsa.seasonal import STL, DecomposeResult\n",
    "import ruptures as rpt\n",
    "import changefinder as cf\n",
    "import statistics as stats\n",
    "import datetime\n",
    "import copy\n",
    "import bnlearn\n",
    "from scipy.stats import hypergeom\n",
    "import seaborn as sns\n",
    "import pgmpy\n",
    "#%matplotlib"
   ]
  },
  {
   "cell_type": "code",
   "execution_count": 2,
   "id": "e9a3ab1b",
   "metadata": {},
   "outputs": [],
   "source": [
    "#Adaptive random forest\n",
    "#Adaptive XGBoost"
   ]
  },
  {
   "cell_type": "code",
   "execution_count": 3,
   "id": "995f8e69",
   "metadata": {},
   "outputs": [],
   "source": [
    "directory='data/'\n",
    "#data = np.load(directory+'incident_nyc.npy', allow_pickle=True)\n",
    "data = pd.read_csv(directory+'incident_nyc.csv')"
   ]
  },
  {
   "cell_type": "code",
   "execution_count": 4,
   "id": "d090f501",
   "metadata": {},
   "outputs": [],
   "source": [
    "isCrash =  [\n",
    "     'Accident',\n",
    "     'Accident Road Closed',\n",
    "     'Accident investigation',\n",
    "     'Accident with Injuries',\n",
    "     'Accident with Property Damage',\n",
    "     'Crash',\n",
    "     'Crash investigation',\n",
    "     'Crash with Injuries',\n",
    "     'Crash with Property Damage'\n",
    "     \n",
    " ]\n",
    "isDebris = ['Debris spill','Missing Sewer Grate','Gas main break','Roadway non-hazmat spill','Watermain break', 'Falling Debris','Downed pole','Collapsed Sewer Grate','Collapsed Scaffolding','Collapsed Manhole','Fuel spill','Nearby building collapse','Sinkhole','Road Collapse','Steam leak','Downed wires','Fluid Spill','Cargo spill','Hazmat spill','Sewer main break']\n",
    "isDisabled = ['Disabled vehicle','Vehicle fire','Overturned vehicle','Disabled truck','Disabled bus','Disabled tractor trailer','Misplaced commercial vehicle','Misplaced tractor trailer','Overturned Truck','Overturned tractor trailer','Overheight tractor trailer','Truck fire','Misplaced bus','Jack-knifed tractor trailer','Tractor trailer fire','Bus fire','Vehicle off the roadway','Overturned Dump Truck','Equipment malfunction']\n",
    "isPolice = ['EMS activity','Fire department activity','Police department activity']\n",
    "#isPolice = ['Police department activity']\n",
    "isConstruct = ['Emergency construction']"
   ]
  },
  {
   "cell_type": "code",
   "execution_count": 5,
   "id": "fca18e8e",
   "metadata": {},
   "outputs": [],
   "source": [
    "data=data.sort_values(by=['Start Date Time'], ignore_index=True)\n",
    "data['Start Date Time'] = pd.to_datetime(data['Start Date Time'])\n",
    "#data = data[(data['Duration (min)']>=5) & (data['Duration (min)']<=60)]\n",
    "data = data.loc[(data['Duration (min)']>=5)]\n",
    "\n",
    "quantile=0.95\n",
    "data = data[data['Duration (min)'] < data['Duration (min)'].quantile(quantile)]\n",
    "\n",
    "data_crash = data[data['Incident Type']==0]\n",
    "data_debris = data[data['Incident Type']==1]\n",
    "data_disable = data[data['Incident Type']==2]\n",
    "data_police = data[data['Incident Type']==3]\n",
    "data_construct = data[data['Incident Type']==4]\n",
    "\n",
    "\n",
    "#data = data[data['Year']>=2019]\n",
    "DurationsByFreq = data.groupby(pd.Grouper(key='Start Date Time', axis=0, freq='1M', sort=True))['Duration (min)']"
   ]
  },
  {
   "cell_type": "code",
   "execution_count": 6,
   "id": "6432e66b",
   "metadata": {},
   "outputs": [
    {
     "name": "stdout",
     "output_type": "stream",
     "text": [
      "40.56174780030298\n",
      "46.394634394246424\n",
      "46.75163322147041\n",
      "39.98682423926383\n",
      "47.09410364551517\n",
      "40.45211138326258\n",
      "50.03541255389179\n"
     ]
    }
   ],
   "source": [
    "years = sorted(list(set(data['Year'])))\n",
    "# data[data['Year']==2015]['Duration (min)'].max()\n",
    "# data_police[data_police['Year']==2015]['Duration (min)'].var()\n",
    "for year in years:\n",
    "    print(data_police[data_police['Year']==year]['Duration (min)'].std())"
   ]
  },
  {
   "cell_type": "code",
   "execution_count": 7,
   "id": "399556ce",
   "metadata": {},
   "outputs": [],
   "source": [
    "def timeseries_analysis_mean(data, type_='all', freq='1M', quantile=1.00):\n",
    "    if type_=='all':\n",
    "        Dat = data\n",
    "    elif type_=='Crash':\n",
    "        Dat = data[data['Event Type'].str.contains('|'.join(isCrash))]\n",
    "    elif type_ == 'Debris':\n",
    "        Dat = data[data['Event Type'].str.contains('|'.join(isDebris))]\n",
    "    elif type_ == 'Disabled':\n",
    "        Dat = data[data['Event Type'].str.contains('|'.join(isDisabled))]\n",
    "    elif type_ == 'Police':\n",
    "        Dat = data[data['Event Type'].str.contains('|'.join(isPolice))]\n",
    "    elif type_ == 'Construct':\n",
    "        Dat = data[data['Event Type'].str.contains('|'.join(isConstruct))]\n",
    "    else:\n",
    "        Dat = data[data['Event Type']==type_]\n",
    "    Dat = Dat[Dat['Duration (min)'] < Dat['Duration (min)'].quantile(quantile)]\n",
    "    DurationsByFreq = Dat.groupby(pd.Grouper(key='Start Date Time', axis=0, freq=freq, sort=True))['Duration (min)']\n",
    "    DurationsByFreqFil = DurationsByFreq.apply(lambda x: x[(x<=x.quantile(0.95)) & (x>=x.quantile(0.05))])\n",
    "    ax = plt.subplot(111)\n",
    "    ax.bar(DurationsByFreq.groups.keys(), DurationsByFreq.quantile(0.95), width=10, color='blue',alpha=0.5)\n",
    "    ax.bar(DurationsByFreq.groups.keys(), DurationsByFreq.quantile(0.05), width=10, color='red',alpha=0.5)\n",
    "    ax.set_ylabel('Monthly duration 95% (red) and 5% (blue) value '+type_)\n",
    "#     ax.xaxis_date()\n",
    "    ax2 = ax.twinx()\n",
    "    ax2.plot_date(DurationsByFreq.groups.keys(), DurationsByFreq.mean(), '-b', color=\"black\",linewidth=1)\n",
    "    ax2.plot_date(DurationsByFreq.groups.keys(), DurationsByFreq.mean(), color=\"red\")\n",
    "#     ax2.set_ylim(30, max(DurationsByFreq.mean())+50)\n",
    "    ax2.set_ylabel('Monthly average duration of '+type_+' (minutes)')\n",
    "#     ax2.xaxis_date()\n",
    "    plt.setp(ax.xaxis.get_majorticklabels(),'rotation', 90)\n",
    "    plt.setp(ax2.xaxis.get_majorticklabels(),'rotation', 90)\n",
    "    plt.show()\n",
    "    return DurationsByFreq"
   ]
  },
  {
   "cell_type": "code",
   "execution_count": 227,
   "id": "7756cad3",
   "metadata": {},
   "outputs": [],
   "source": [
    "def timeseries_analysis_mean_only(data, type_='all', freq='1M', quantile=1.00):\n",
    "    if type_=='all':\n",
    "        Dat = data\n",
    "    elif type_=='Crash':\n",
    "        Dat = data[data['Event Type'].str.contains('|'.join(isCrash))]\n",
    "    elif type_ == 'Debris':\n",
    "        Dat = data[data['Event Type'].str.contains('|'.join(isDebris))]\n",
    "    elif type_ == 'Disabled Vehicle':\n",
    "        Dat = data[data['Event Type'].str.contains('|'.join(isDisabled))]\n",
    "    elif type_ == 'Response Team Activities':\n",
    "        Dat = data[data['Event Type'].str.contains('|'.join(isPolice))]\n",
    "    elif type_ == 'Construct':\n",
    "        Dat = data[data['Event Type'].str.contains('|'.join(isConstruct))]\n",
    "    else:\n",
    "        Dat = data[data['Event Type']==type_]\n",
    "    Dat = Dat[Dat['Duration (min)'] < Dat['Duration (min)'].quantile(quantile)]\n",
    "    DurationsByFreq = Dat.groupby(pd.Grouper(key='Start Date Time', axis=0, freq=freq, sort=True))['Duration (min)']\n",
    "    DurationsByFreqFil = DurationsByFreq.apply(lambda x: x[(x<=x.quantile(0.95)) & (x>=x.quantile(0.05))])\n",
    "    ax = plt.subplot(111)\n",
    "#     ax.bar(DurationsByFreq.groups.keys(), DurationsByFreq.quantile(0.95), width=10, color='blue',alpha=0.5)\n",
    "#     ax.bar(DurationsByFreq.groups.keys(), DurationsByFreq.quantile(0.05), width=10, color='red',alpha=0.5)\n",
    "#     ax.set_ylabel('Monthly duration 95% (red) and 5% (blue) value '+type_)\n",
    "    ax.xaxis_date()\n",
    "    #ax2 = ax.twinx()\n",
    "    ax.plot_date(DurationsByFreq.groups.keys(), DurationsByFreq.mean(), '-b', color=\"black\",linewidth=1)\n",
    "    ax.plot_date(DurationsByFreq.groups.keys(), DurationsByFreq.mean(), color=\"red\")\n",
    "#     ax2 = ax.twinx()\n",
    "#     ax2.plot_date(DurationsByFreq.groups.keys(), DurationsByFreq.count(), '-b', color=\"black\",linewidth=1)\n",
    "#     ax2.plot_date(DurationsByFreq.groups.keys(), DurationsByFreq.count(), color=\"blue\")\n",
    "#     ax2.set_ylim(30, max(DurationsByFreq.mean())+50)\n",
    "    ax.set_ylabel('Monthly average duration of '+type_+' (minutes)')\n",
    "    plt.axvline(x=list(DurationsByFreq.groups.keys())[-23],color='green', linewidth=1, linestyle='--')\n",
    "    ax.xaxis_date()\n",
    "    plt.setp(ax.xaxis.get_majorticklabels(),'rotation', 90)\n",
    "    #plt.setp(ax2.xaxis.get_majorticklabels(),'rotation', 90)\n",
    "    plt.savefig('Monthly average TID of '+type_+' (minutes).png', dpi=300)\n",
    "    plt.show()\n",
    "   \n",
    "    return DurationsByFreq"
   ]
  },
  {
   "cell_type": "code",
   "execution_count": 229,
   "id": "130c9231",
   "metadata": {},
   "outputs": [
    {
     "data": {
      "image/png": "[encoded data removed]",
      "text/plain": [
       "<Figure size 432x288 with 1 Axes>"
      ]
     },
     "metadata": {
      "needs_background": "light"
     },
     "output_type": "display_data"
    },
    {
     "data": {
      "text/plain": [
       "<pandas.core.groupby.generic.SeriesGroupBy object at 0x7fe6e3b21fd0>"
      ]
     },
     "execution_count": 229,
     "metadata": {},
     "output_type": "execute_result"
    }
   ],
   "source": [
    "timeseries_analysis_mean_only(data, 'Crash',quantile=1)"
   ]
  },
  {
   "cell_type": "code",
   "execution_count": 10,
   "id": "aa973151",
   "metadata": {},
   "outputs": [
    {
     "data": {
      "image/png": "[encoded data removed]",
      "text/plain": [
       "<Figure size 432x288 with 2 Axes>"
      ]
     },
     "metadata": {
      "needs_background": "light"
     },
     "output_type": "display_data"
    },
    {
     "data": {
      "text/plain": [
       "<pandas.core.groupby.generic.SeriesGroupBy object at 0x7fe6c05b4dc0>"
      ]
     },
     "execution_count": 10,
     "metadata": {},
     "output_type": "execute_result"
    }
   ],
   "source": [
    "timeseries_analysis_mean(data, 'Crash',quantile=0.95)"
   ]
  },
  {
   "cell_type": "code",
   "execution_count": 11,
   "id": "0e96c934",
   "metadata": {},
   "outputs": [
    {
     "data": {
      "image/png": "[encoded data removed]",
      "text/plain": [
       "<Figure size 432x288 with 2 Axes>"
      ]
     },
     "metadata": {
      "needs_background": "light"
     },
     "output_type": "display_data"
    }
   ],
   "source": [
    "a = timeseries_analysis_mean(data, 'Crash','1M',quantile=0.95)"
   ]
  },
  {
   "cell_type": "code",
   "execution_count": 12,
   "id": "fd708c61",
   "metadata": {},
   "outputs": [],
   "source": [
    "data['County'].unique()\n",
    "input_data = copy.deepcopy(data)"
   ]
  },
  {
   "cell_type": "code",
   "execution_count": 13,
   "id": "6a695b2c",
   "metadata": {},
   "outputs": [
    {
     "data": {
      "text/plain": [
       "array([2015, 2016, 2017, 2018, 2019, 2020, 2021])"
      ]
     },
     "execution_count": 13,
     "metadata": {},
     "output_type": "execute_result"
    }
   ],
   "source": [
    "data['Year'].unique()"
   ]
  },
  {
   "cell_type": "code",
   "execution_count": 14,
   "id": "5355eb8e",
   "metadata": {},
   "outputs": [],
   "source": [
    "for index, row in data.iterrows():\n",
    "    if row['Direction'] in ['all directions','both directions']:\n",
    "        input_data['Direction'][index] = 0\n",
    "    if row['Direction'] == 'eastbound':\n",
    "        input_data['Direction'][index] = 1 \n",
    "    if row['Direction'] == 'westbound':\n",
    "        input_data['Direction'][index] = 2\n",
    "    if row['Direction'] == 'southbound':\n",
    "        input_data['Direction'][index] = 3 \n",
    "    if row['Direction'] == 'northbound':\n",
    "        input_data['Direction'][index] = 4\n",
    "#     else:\n",
    "#         input_data['Direction'][index] = 5"
   ]
  },
  {
   "cell_type": "code",
   "execution_count": 15,
   "id": "aac4ba34",
   "metadata": {},
   "outputs": [],
   "source": [
    "for index, row in data.iterrows():\n",
    "    if row['County'] == 'New York':\n",
    "        input_data['County'][index] = 0\n",
    "    if row['County'] == 'Kings':\n",
    "        input_data['County'][index] = 1 \n",
    "    if row['County'] == 'Queens':\n",
    "        input_data['County'][index] = 2\n",
    "    if row['County'] == 'Bronx':\n",
    "        input_data['County'][index] = 3 \n",
    "    if row['County'] == 'Richmond':\n",
    "        input_data['County'][index] = 4"
   ]
  },
  {
   "cell_type": "code",
   "execution_count": 16,
   "id": "192b2656",
   "metadata": {},
   "outputs": [],
   "source": [
    "for index, row in data.iterrows():\n",
    "    if row['Year'] == 2015:\n",
    "        input_data['Year'][index] = 0\n",
    "    if row['Year'] == 2016:\n",
    "        input_data['Year'][index] = 1\n",
    "    if row['Year'] == 2017:\n",
    "        input_data['Year'][index] = 2\n",
    "    if row['Year'] == 2018:\n",
    "        input_data['Year'][index] = 3\n",
    "    if row['Year'] == 2019:\n",
    "        input_data['Year'][index] = 4\n",
    "    if row['Year'] == 2020:\n",
    "        input_data['Year'][index] = 5\n",
    "    if row['Year'] == 2021:\n",
    "        input_data['Year'][index] = 6"
   ]
  },
  {
   "cell_type": "code",
   "execution_count": 17,
   "id": "7c7a3a83",
   "metadata": {},
   "outputs": [],
   "source": [
    "input_data.columns\n",
    "input_data = input_data[['Incident Type', 'Direction', 'County', 'Start Date Time',\n",
    "       'Duration (min)', 'Year', 'Lane Closure Type', 'TOD', 'PeakHour',\n",
    "       'DayofWeek', 'MonthofYear', 'Injury involved', 'Truck involved',\n",
    "       'Fire involved']]"
   ]
  },
  {
   "cell_type": "code",
   "execution_count": 18,
   "id": "94f9211b",
   "metadata": {},
   "outputs": [],
   "source": [
    "input_data_crash = input_data[input_data['Incident Type']==0]\n",
    "input_data_debris = input_data[input_data['Incident Type']==1]\n",
    "input_data_disable = input_data[input_data['Incident Type']==2]\n",
    "input_data_police = input_data[input_data['Incident Type']==3]\n",
    "input_data_construct = input_data[input_data['Incident Type']==4]"
   ]
  },
  {
   "cell_type": "code",
   "execution_count": 19,
   "id": "4ec87a49",
   "metadata": {},
   "outputs": [],
   "source": [
    "# input_data_crash.to_csv('crash_nyc.csv', index_label=False)\n",
    "# input_data_disable.to_csv('disable_nyc.csv', index_label=False)"
   ]
  },
  {
   "cell_type": "markdown",
   "id": "bb95a85d",
   "metadata": {},
   "source": [
    "# Drift Detection"
   ]
  },
  {
   "cell_type": "code",
   "execution_count": 319,
   "id": "5f320898",
   "metadata": {},
   "outputs": [
    {
     "data": {
      "image/png": "[encoded data removed]",
      "text/plain": [
       "<Figure size 432x288 with 2 Axes>"
      ]
     },
     "metadata": {
      "needs_background": "light"
     },
     "output_type": "display_data"
    },
    {
     "data": {
      "text/plain": [
       "[<matplotlib.lines.Line2D at 0x7fe6c9379790>]"
      ]
     },
     "execution_count": 319,
     "metadata": {},
     "output_type": "execute_result"
    },
    {
     "data": {
      "image/png": "[encoded data removed]",
      "text/plain": [
       "<Figure size 432x288 with 1 Axes>"
      ]
     },
     "metadata": {
      "needs_background": "light"
     },
     "output_type": "display_data"
    }
   ],
   "source": [
    "DurationsByFreq = timeseries_analysis_mean(data, 'Disabled','1M',quantile=1)\n",
    "DurationsByFreq.var()\n",
    "plt.plot(DurationsByFreq.std())"
   ]
  },
  {
   "cell_type": "code",
   "execution_count": 320,
   "id": "1b43dc3f",
   "metadata": {},
   "outputs": [
    {
     "data": {
      "image/png": "[encoded data removed]",
      "text/plain": [
       "<Figure size 432x288 with 4 Axes>"
      ]
     },
     "metadata": {
      "needs_background": "light"
     },
     "output_type": "display_data"
    }
   ],
   "source": [
    "stl = STL(DurationsByFreq.mean())\n",
    "res = stl.fit()\n",
    "fig = res.plot()\n",
    "#fig.savefig('STL_Police.png', dpi=300)"
   ]
  },
  {
   "cell_type": "code",
   "execution_count": 321,
   "id": "75423a6c",
   "metadata": {},
   "outputs": [
    {
     "data": {
      "text/plain": [
       "Start Date Time\n",
       "2015-01-31    38.933408\n",
       "2015-02-28    38.907585\n",
       "2015-03-31    38.871926\n",
       "2015-04-30    38.826809\n",
       "2015-05-31    38.772932\n",
       "                ...    \n",
       "2021-08-31    47.420169\n",
       "2021-09-30    48.132999\n",
       "2021-10-31    48.839800\n",
       "2021-11-30    49.539837\n",
       "2021-12-31    50.232360\n",
       "Freq: M, Name: trend, Length: 84, dtype: float64"
      ]
     },
     "execution_count": 321,
     "metadata": {},
     "output_type": "execute_result"
    },
    {
     "data": {
      "image/png": "[encoded data removed]",
      "text/plain": [
       "<Figure size 432x288 with 1 Axes>"
      ]
     },
     "metadata": {
      "needs_background": "light"
     },
     "output_type": "display_data"
    }
   ],
   "source": [
    "plt.plot(res.trend)\n",
    "res.trend"
   ]
  },
  {
   "cell_type": "code",
   "execution_count": 205,
   "id": "cb91fae0",
   "metadata": {},
   "outputs": [],
   "source": [
    "def s_strength(season, resid):\n",
    "    F_T = max(0, 1-(stats.variance(resid)/stats.variance(season+resid)))\n",
    "    \n",
    "    return F_T\n",
    "\n",
    "def t_strength(trend, resid):\n",
    "    F_T = max(0, 1-(stats.variance(resid)/stats.variance(trend+resid)))\n",
    "    \n",
    "    return F_T\n"
   ]
  },
  {
   "cell_type": "code",
   "execution_count": 206,
   "id": "0291616c",
   "metadata": {},
   "outputs": [
    {
     "name": "stdout",
     "output_type": "stream",
     "text": [
      "0.631573808445387\n",
      "0.5516814085857173\n",
      "0.4950447578721503\n",
      "0.6209379072571657\n",
      "0.4756590247906354\n",
      "0.3950483071729739\n",
      "0.6124639654467428\n"
     ]
    }
   ],
   "source": [
    "for i in range(1,8):\n",
    "    print(s_strength(res.seasonal[(i-1)*12:i*12],res.resid[(i-1)*12:i*12]))"
   ]
  },
  {
   "cell_type": "code",
   "execution_count": 207,
   "id": "99b6a02d",
   "metadata": {},
   "outputs": [
    {
     "name": "stdout",
     "output_type": "stream",
     "text": [
      "0.2736490641230802\n",
      "0.2077373907497886\n",
      "0.1103714933200225\n",
      "0.2523284901652133\n",
      "0\n",
      "0.34609788092454863\n",
      "0.25712810802580754\n"
     ]
    }
   ],
   "source": [
    "for i in range(1,8):\n",
    "    print(t_strength(res.trend[(i-1)*12:i*12],res.resid[(i-1)*12:i*12]))"
   ]
  },
  {
   "cell_type": "code",
   "execution_count": 60,
   "id": "04228c28",
   "metadata": {},
   "outputs": [
    {
     "name": "stdout",
     "output_type": "stream",
     "text": [
      "Change detected in data: 35.69341894060995 - at index: 31\n",
      "Change detected in data: 33.56024096385542 - at index: 63\n"
     ]
    },
    {
     "name": "stderr",
     "output_type": "stream",
     "text": [
      "/opt/anaconda3/lib/python3.8/site-packages/skmultiflow/drift_detection/adwin.py:361: RuntimeWarning: invalid value encountered in sqrt\n",
      "  epsilon = np.sqrt(2 * m * v * dd) + 1. * 2 / 3 * dd * m\n"
     ]
    }
   ],
   "source": [
    "adwin = ADWIN(delta=5)\n",
    "eddm = EDDM()\n",
    "for i in range(len(DurationsByFreq.groups.keys())):\n",
    "    adwin.add_element(DurationsByFreq.mean()[i])\n",
    "    eddm.add_element(DurationsByFreq.mean()[i])\n",
    "    if adwin.detected_change():\n",
    "        print('Change detected in data: ' + str(DurationsByFreq.mean()[i]) + ' - at index: ' + str(i))\n",
    "#adwin.get_info()\n",
    "#eddm.detected_change()"
   ]
  },
  {
   "cell_type": "code",
   "execution_count": 43,
   "id": "ce19e011",
   "metadata": {},
   "outputs": [
    {
     "name": "stdout",
     "output_type": "stream",
     "text": [
      "Change detected in data: 116.0 - at index: 2015-09-26 00:21:00\n",
      "Change detected in data: 7.0 - at index: 2018-11-11 12:17:15\n",
      "Change detected in data: 49.0 - at index: 2019-10-11 22:59:11\n",
      "Change detected in data: 7.0 - at index: 2019-11-24 08:19:15\n",
      "Change detected in data: 4.0 - at index: 2020-01-04 20:28:00\n",
      "Change detected in data: 34.0 - at index: 2020-05-28 17:49:04\n",
      "Change detected in data: 41.0 - at index: 2020-11-27 15:51:20\n",
      "Change detected in data: 114.0 - at index: 2021-05-18 14:36:05\n",
      "Change detected in data: 120.0 - at index: 2021-06-24 16:39:47\n",
      "Change detected in data: 22.0 - at index: 2021-07-19 16:41:40\n",
      "Change detected in data: 135.0 - at index: 2021-09-24 11:50:50\n",
      "Change detected in data: 47.0 - at index: 2021-10-21 05:33:18\n",
      "Change detected in data: 20.0 - at index: 2021-12-12 08:15:52\n"
     ]
    }
   ],
   "source": [
    "adwin = ADWIN(0.09)\n",
    "for index, row in data.iterrows():\n",
    "    adwin.add_element(row['Duration (min)'])\n",
    "    if adwin.detected_change():\n",
    "        print('Change detected in data: ' + str(row['Duration (min)']) + ' - at index: ' + str(row['Start Date Time']))"
   ]
  },
  {
   "cell_type": "code",
   "execution_count": 134,
   "id": "6554dddf",
   "metadata": {},
   "outputs": [],
   "source": [
    "data.columns\n",
    "column = ['Facility','Incident Type', 'Direction','County', 'Year', 'Lane Closure Type', 'TOD', 'PeakHour',\n",
    "       'DayofWeek', 'MonthofYear', 'Injury involved', 'Truck involved',\n",
    "       'Fire involved',  'Duration (min)','Recovery (min)']\n",
    "cat_col = ['Facility', 'Direction','County','Year']\n",
    "data = data[column]"
   ]
  },
  {
   "cell_type": "code",
   "execution_count": 6,
   "id": "75561868",
   "metadata": {},
   "outputs": [],
   "source": [
    "#Encode categorical variables:\n",
    "for col in cat_col:\n",
    "    data[col] = LabelEncoder().fit_transform(data[col])\n",
    "#year\n",
    "# le = LabelEncoder()\n",
    "# le.fit(data['Year'])\n",
    "# data['Year'] = le.transform(data['Year'])\n",
    "# le_year_mapping = dict(zip(le.classes_, le.transform(le.classes_)))"
   ]
  },
  {
   "cell_type": "code",
   "execution_count": 220,
   "id": "6ab70493",
   "metadata": {},
   "outputs": [
    {
     "data": {
      "text/plain": [
       "array(['New York', 'Queens', 'Bronx', 'Kings', 'Richmond'], dtype=object)"
      ]
     },
     "execution_count": 220,
     "metadata": {},
     "output_type": "execute_result"
    }
   ],
   "source": [
    "data['County'].unique()"
   ]
  },
  {
   "cell_type": "markdown",
   "id": "0ce710ad",
   "metadata": {},
   "source": [
    "# Change point detection"
   ]
  },
  {
   "cell_type": "code",
   "execution_count": 322,
   "id": "4148a5df",
   "metadata": {},
   "outputs": [
    {
     "data": {
      "image/png": "[encoded data removed]",
      "text/plain": [
       "<Figure size 432x288 with 2 Axes>"
      ]
     },
     "metadata": {
      "needs_background": "light"
     },
     "output_type": "display_data"
    }
   ],
   "source": [
    "DurationsByFreq = timeseries_analysis_mean(data, 'Disabled','1M',quantile=1)\n",
    "duration_arr = np.asarray(DurationsByFreq.mean())\n",
    "duration_idx = DurationsByFreq.mean().index\n"
   ]
  },
  {
   "cell_type": "code",
   "execution_count": 326,
   "id": "766060af",
   "metadata": {},
   "outputs": [
    {
     "data": {
      "text/plain": [
       "[25, 40, 60, 70, 75, 84]"
      ]
     },
     "execution_count": 326,
     "metadata": {},
     "output_type": "execute_result"
    },
    {
     "data": {
      "image/png": "[encoded data removed]",
      "text/plain": [
       "<Figure size 720x144 with 1 Axes>"
      ]
     },
     "metadata": {
      "needs_background": "light"
     },
     "output_type": "display_data"
    }
   ],
   "source": [
    "#Changepoint detection with the Pelt search method\n",
    "model=\"rbf\"\n",
    "algo=rpt.Pelt(model=model,min_size=3).fit(duration_arr)\n",
    "result=algo.predict(pen=1) #pen for crash: 0.7, pen for disable: 1\n",
    "x = DurationsByFreq.mean().index\n",
    "# x = [datetime.date(2020,3,1), datetime.date(2020,6,25)]\n",
    "# rpt.display(volume_points,result,[22,100,114], figsize=(20,6))\n",
    "rpt.display(duration_arr, result)\n",
    "#rpt.display(duration_arr,x, result, figsize=(10,6))\n",
    "# date = pd.date_range(start=\"2020/03/01\",end=\"2020/06/30\", periods=7)\n",
    "# plt.xticks(np.arange(0,121,20), date.date, rotation=20)\n",
    "# plt.title('Change Point Detection: Pelt Search Method')\n",
    "# plt.show()\n",
    "result\n"
   ]
  },
  {
   "cell_type": "code",
   "execution_count": 327,
   "id": "285bbbb5",
   "metadata": {},
   "outputs": [
    {
     "data": {
      "text/plain": [
       "Timestamp('2015-02-28 00:00:00', freq='M')"
      ]
     },
     "execution_count": 327,
     "metadata": {},
     "output_type": "execute_result"
    }
   ],
   "source": [
    "DurationsByFreq.groups.keys()\n",
    "datelist = list(DurationsByFreq.groups.keys())\n",
    "datelist[1]"
   ]
  },
  {
   "cell_type": "code",
   "execution_count": 328,
   "id": "8f5a1025",
   "metadata": {},
   "outputs": [
    {
     "data": {
      "image/png": "[encoded data removed]",
      "text/plain": [
       "<Figure size 1080x360 with 1 Axes>"
      ]
     },
     "metadata": {
      "needs_background": "light"
     },
     "output_type": "display_data"
    }
   ],
   "source": [
    "fig = plt.figure(figsize=(15,5))\n",
    "ax = fig.add_subplot(111)\n",
    "#ax = plt.subplot(111)\n",
    "ax.plot_date(DurationsByFreq.groups.keys(), DurationsByFreq.mean(), '-b', color=\"black\",linewidth=1)\n",
    "ax.plot_date(DurationsByFreq.groups.keys(), DurationsByFreq.mean(), color=\"red\")\n",
    "ax.set_ylabel('Duration (min)', fontsize=12)\n",
    "ax.set_xlabel('Date',fontsize=12)\n",
    "xcoords = result\n",
    "for xc in xcoords[:-1]:\n",
    "    plt.axvline(x=datelist[xc],color='blue', linewidth=1, linestyle='--')\n",
    "#fig.savefig('CPD result for disable.png', dpi=300)"
   ]
  },
  {
   "cell_type": "code",
   "execution_count": 329,
   "id": "9a46f941",
   "metadata": {},
   "outputs": [],
   "source": [
    "dir = 'Result/'\n",
    "vol = pd.read_excel(dir+'Incident Duration Statistics.xlsx', sheet_name='BTVolume')\n",
    "vol=vol.rename(columns={'Unnamed: 0':'Year'})\n",
    "vol_list = []\n",
    "for index, row in vol.iterrows():\n",
    "    vol_list.append(row[1:])\n",
    "vol_list = pd.concat(vol_list, axis=0)\n",
    "vol_df = pd.DataFrame({'date': datelist, 'Volume': vol_list})"
   ]
  },
  {
   "cell_type": "code",
   "execution_count": 330,
   "id": "7e0a3d4c",
   "metadata": {},
   "outputs": [
    {
     "data": {
      "image/png": "[encoded data removed]",
      "text/plain": [
       "<Figure size 1080x504 with 4 Axes>"
      ]
     },
     "metadata": {
      "needs_background": "light"
     },
     "output_type": "display_data"
    }
   ],
   "source": [
    "fig, (ax1, ax2, ax3, ax4) = plt.subplots(nrows=4, figsize=(15, 7), sharex=True, gridspec_kw={'wspace': 0})\n",
    "ax1.plot_date(DurationsByFreq.groups.keys(), DurationsByFreq.mean(), '-b', color=\"black\",linewidth=1, label='TID')\n",
    "ax1.plot_date(DurationsByFreq.groups.keys(), DurationsByFreq.mean(), color=\"red\")\n",
    "ax2.plot_date(DurationsByFreq.groups.keys(), res.seasonal, '-b', color=\"green\",linewidth=1, label='Seasonal')\n",
    "ax3.plot_date(DurationsByFreq.groups.keys(), res.trend, '-b', color=\"magenta\",linewidth=1, label='Trend')\n",
    "ax4.plot_date(DurationsByFreq.groups.keys(), vol_df['Volume'], '-b', color=\"#8C000F\",linewidth=1.2, label='Volume')\n",
    "#ax4.plot_date(DurationsByFreq.groups.keys(), vol_df['Volume'], color=\"red\", marker='s')\n",
    "plt.subplots_adjust(hspace=.0)\n",
    "ax4.set_facecolor('#E6E6FA')\n",
    "#ax4.grid(True,which=\"both\", linestyle='--')\n",
    "ax1.set_ylabel('TID (min)', fontsize=12)\n",
    "ax2.set_ylabel('Seasonal', fontsize=12)\n",
    "ax3.set_ylabel('Trend', fontsize=12)\n",
    "ax4.set_ylabel('Volume', fontsize=12)\n",
    "ax4.set_xlabel('Date',fontsize=12)\n",
    "ax1.legend(loc='lower right')\n",
    "ax2.legend(loc='lower right')\n",
    "ax3.legend(loc='lower right')\n",
    "ax4.legend(loc='lower right')\n",
    "xcoords = result\n",
    "for xc in xcoords[:-1]:\n",
    "    ax1.axvline(x=datelist[xc],color='blue', linewidth=1, linestyle='--')\n",
    "    ax2.axvline(x=datelist[xc],color='blue', linewidth=1, linestyle='--')\n",
    "    ax3.axvline(x=datelist[xc],color='blue', linewidth=1, linestyle='--')\n",
    "    #ax4.axvline(x=datelist[xc],color='blue', linewidth=1, linestyle='--')\n",
    "fig.savefig('CPD_Seasonal_Trend_Disable result.png', dpi=300)"
   ]
  },
  {
   "cell_type": "code",
   "execution_count": 215,
   "id": "38ee420b",
   "metadata": {},
   "outputs": [],
   "source": [
    "def findChangePoints(ts, r, order, smooth):\n",
    "    '''\n",
    "       r: Discounting rate\n",
    "       order: AR model order\n",
    "       smooth: smoothing window size T\n",
    "    '''\n",
    "    cf = changefinder.ChangeFinder(r=r, order=order, smooth=smooth)\n",
    "    ts_score = [cf.update(p) for p in ts]\n",
    "    plt.figure(figsize=(16,4))\n",
    "    plt.plot(ts)\n",
    "    plt.figure(figsize=(16,4))\n",
    "    plt.plot(ts_score, color='red')\n",
    "    return(ts_score)"
   ]
  },
  {
   "cell_type": "code",
   "execution_count": 225,
   "id": "d3c0b11f",
   "metadata": {},
   "outputs": [
    {
     "data": {
      "image/png": "[encoded data removed]",
      "text/plain": [
       "<Figure size 1152x288 with 1 Axes>"
      ]
     },
     "metadata": {
      "needs_background": "light"
     },
     "output_type": "display_data"
    },
    {
     "data": {
      "image/png": "[encoded data removed]",
      "text/plain": [
       "<Figure size 1152x288 with 1 Axes>"
      ]
     },
     "metadata": {
      "needs_background": "light"
     },
     "output_type": "display_data"
    }
   ],
   "source": [
    "ts_score1 = findChangePoints(duration_arr, r = 0.01, order = 9, smooth = 15)"
   ]
  },
  {
   "cell_type": "code",
   "execution_count": 226,
   "id": "72faf330",
   "metadata": {},
   "outputs": [
    {
     "data": {
      "image/png": "[encoded data removed]",
      "text/plain": [
       "<Figure size 1152x288 with 1 Axes>"
      ]
     },
     "metadata": {
      "needs_background": "light"
     },
     "output_type": "display_data"
    }
   ],
   "source": [
    "ts_change_loc1 = pd.Series(ts_score1).nlargest(20)\n",
    "ts_change_loc1 = ts_change_loc1.index\n",
    "ts_change_loc1\n",
    "def plot_change_points(ts,ts_change_loc):\n",
    "    plt.figure(figsize=(16,4))\n",
    "    plt.plot(ts)\n",
    "    for x in ts_change_loc:\n",
    "        plt.axvline(x,lw=2, color='red')\n",
    "        \n",
    "plot_change_points(duration_arr,ts_change_loc1)"
   ]
  },
  {
   "cell_type": "markdown",
   "id": "49430fd5",
   "metadata": {},
   "source": [
    "# Clearance time prediction"
   ]
  },
  {
   "cell_type": "code",
   "execution_count": 134,
   "id": "51ccea8b",
   "metadata": {},
   "outputs": [],
   "source": [
    "column_clear = ['Facility','Incident Type', 'Direction','County', 'Year', 'TOD', 'PeakHour',\n",
    "       'DayofWeek', 'MonthofYear', 'Injury involved', 'Truck involved','Lane Closure Type',\n",
    "       'Fire involved', 'Duration (min)']# \n",
    "data_clear = data[column_clear]\n",
    "data_clear = data_clear.dropna()\n",
    "#data_clear = data_clear[data_clear['Incident Type']==0]\n",
    "data_clear.to_csv('incident_nyc_clearance.csv')"
   ]
  },
  {
   "cell_type": "code",
   "execution_count": 135,
   "id": "c1eb9580",
   "metadata": {},
   "outputs": [
    {
     "data": {
      "text/plain": [
       "array([0, 3, 2, 5, 4, 1])"
      ]
     },
     "execution_count": 135,
     "metadata": {},
     "output_type": "execute_result"
    }
   ],
   "source": [
    "data_clear['Incident Type'].unique()"
   ]
  },
  {
   "cell_type": "code",
   "execution_count": 84,
   "id": "54a0c841",
   "metadata": {},
   "outputs": [],
   "source": [
    "#Load csv file as a stream\n",
    "stream_clear = FileStream('incident_nyc_clearance.csv')"
   ]
  },
  {
   "cell_type": "code",
   "execution_count": null,
   "id": "60425f50",
   "metadata": {},
   "outputs": [],
   "source": []
  },
  {
   "cell_type": "markdown",
   "id": "a952ecde",
   "metadata": {},
   "source": [
    "# Read crash and disable data"
   ]
  },
  {
   "cell_type": "code",
   "execution_count": 21,
   "id": "047f9b82",
   "metadata": {},
   "outputs": [
    {
     "data": {
      "text/html": [
       "<div>\n",
       "<style scoped>\n",
       "    .dataframe tbody tr th:only-of-type {\n",
       "        vertical-align: middle;\n",
       "    }\n",
       "\n",
       "    .dataframe tbody tr th {\n",
       "        vertical-align: top;\n",
       "    }\n",
       "\n",
       "    .dataframe thead th {\n",
       "        text-align: right;\n",
       "    }\n",
       "</style>\n",
       "<table border=\"1\" class=\"dataframe\">\n",
       "  <thead>\n",
       "    <tr style=\"text-align: right;\">\n",
       "      <th></th>\n",
       "      <th>Direction</th>\n",
       "      <th>County</th>\n",
       "      <th>Year</th>\n",
       "      <th>TOD</th>\n",
       "      <th>PeakHour</th>\n",
       "      <th>DayofWeek</th>\n",
       "      <th>MonthofYear</th>\n",
       "      <th>Injury involved</th>\n",
       "      <th>Truck involved</th>\n",
       "      <th>Lane Closure Type</th>\n",
       "      <th>Fire involved</th>\n",
       "      <th>Duration_class</th>\n",
       "    </tr>\n",
       "  </thead>\n",
       "  <tbody>\n",
       "    <tr>\n",
       "      <th>0</th>\n",
       "      <td>1</td>\n",
       "      <td>2</td>\n",
       "      <td>0</td>\n",
       "      <td>0</td>\n",
       "      <td>1</td>\n",
       "      <td>0</td>\n",
       "      <td>2</td>\n",
       "      <td>0</td>\n",
       "      <td>0</td>\n",
       "      <td>1</td>\n",
       "      <td>1</td>\n",
       "      <td>2</td>\n",
       "    </tr>\n",
       "    <tr>\n",
       "      <th>1</th>\n",
       "      <td>4</td>\n",
       "      <td>3</td>\n",
       "      <td>0</td>\n",
       "      <td>0</td>\n",
       "      <td>1</td>\n",
       "      <td>0</td>\n",
       "      <td>2</td>\n",
       "      <td>0</td>\n",
       "      <td>0</td>\n",
       "      <td>1</td>\n",
       "      <td>0</td>\n",
       "      <td>1</td>\n",
       "    </tr>\n",
       "    <tr>\n",
       "      <th>2</th>\n",
       "      <td>3</td>\n",
       "      <td>0</td>\n",
       "      <td>0</td>\n",
       "      <td>0</td>\n",
       "      <td>1</td>\n",
       "      <td>0</td>\n",
       "      <td>2</td>\n",
       "      <td>0</td>\n",
       "      <td>0</td>\n",
       "      <td>1</td>\n",
       "      <td>0</td>\n",
       "      <td>1</td>\n",
       "    </tr>\n",
       "    <tr>\n",
       "      <th>3</th>\n",
       "      <td>4</td>\n",
       "      <td>3</td>\n",
       "      <td>0</td>\n",
       "      <td>0</td>\n",
       "      <td>0</td>\n",
       "      <td>0</td>\n",
       "      <td>2</td>\n",
       "      <td>0</td>\n",
       "      <td>0</td>\n",
       "      <td>1</td>\n",
       "      <td>0</td>\n",
       "      <td>2</td>\n",
       "    </tr>\n",
       "    <tr>\n",
       "      <th>4</th>\n",
       "      <td>3</td>\n",
       "      <td>3</td>\n",
       "      <td>0</td>\n",
       "      <td>0</td>\n",
       "      <td>0</td>\n",
       "      <td>0</td>\n",
       "      <td>2</td>\n",
       "      <td>0</td>\n",
       "      <td>0</td>\n",
       "      <td>1</td>\n",
       "      <td>0</td>\n",
       "      <td>1</td>\n",
       "    </tr>\n",
       "    <tr>\n",
       "      <th>...</th>\n",
       "      <td>...</td>\n",
       "      <td>...</td>\n",
       "      <td>...</td>\n",
       "      <td>...</td>\n",
       "      <td>...</td>\n",
       "      <td>...</td>\n",
       "      <td>...</td>\n",
       "      <td>...</td>\n",
       "      <td>...</td>\n",
       "      <td>...</td>\n",
       "      <td>...</td>\n",
       "      <td>...</td>\n",
       "    </tr>\n",
       "    <tr>\n",
       "      <th>31378</th>\n",
       "      <td>2</td>\n",
       "      <td>0</td>\n",
       "      <td>6</td>\n",
       "      <td>0</td>\n",
       "      <td>1</td>\n",
       "      <td>0</td>\n",
       "      <td>2</td>\n",
       "      <td>0</td>\n",
       "      <td>0</td>\n",
       "      <td>2</td>\n",
       "      <td>0</td>\n",
       "      <td>2</td>\n",
       "    </tr>\n",
       "    <tr>\n",
       "      <th>31379</th>\n",
       "      <td>3</td>\n",
       "      <td>3</td>\n",
       "      <td>6</td>\n",
       "      <td>0</td>\n",
       "      <td>1</td>\n",
       "      <td>0</td>\n",
       "      <td>2</td>\n",
       "      <td>0</td>\n",
       "      <td>0</td>\n",
       "      <td>2</td>\n",
       "      <td>1</td>\n",
       "      <td>5</td>\n",
       "    </tr>\n",
       "    <tr>\n",
       "      <th>31380</th>\n",
       "      <td>1</td>\n",
       "      <td>0</td>\n",
       "      <td>6</td>\n",
       "      <td>0</td>\n",
       "      <td>0</td>\n",
       "      <td>0</td>\n",
       "      <td>2</td>\n",
       "      <td>0</td>\n",
       "      <td>0</td>\n",
       "      <td>2</td>\n",
       "      <td>0</td>\n",
       "      <td>1</td>\n",
       "    </tr>\n",
       "    <tr>\n",
       "      <th>31381</th>\n",
       "      <td>1</td>\n",
       "      <td>1</td>\n",
       "      <td>6</td>\n",
       "      <td>0</td>\n",
       "      <td>0</td>\n",
       "      <td>0</td>\n",
       "      <td>2</td>\n",
       "      <td>0</td>\n",
       "      <td>0</td>\n",
       "      <td>1</td>\n",
       "      <td>0</td>\n",
       "      <td>1</td>\n",
       "    </tr>\n",
       "    <tr>\n",
       "      <th>31382</th>\n",
       "      <td>4</td>\n",
       "      <td>3</td>\n",
       "      <td>6</td>\n",
       "      <td>0</td>\n",
       "      <td>1</td>\n",
       "      <td>0</td>\n",
       "      <td>2</td>\n",
       "      <td>0</td>\n",
       "      <td>0</td>\n",
       "      <td>2</td>\n",
       "      <td>0</td>\n",
       "      <td>1</td>\n",
       "    </tr>\n",
       "  </tbody>\n",
       "</table>\n",
       "<p>31383 rows × 12 columns</p>\n",
       "</div>"
      ],
      "text/plain": [
       "       Direction  County  Year  TOD  PeakHour  DayofWeek  MonthofYear  \\\n",
       "0              1       2     0    0         1          0            2   \n",
       "1              4       3     0    0         1          0            2   \n",
       "2              3       0     0    0         1          0            2   \n",
       "3              4       3     0    0         0          0            2   \n",
       "4              3       3     0    0         0          0            2   \n",
       "...          ...     ...   ...  ...       ...        ...          ...   \n",
       "31378          2       0     6    0         1          0            2   \n",
       "31379          3       3     6    0         1          0            2   \n",
       "31380          1       0     6    0         0          0            2   \n",
       "31381          1       1     6    0         0          0            2   \n",
       "31382          4       3     6    0         1          0            2   \n",
       "\n",
       "       Injury involved  Truck involved  Lane Closure Type  Fire involved  \\\n",
       "0                    0               0                  1              1   \n",
       "1                    0               0                  1              0   \n",
       "2                    0               0                  1              0   \n",
       "3                    0               0                  1              0   \n",
       "4                    0               0                  1              0   \n",
       "...                ...             ...                ...            ...   \n",
       "31378                0               0                  2              0   \n",
       "31379                0               0                  2              1   \n",
       "31380                0               0                  2              0   \n",
       "31381                0               0                  1              0   \n",
       "31382                0               0                  2              0   \n",
       "\n",
       "      Duration_class  \n",
       "0                  2  \n",
       "1                  1  \n",
       "2                  1  \n",
       "3                  2  \n",
       "4                  1  \n",
       "...              ...  \n",
       "31378              2  \n",
       "31379              5  \n",
       "31380              1  \n",
       "31381              1  \n",
       "31382              1  \n",
       "\n",
       "[31383 rows x 12 columns]"
      ]
     },
     "execution_count": 21,
     "metadata": {},
     "output_type": "execute_result"
    }
   ],
   "source": [
    "crash = pd.read_csv('crash_nyc.csv').reset_index().iloc[:,1:]\n",
    "disable = pd.read_csv('disable_nyc.csv').reset_index().iloc[:,1:]\n",
    "#crash['Duration_class']=pd.qcut(crash['Duration (min)'], 43, labels=False)\n",
    "#disable['Duration_class']=pd.qcut(disable['Duration (min)'], 43, labels=False)\n",
    "crash['Duration_class'] = pd.cut(crash['Duration (min)'], [0,30,60,90,120,220], right=True, labels=[1,2,3,4,5])\n",
    "disable['Duration_class'] = pd.cut(disable['Duration (min)'], [0,30,60,90,120,220], right=True, labels=[1,2,3,4,5])\n",
    "# crash['Duration_class'] = pd.cut(crash['Duration (min)'], [0,10,20,30,60,220], right=True, labels=[0,1,2,3,4])\n",
    "# disable['Duration_class'] = pd.cut(disable['Duration (min)'], [0,10,20,30,60,220], right=True, labels=[0,1,2,3,4])\n",
    "\n",
    "\n",
    "crash['Duration_encode'] = LabelEncoder().fit_transform(crash['Duration (min)'])\n",
    "disable['Duration_encode'] = LabelEncoder().fit_transform(disable['Duration (min)'])\n",
    "\n",
    "column_clear = ['Direction','County', 'Year', 'TOD', 'PeakHour',\n",
    "       'DayofWeek', 'MonthofYear', 'Injury involved', 'Truck involved','Lane Closure Type',\n",
    "       'Fire involved', 'Duration_class']\n",
    "\n",
    "crash_withtime = pd.read_csv('crash_nyc.csv').reset_index().iloc[:,1:]\n",
    "disable_withtime = pd.read_csv('disable_nyc.csv').reset_index().iloc[:,1:]\n",
    "\n",
    "crash = crash[column_clear]\n",
    "disable = disable[column_clear]\n",
    "crash\n",
    "disable"
   ]
  },
  {
   "cell_type": "markdown",
   "id": "f6bc9096",
   "metadata": {},
   "source": [
    "# Bayesian Networks"
   ]
  },
  {
   "cell_type": "code",
   "execution_count": 151,
   "id": "ea04619b",
   "metadata": {},
   "outputs": [],
   "source": [
    "from pgmpy.estimators import BDeuScore, K2Score, BicScore,HillClimbSearch\n",
    "from pgmpy.estimators import BayesianEstimator\n",
    "from pgmpy.models import BayesianModel\n",
    "import bnlearn as bn"
   ]
  },
  {
   "cell_type": "code",
   "execution_count": 152,
   "id": "7498f77e",
   "metadata": {},
   "outputs": [],
   "source": [
    "input_data_crash = pd.read_csv('crash_nyc.csv')\n",
    "pretrain = input_data_crash[input_data_crash['Year']==0].reset_index()"
   ]
  },
  {
   "cell_type": "code",
   "execution_count": 153,
   "id": "8c2b9865",
   "metadata": {},
   "outputs": [],
   "source": [
    "column_clear = ['Direction','County', 'Year', 'TOD', 'PeakHour',\n",
    "       'DayofWeek', 'MonthofYear', 'Injury involved', 'Truck involved','Lane Closure Type',\n",
    "       'Fire involved', 'Duration (min)']\n",
    "pretrain = pretrain[column_clear]"
   ]
  },
  {
   "cell_type": "code",
   "execution_count": null,
   "id": "f2dff735",
   "metadata": {},
   "outputs": [],
   "source": []
  },
  {
   "cell_type": "code",
   "execution_count": null,
   "id": "2c179669",
   "metadata": {},
   "outputs": [],
   "source": []
  },
  {
   "cell_type": "code",
   "execution_count": null,
   "id": "856f7052",
   "metadata": {},
   "outputs": [],
   "source": []
  },
  {
   "cell_type": "code",
   "execution_count": null,
   "id": "6c3ec2bf",
   "metadata": {},
   "outputs": [],
   "source": []
  },
  {
   "cell_type": "code",
   "execution_count": null,
   "id": "3429fbf1",
   "metadata": {},
   "outputs": [],
   "source": []
  },
  {
   "cell_type": "code",
   "execution_count": null,
   "id": "3505d26c",
   "metadata": {},
   "outputs": [],
   "source": []
  },
  {
   "cell_type": "markdown",
   "id": "9e58e885",
   "metadata": {},
   "source": [
    "# XGBoost "
   ]
  },
  {
   "cell_type": "code",
   "execution_count": 154,
   "id": "a700f992",
   "metadata": {},
   "outputs": [],
   "source": [
    "from xgboost import XGBClassifier, XGBRegressor\n",
    "import xgboost as xgb\n",
    "from sklearn.model_selection import train_test_split\n",
    "from sklearn.metrics import mean_squared_error, mean_absolute_error, mean_absolute_percentage_error,accuracy_score\n"
   ]
  },
  {
   "cell_type": "code",
   "execution_count": 155,
   "id": "a888d2ef",
   "metadata": {},
   "outputs": [],
   "source": [
    "# input_col = ['Direction', 'County',\n",
    "#     'Year', 'Lane Closure Type', 'TOD', 'PeakHour',\n",
    "#        'DayofWeek', 'MonthofYear', 'Injury involved', 'Truck involved',\n",
    "#        'Fire involved']\n",
    "# output_col = ['Duration (min)']"
   ]
  },
  {
   "cell_type": "code",
   "execution_count": 156,
   "id": "fa4d8c33",
   "metadata": {},
   "outputs": [],
   "source": [
    "input_col = ['Direction', 'County', 'Lane Closure Type', 'TOD', 'PeakHour',\n",
    "       'DayofWeek', 'MonthofYear', 'Injury involved', 'Truck involved',\n",
    "       'Fire involved']\n",
    "output_col = ['Duration_class']"
   ]
  },
  {
   "cell_type": "code",
   "execution_count": 157,
   "id": "6cb3c07a",
   "metadata": {},
   "outputs": [],
   "source": [
    "# df_input = input_data_crash[input_col]\n",
    "# df_output = input_data_crash[output_col]\n",
    "# # Splitting the samples\n",
    "# X_train, X_rem, y_train, y_rem = train_test_split(df_input, df_output, train_size=0.9, random_state=55)\n",
    "# X_val, X_test, y_val, y_test = train_test_split(X_rem, y_rem, test_size=0.5, random_state=55)\n",
    "\n",
    "# training_data = {'X_train':X_train,'Y_train':y_train,\n",
    "#                 'X_val': X_val,'Y_val':y_val,\n",
    "#                 'X_test': X_test,'Y_test':y_test}"
   ]
  },
  {
   "cell_type": "code",
   "execution_count": 158,
   "id": "982cbfa9",
   "metadata": {},
   "outputs": [],
   "source": [
    "crash_pretrain = crash[crash['Year']==0]\n",
    "df_input = crash_pretrain[input_col]\n",
    "df_output = crash_pretrain[output_col]\n",
    "test_input = crash[input_col]"
   ]
  },
  {
   "cell_type": "code",
   "execution_count": 159,
   "id": "24f4f981",
   "metadata": {},
   "outputs": [
    {
     "name": "stdout",
     "output_type": "stream",
     "text": [
      "[14:29:20] WARNING: /opt/concourse/worker/volumes/live/7a2b9f41-3287-451b-6691-43e9a6c0910f/volume/xgboost-split_1619728204606/work/src/learner.cc:541: \n",
      "Parameters: { scale_pos_weight } might not be used.\n",
      "\n",
      "  This may not be accurate due to some parameters are only used in language bindings but\n",
      "  passed down to XGBoost core.  Or some parameters are not used but slip through this\n",
      "  verification. Please open an issue if you find above cases.\n",
      "\n",
      "\n",
      "[14:29:20] WARNING: /opt/concourse/worker/volumes/live/7a2b9f41-3287-451b-6691-43e9a6c0910f/volume/xgboost-split_1619728204606/work/src/learner.cc:1061: Starting in XGBoost 1.3.0, the default evaluation metric used with the objective 'multi:softprob' was changed from 'merror' to 'mlogloss'. Explicitly set eval_metric if you'd like to restore the old behavior.\n"
     ]
    }
   ],
   "source": [
    "xgb_class = XGBClassifier(n_estimators=1000,learning_rate=0.1,max_depth=6,scale_pos_weight=80)\n",
    "xgb_class.fit(df_input, df_output)\n",
    "predicted=xgb_class.predict(test_input)"
   ]
  },
  {
   "cell_type": "code",
   "execution_count": 240,
   "id": "389b658f",
   "metadata": {},
   "outputs": [],
   "source": [
    "crash_onetime = copy.deepcopy(crash)"
   ]
  },
  {
   "cell_type": "code",
   "execution_count": 241,
   "id": "c7ac71aa",
   "metadata": {},
   "outputs": [],
   "source": [
    "#predict based on each month\n",
    "crash_onetime['Pred_Duration'] = predicted\n",
    "#crash['Pred_Score'] = [accuracy_score(i,j) for i,j in zip(list(crash['Duration_class']), predicted)]\n",
    "crash_onetime['timestamp'] = crash_withtime['Start Date Time']"
   ]
  },
  {
   "cell_type": "code",
   "execution_count": 245,
   "id": "10899255",
   "metadata": {},
   "outputs": [],
   "source": [
    "#crash_test = crash_onetime[crash_onetime['Year']!=0]\n",
    "crash_test = crash_onetime\n",
    "crash_test['Month'] = [i.month for i in pd.to_datetime(crash_test['timestamp'])]\n",
    "acc_onetime = []\n",
    "\n",
    "for y in np.arange(1,7):\n",
    "    for m in np.arange(1,13):\n",
    "        obslist = crash_test[(crash_test['Year']==y) & (crash_test['Month']==m)]['Duration_class']\n",
    "        predlist = crash_test[(crash_test['Year']==y) & (crash_test['Month']==m)]['Pred_Duration']\n",
    "        acc_onetime.append(accuracy_score(obslist, predlist))\n",
    "    \n",
    "    "
   ]
  },
  {
   "cell_type": "code",
   "execution_count": 246,
   "id": "80a1043c",
   "metadata": {},
   "outputs": [
    {
     "data": {
      "text/plain": [
       "[<matplotlib.lines.Line2D at 0x7f96580c8f40>]"
      ]
     },
     "execution_count": 246,
     "metadata": {},
     "output_type": "execute_result"
    },
    {
     "data": {
      "image/png": "[encoded data removed]",
      "text/plain": [
       "<Figure size 432x288 with 1 Axes>"
      ]
     },
     "metadata": {
      "needs_background": "light"
     },
     "output_type": "display_data"
    }
   ],
   "source": [
    "acc_onetime\n",
    "plt.plot(acc_onetime)"
   ]
  },
  {
   "cell_type": "code",
   "execution_count": 249,
   "id": "4f1245f9",
   "metadata": {},
   "outputs": [
    {
     "data": {
      "text/html": [
       "<div>\n",
       "<style scoped>\n",
       "    .dataframe tbody tr th:only-of-type {\n",
       "        vertical-align: middle;\n",
       "    }\n",
       "\n",
       "    .dataframe tbody tr th {\n",
       "        vertical-align: top;\n",
       "    }\n",
       "\n",
       "    .dataframe thead th {\n",
       "        text-align: right;\n",
       "    }\n",
       "</style>\n",
       "<table border=\"1\" class=\"dataframe\">\n",
       "  <thead>\n",
       "    <tr style=\"text-align: right;\">\n",
       "      <th></th>\n",
       "      <th>Direction</th>\n",
       "      <th>County</th>\n",
       "      <th>Year</th>\n",
       "      <th>TOD</th>\n",
       "      <th>PeakHour</th>\n",
       "      <th>DayofWeek</th>\n",
       "      <th>MonthofYear</th>\n",
       "      <th>Injury involved</th>\n",
       "      <th>Truck involved</th>\n",
       "      <th>Lane Closure Type</th>\n",
       "      <th>Fire involved</th>\n",
       "      <th>Duration_class</th>\n",
       "    </tr>\n",
       "  </thead>\n",
       "  <tbody>\n",
       "    <tr>\n",
       "      <th>0</th>\n",
       "      <td>3</td>\n",
       "      <td>0</td>\n",
       "      <td>0</td>\n",
       "      <td>1</td>\n",
       "      <td>0</td>\n",
       "      <td>0</td>\n",
       "      <td>2</td>\n",
       "      <td>0</td>\n",
       "      <td>0</td>\n",
       "      <td>3</td>\n",
       "      <td>0</td>\n",
       "      <td>1</td>\n",
       "    </tr>\n",
       "    <tr>\n",
       "      <th>1</th>\n",
       "      <td>1</td>\n",
       "      <td>2</td>\n",
       "      <td>0</td>\n",
       "      <td>1</td>\n",
       "      <td>0</td>\n",
       "      <td>0</td>\n",
       "      <td>2</td>\n",
       "      <td>0</td>\n",
       "      <td>0</td>\n",
       "      <td>1</td>\n",
       "      <td>0</td>\n",
       "      <td>3</td>\n",
       "    </tr>\n",
       "    <tr>\n",
       "      <th>2</th>\n",
       "      <td>0</td>\n",
       "      <td>3</td>\n",
       "      <td>0</td>\n",
       "      <td>1</td>\n",
       "      <td>0</td>\n",
       "      <td>0</td>\n",
       "      <td>2</td>\n",
       "      <td>0</td>\n",
       "      <td>0</td>\n",
       "      <td>3</td>\n",
       "      <td>0</td>\n",
       "      <td>4</td>\n",
       "    </tr>\n",
       "    <tr>\n",
       "      <th>3</th>\n",
       "      <td>3</td>\n",
       "      <td>0</td>\n",
       "      <td>0</td>\n",
       "      <td>1</td>\n",
       "      <td>0</td>\n",
       "      <td>0</td>\n",
       "      <td>2</td>\n",
       "      <td>0</td>\n",
       "      <td>0</td>\n",
       "      <td>2</td>\n",
       "      <td>0</td>\n",
       "      <td>2</td>\n",
       "    </tr>\n",
       "    <tr>\n",
       "      <th>4</th>\n",
       "      <td>1</td>\n",
       "      <td>1</td>\n",
       "      <td>0</td>\n",
       "      <td>1</td>\n",
       "      <td>0</td>\n",
       "      <td>0</td>\n",
       "      <td>2</td>\n",
       "      <td>0</td>\n",
       "      <td>0</td>\n",
       "      <td>2</td>\n",
       "      <td>0</td>\n",
       "      <td>2</td>\n",
       "    </tr>\n",
       "    <tr>\n",
       "      <th>...</th>\n",
       "      <td>...</td>\n",
       "      <td>...</td>\n",
       "      <td>...</td>\n",
       "      <td>...</td>\n",
       "      <td>...</td>\n",
       "      <td>...</td>\n",
       "      <td>...</td>\n",
       "      <td>...</td>\n",
       "      <td>...</td>\n",
       "      <td>...</td>\n",
       "      <td>...</td>\n",
       "      <td>...</td>\n",
       "    </tr>\n",
       "    <tr>\n",
       "      <th>48823</th>\n",
       "      <td>1</td>\n",
       "      <td>1</td>\n",
       "      <td>6</td>\n",
       "      <td>0</td>\n",
       "      <td>0</td>\n",
       "      <td>0</td>\n",
       "      <td>2</td>\n",
       "      <td>0</td>\n",
       "      <td>0</td>\n",
       "      <td>1</td>\n",
       "      <td>0</td>\n",
       "      <td>1</td>\n",
       "    </tr>\n",
       "    <tr>\n",
       "      <th>48824</th>\n",
       "      <td>1</td>\n",
       "      <td>2</td>\n",
       "      <td>6</td>\n",
       "      <td>0</td>\n",
       "      <td>1</td>\n",
       "      <td>0</td>\n",
       "      <td>2</td>\n",
       "      <td>0</td>\n",
       "      <td>0</td>\n",
       "      <td>2</td>\n",
       "      <td>0</td>\n",
       "      <td>1</td>\n",
       "    </tr>\n",
       "    <tr>\n",
       "      <th>48825</th>\n",
       "      <td>1</td>\n",
       "      <td>2</td>\n",
       "      <td>6</td>\n",
       "      <td>0</td>\n",
       "      <td>1</td>\n",
       "      <td>0</td>\n",
       "      <td>2</td>\n",
       "      <td>0</td>\n",
       "      <td>0</td>\n",
       "      <td>3</td>\n",
       "      <td>0</td>\n",
       "      <td>1</td>\n",
       "    </tr>\n",
       "    <tr>\n",
       "      <th>48826</th>\n",
       "      <td>3</td>\n",
       "      <td>0</td>\n",
       "      <td>6</td>\n",
       "      <td>0</td>\n",
       "      <td>1</td>\n",
       "      <td>0</td>\n",
       "      <td>2</td>\n",
       "      <td>0</td>\n",
       "      <td>0</td>\n",
       "      <td>2</td>\n",
       "      <td>0</td>\n",
       "      <td>3</td>\n",
       "    </tr>\n",
       "    <tr>\n",
       "      <th>48827</th>\n",
       "      <td>3</td>\n",
       "      <td>0</td>\n",
       "      <td>6</td>\n",
       "      <td>1</td>\n",
       "      <td>0</td>\n",
       "      <td>0</td>\n",
       "      <td>2</td>\n",
       "      <td>0</td>\n",
       "      <td>0</td>\n",
       "      <td>2</td>\n",
       "      <td>0</td>\n",
       "      <td>2</td>\n",
       "    </tr>\n",
       "  </tbody>\n",
       "</table>\n",
       "<p>48828 rows × 12 columns</p>\n",
       "</div>"
      ],
      "text/plain": [
       "       Direction  County  Year  TOD  PeakHour  DayofWeek  MonthofYear  \\\n",
       "0              3       0     0    1         0          0            2   \n",
       "1              1       2     0    1         0          0            2   \n",
       "2              0       3     0    1         0          0            2   \n",
       "3              3       0     0    1         0          0            2   \n",
       "4              1       1     0    1         0          0            2   \n",
       "...          ...     ...   ...  ...       ...        ...          ...   \n",
       "48823          1       1     6    0         0          0            2   \n",
       "48824          1       2     6    0         1          0            2   \n",
       "48825          1       2     6    0         1          0            2   \n",
       "48826          3       0     6    0         1          0            2   \n",
       "48827          3       0     6    1         0          0            2   \n",
       "\n",
       "       Injury involved  Truck involved  Lane Closure Type  Fire involved  \\\n",
       "0                    0               0                  3              0   \n",
       "1                    0               0                  1              0   \n",
       "2                    0               0                  3              0   \n",
       "3                    0               0                  2              0   \n",
       "4                    0               0                  2              0   \n",
       "...                ...             ...                ...            ...   \n",
       "48823                0               0                  1              0   \n",
       "48824                0               0                  2              0   \n",
       "48825                0               0                  3              0   \n",
       "48826                0               0                  2              0   \n",
       "48827                0               0                  2              0   \n",
       "\n",
       "      Duration_class  \n",
       "0                  1  \n",
       "1                  3  \n",
       "2                  4  \n",
       "3                  2  \n",
       "4                  2  \n",
       "...              ...  \n",
       "48823              1  \n",
       "48824              1  \n",
       "48825              1  \n",
       "48826              3  \n",
       "48827              2  \n",
       "\n",
       "[48828 rows x 12 columns]"
      ]
     },
     "execution_count": 249,
     "metadata": {},
     "output_type": "execute_result"
    }
   ],
   "source": [
    "crash"
   ]
  },
  {
   "cell_type": "markdown",
   "id": "bd00fe25",
   "metadata": {},
   "source": [
    "# Adaptive training stage"
   ]
  },
  {
   "cell_type": "code",
   "execution_count": 299,
   "id": "c1c733e8",
   "metadata": {},
   "outputs": [],
   "source": [
    "crash['timestamp'] = pd.to_datetime(crash_withtime['Start Date Time'])"
   ]
  },
  {
   "cell_type": "code",
   "execution_count": 371,
   "id": "52f213fc",
   "metadata": {},
   "outputs": [],
   "source": [
    "crash_pretrain = crash[crash['timestamp']<datelist[result[4]-1]]\n",
    "#crash_pretrain = crash[(crash['timestamp']>=datelist[11])&(crash['timestamp']<datelist[result[0]-1])]\n",
    "#crash_pretrain = crash[(crash['timestamp']>=datelist[result[0]-1])&(crash['timestamp']<datelist[result[0]+2])]\n",
    "df_input = crash_pretrain[input_col]\n",
    "df_output = crash_pretrain[output_col]\n",
    "# test_input = crash[(crash['timestamp']>=datelist[result[0]-1]) & (crash['timestamp']<datelist[result[1]-1])][input_col]\n",
    "# test_output = crash[(crash['timestamp']>=datelist[result[0]-1]) & (crash['timestamp']<datelist[result[1]-1])][output_col]\n",
    "test_input = crash[input_col]\n",
    "\n"
   ]
  },
  {
   "cell_type": "code",
   "execution_count": 372,
   "id": "2c950d0c",
   "metadata": {},
   "outputs": [
    {
     "data": {
      "text/html": [
       "<div>\n",
       "<style scoped>\n",
       "    .dataframe tbody tr th:only-of-type {\n",
       "        vertical-align: middle;\n",
       "    }\n",
       "\n",
       "    .dataframe tbody tr th {\n",
       "        vertical-align: top;\n",
       "    }\n",
       "\n",
       "    .dataframe thead th {\n",
       "        text-align: right;\n",
       "    }\n",
       "</style>\n",
       "<table border=\"1\" class=\"dataframe\">\n",
       "  <thead>\n",
       "    <tr style=\"text-align: right;\">\n",
       "      <th></th>\n",
       "      <th>Direction</th>\n",
       "      <th>County</th>\n",
       "      <th>Lane Closure Type</th>\n",
       "      <th>TOD</th>\n",
       "      <th>PeakHour</th>\n",
       "      <th>DayofWeek</th>\n",
       "      <th>MonthofYear</th>\n",
       "      <th>Injury involved</th>\n",
       "      <th>Truck involved</th>\n",
       "      <th>Fire involved</th>\n",
       "    </tr>\n",
       "  </thead>\n",
       "  <tbody>\n",
       "    <tr>\n",
       "      <th>0</th>\n",
       "      <td>3</td>\n",
       "      <td>0</td>\n",
       "      <td>3</td>\n",
       "      <td>1</td>\n",
       "      <td>0</td>\n",
       "      <td>0</td>\n",
       "      <td>2</td>\n",
       "      <td>0</td>\n",
       "      <td>0</td>\n",
       "      <td>0</td>\n",
       "    </tr>\n",
       "    <tr>\n",
       "      <th>1</th>\n",
       "      <td>1</td>\n",
       "      <td>2</td>\n",
       "      <td>1</td>\n",
       "      <td>1</td>\n",
       "      <td>0</td>\n",
       "      <td>0</td>\n",
       "      <td>2</td>\n",
       "      <td>0</td>\n",
       "      <td>0</td>\n",
       "      <td>0</td>\n",
       "    </tr>\n",
       "    <tr>\n",
       "      <th>2</th>\n",
       "      <td>0</td>\n",
       "      <td>3</td>\n",
       "      <td>3</td>\n",
       "      <td>1</td>\n",
       "      <td>0</td>\n",
       "      <td>0</td>\n",
       "      <td>2</td>\n",
       "      <td>0</td>\n",
       "      <td>0</td>\n",
       "      <td>0</td>\n",
       "    </tr>\n",
       "    <tr>\n",
       "      <th>3</th>\n",
       "      <td>3</td>\n",
       "      <td>0</td>\n",
       "      <td>2</td>\n",
       "      <td>1</td>\n",
       "      <td>0</td>\n",
       "      <td>0</td>\n",
       "      <td>2</td>\n",
       "      <td>0</td>\n",
       "      <td>0</td>\n",
       "      <td>0</td>\n",
       "    </tr>\n",
       "    <tr>\n",
       "      <th>4</th>\n",
       "      <td>1</td>\n",
       "      <td>1</td>\n",
       "      <td>2</td>\n",
       "      <td>1</td>\n",
       "      <td>0</td>\n",
       "      <td>0</td>\n",
       "      <td>2</td>\n",
       "      <td>0</td>\n",
       "      <td>0</td>\n",
       "      <td>0</td>\n",
       "    </tr>\n",
       "    <tr>\n",
       "      <th>...</th>\n",
       "      <td>...</td>\n",
       "      <td>...</td>\n",
       "      <td>...</td>\n",
       "      <td>...</td>\n",
       "      <td>...</td>\n",
       "      <td>...</td>\n",
       "      <td>...</td>\n",
       "      <td>...</td>\n",
       "      <td>...</td>\n",
       "      <td>...</td>\n",
       "    </tr>\n",
       "    <tr>\n",
       "      <th>48823</th>\n",
       "      <td>1</td>\n",
       "      <td>1</td>\n",
       "      <td>1</td>\n",
       "      <td>0</td>\n",
       "      <td>0</td>\n",
       "      <td>0</td>\n",
       "      <td>2</td>\n",
       "      <td>0</td>\n",
       "      <td>0</td>\n",
       "      <td>0</td>\n",
       "    </tr>\n",
       "    <tr>\n",
       "      <th>48824</th>\n",
       "      <td>1</td>\n",
       "      <td>2</td>\n",
       "      <td>2</td>\n",
       "      <td>0</td>\n",
       "      <td>1</td>\n",
       "      <td>0</td>\n",
       "      <td>2</td>\n",
       "      <td>0</td>\n",
       "      <td>0</td>\n",
       "      <td>0</td>\n",
       "    </tr>\n",
       "    <tr>\n",
       "      <th>48825</th>\n",
       "      <td>1</td>\n",
       "      <td>2</td>\n",
       "      <td>3</td>\n",
       "      <td>0</td>\n",
       "      <td>1</td>\n",
       "      <td>0</td>\n",
       "      <td>2</td>\n",
       "      <td>0</td>\n",
       "      <td>0</td>\n",
       "      <td>0</td>\n",
       "    </tr>\n",
       "    <tr>\n",
       "      <th>48826</th>\n",
       "      <td>3</td>\n",
       "      <td>0</td>\n",
       "      <td>2</td>\n",
       "      <td>0</td>\n",
       "      <td>1</td>\n",
       "      <td>0</td>\n",
       "      <td>2</td>\n",
       "      <td>0</td>\n",
       "      <td>0</td>\n",
       "      <td>0</td>\n",
       "    </tr>\n",
       "    <tr>\n",
       "      <th>48827</th>\n",
       "      <td>3</td>\n",
       "      <td>0</td>\n",
       "      <td>2</td>\n",
       "      <td>1</td>\n",
       "      <td>0</td>\n",
       "      <td>0</td>\n",
       "      <td>2</td>\n",
       "      <td>0</td>\n",
       "      <td>0</td>\n",
       "      <td>0</td>\n",
       "    </tr>\n",
       "  </tbody>\n",
       "</table>\n",
       "<p>48828 rows × 10 columns</p>\n",
       "</div>"
      ],
      "text/plain": [
       "       Direction  County  Lane Closure Type  TOD  PeakHour  DayofWeek  \\\n",
       "0              3       0                  3    1         0          0   \n",
       "1              1       2                  1    1         0          0   \n",
       "2              0       3                  3    1         0          0   \n",
       "3              3       0                  2    1         0          0   \n",
       "4              1       1                  2    1         0          0   \n",
       "...          ...     ...                ...  ...       ...        ...   \n",
       "48823          1       1                  1    0         0          0   \n",
       "48824          1       2                  2    0         1          0   \n",
       "48825          1       2                  3    0         1          0   \n",
       "48826          3       0                  2    0         1          0   \n",
       "48827          3       0                  2    1         0          0   \n",
       "\n",
       "       MonthofYear  Injury involved  Truck involved  Fire involved  \n",
       "0                2                0               0              0  \n",
       "1                2                0               0              0  \n",
       "2                2                0               0              0  \n",
       "3                2                0               0              0  \n",
       "4                2                0               0              0  \n",
       "...            ...              ...             ...            ...  \n",
       "48823            2                0               0              0  \n",
       "48824            2                0               0              0  \n",
       "48825            2                0               0              0  \n",
       "48826            2                0               0              0  \n",
       "48827            2                0               0              0  \n",
       "\n",
       "[48828 rows x 10 columns]"
      ]
     },
     "execution_count": 372,
     "metadata": {},
     "output_type": "execute_result"
    }
   ],
   "source": [
    "result\n",
    "test_input"
   ]
  },
  {
   "cell_type": "code",
   "execution_count": 373,
   "id": "3263de3d",
   "metadata": {},
   "outputs": [
    {
     "name": "stdout",
     "output_type": "stream",
     "text": [
      "[20:26:38] WARNING: /opt/concourse/worker/volumes/live/7a2b9f41-3287-451b-6691-43e9a6c0910f/volume/xgboost-split_1619728204606/work/src/learner.cc:541: \n",
      "Parameters: { scale_pos_weight } might not be used.\n",
      "\n",
      "  This may not be accurate due to some parameters are only used in language bindings but\n",
      "  passed down to XGBoost core.  Or some parameters are not used but slip through this\n",
      "  verification. Please open an issue if you find above cases.\n",
      "\n",
      "\n",
      "[20:26:38] WARNING: /opt/concourse/worker/volumes/live/7a2b9f41-3287-451b-6691-43e9a6c0910f/volume/xgboost-split_1619728204606/work/src/learner.cc:1061: Starting in XGBoost 1.3.0, the default evaluation metric used with the objective 'multi:softprob' was changed from 'merror' to 'mlogloss'. Explicitly set eval_metric if you'd like to restore the old behavior.\n"
     ]
    }
   ],
   "source": [
    "xgb_class = XGBClassifier(n_estimators=1000,learning_rate=0.1,max_depth=6,scale_pos_weight=80)\n",
    "xgb_class.fit(df_input, df_output)\n",
    "predicted=xgb_class.predict(test_input)"
   ]
  },
  {
   "cell_type": "code",
   "execution_count": 374,
   "id": "b7abd52e",
   "metadata": {},
   "outputs": [],
   "source": [
    "crash_adapt = copy.deepcopy(crash)"
   ]
  },
  {
   "cell_type": "code",
   "execution_count": 375,
   "id": "75859938",
   "metadata": {},
   "outputs": [],
   "source": [
    "#predict based on each month\n",
    "crash_adapt['Pred_Duration'] = predicted\n",
    "#crash['Pred_Score'] = [accuracy_score(i,j) for i,j in zip(list(crash['Duration_class']), predicted)]\n",
    "crash_adapt['timestamp'] = crash_withtime['Start Date Time']"
   ]
  },
  {
   "cell_type": "code",
   "execution_count": 376,
   "id": "6301c64d",
   "metadata": {},
   "outputs": [],
   "source": [
    "#crash_test = crash_onetime[crash_onetime['Year']!=0]\n",
    "crash_test = crash_adapt\n",
    "crash_test['Month'] = [i.month for i in pd.to_datetime(crash_test['timestamp'])]\n",
    "acc_adapt = []\n",
    "\n",
    "for y in np.arange(1,7):\n",
    "    for m in np.arange(1,13):\n",
    "        obslist = crash_test[(crash_test['Year']==y) & (crash_test['Month']==m)]['Duration_class']\n",
    "        predlist = crash_test[(crash_test['Year']==y) & (crash_test['Month']==m)]['Pred_Duration']\n",
    "        acc_adapt.append(accuracy_score(obslist, predlist))\n",
    "    "
   ]
  },
  {
   "cell_type": "code",
   "execution_count": 377,
   "id": "412b1f44",
   "metadata": {},
   "outputs": [
    {
     "data": {
      "text/plain": [
       "[<matplotlib.lines.Line2D at 0x7f967274e3d0>]"
      ]
     },
     "execution_count": 377,
     "metadata": {},
     "output_type": "execute_result"
    },
    {
     "data": {
      "image/png": "[encoded data removed]",
      "text/plain": [
       "<Figure size 432x288 with 1 Axes>"
      ]
     },
     "metadata": {
      "needs_background": "light"
     },
     "output_type": "display_data"
    }
   ],
   "source": [
    "acc_adapt[:59]\n",
    "acc_onetime[:59]\n",
    "plt.plot(acc_onetime[:59],color=\"black\",linewidth=1)\n",
    "plt.plot(acc_adapt[:59],color=\"red\",linewidth=1)\n",
    "\n",
    "# acc_diff = np.asarray(acc_adapt)-np.asarray(acc_onetime)\n",
    "# plt.plot(acc_diff[:44]*100)"
   ]
  },
  {
   "cell_type": "code",
   "execution_count": 378,
   "id": "8a6bb686",
   "metadata": {},
   "outputs": [
    {
     "data": {
      "text/plain": [
       "[<matplotlib.lines.Line2D at 0x7f96bc7c81f0>]"
      ]
     },
     "execution_count": 378,
     "metadata": {},
     "output_type": "execute_result"
    },
    {
     "data": {
      "image/png": "[encoded data removed]",
      "text/plain": [
       "<Figure size 432x288 with 1 Axes>"
      ]
     },
     "metadata": {
      "needs_background": "light"
     },
     "output_type": "display_data"
    }
   ],
   "source": [
    "acc_diff = np.asarray(acc_adapt)-np.asarray(acc_onetime)\n",
    "plt.plot(acc_diff[:44]*100)"
   ]
  },
  {
   "cell_type": "code",
   "execution_count": 340,
   "id": "d355e1c2",
   "metadata": {},
   "outputs": [],
   "source": [
    "acc_diff_1 = acc_diff.copy() #30-45"
   ]
  },
  {
   "cell_type": "code",
   "execution_count": 351,
   "id": "b1a91dce",
   "metadata": {},
   "outputs": [],
   "source": [
    "acc_diff_2 = acc_diff.copy() #45-60"
   ]
  },
  {
   "cell_type": "code",
   "execution_count": 361,
   "id": "6800bd65",
   "metadata": {},
   "outputs": [],
   "source": [
    "acc_diff_3 = acc_diff.copy() #60-65"
   ]
  },
  {
   "cell_type": "code",
   "execution_count": 370,
   "id": "2cf536c1",
   "metadata": {},
   "outputs": [],
   "source": [
    "acc_diff_4 = acc_diff.copy() #65-75"
   ]
  },
  {
   "cell_type": "code",
   "execution_count": 379,
   "id": "675161ea",
   "metadata": {},
   "outputs": [],
   "source": [
    "acc_diff_5 = acc_diff.copy() #75-84"
   ]
  },
  {
   "cell_type": "code",
   "execution_count": 352,
   "id": "a7861d8a",
   "metadata": {},
   "outputs": [
    {
     "data": {
      "text/plain": [
       "[30, 45, 60, 65, 75, 84]"
      ]
     },
     "execution_count": 352,
     "metadata": {},
     "output_type": "execute_result"
    }
   ],
   "source": [
    "result"
   ]
  },
  {
   "cell_type": "code",
   "execution_count": 386,
   "id": "8c46ba6c",
   "metadata": {},
   "outputs": [],
   "source": [
    "update_acc_diff = []\n",
    "update_acc_diff.append(acc_diff_1[29-12:44-12])\n",
    "update_acc_diff.append(acc_diff_2[44-12:59-12])\n",
    "update_acc_diff.append(acc_diff_3[59-12:64-12])\n",
    "update_acc_diff.append(acc_diff_4[64-12:74-12])\n",
    "update_acc_diff.append(acc_diff_5[74-12:83-12])"
   ]
  },
  {
   "cell_type": "code",
   "execution_count": 395,
   "id": "3007bfde",
   "metadata": {},
   "outputs": [],
   "source": [
    "update_acc_diff = list(acc_diff_1[29-12:44-12])+list(acc_diff_2[44-12:59-12])+list(acc_diff_3[59-12:64-12])+list(acc_diff_4[64-12:74-12])+list(acc_diff_5[74-12:83-12])"
   ]
  },
  {
   "cell_type": "code",
   "execution_count": 30,
   "id": "722e7fdb",
   "metadata": {},
   "outputs": [],
   "source": [
    "# update_acc_diff"
   ]
  },
  {
   "cell_type": "code",
   "execution_count": 83,
   "id": "e5d34e35",
   "metadata": {},
   "outputs": [
    {
     "name": "stdout",
     "output_type": "stream",
     "text": [
      "[07:36:11] WARNING: /opt/concourse/worker/volumes/live/7a2b9f41-3287-451b-6691-43e9a6c0910f/volume/xgboost-split_1619728204606/work/src/learner.cc:541: \n",
      "Parameters: { criterion, max_samples, min_samples_split, verbose } might not be used.\n",
      "\n",
      "  This may not be accurate due to some parameters are only used in language bindings but\n",
      "  passed down to XGBoost core.  Or some parameters are not used but slip through this\n",
      "  verification. Please open an issue if you find above cases.\n",
      "\n",
      "\n",
      "1.2112757855679699\n"
     ]
    }
   ],
   "source": [
    "# Machine Learning Model\n",
    "\n",
    "#xgb=XGBRegressor(n_estimators=1000,learning_rate=0.1,max_depth=6,scale_pos_weight=80)\n",
    "xgb=XGBRegressor(n_estimators = 1000, n_jobs=-1, verbose=2, criterion=\"mae\", max_depth=6, min_samples_split=3, max_samples=100)\n",
    "\n",
    "#rf=XGBClassifier(param)\n",
    "xgb.fit(X_train, y_train)\n",
    "predicted=xgb.predict(X_test)\n",
    "\n",
    "# Finding RMSE\n",
    "rmse=mean_squared_error(y_test, predicted, squared=False)\n",
    "mae=mean_absolute_error(y_test, predicted)\n",
    "mape = mean_absolute_percentage_error(y_test, predicted)\n",
    "print(mape)"
   ]
  },
  {
   "cell_type": "code",
   "execution_count": 92,
   "id": "ae3abeea",
   "metadata": {},
   "outputs": [
    {
     "data": {
      "text/html": [
       "<div>\n",
       "<style scoped>\n",
       "    .dataframe tbody tr th:only-of-type {\n",
       "        vertical-align: middle;\n",
       "    }\n",
       "\n",
       "    .dataframe tbody tr th {\n",
       "        vertical-align: top;\n",
       "    }\n",
       "\n",
       "    .dataframe thead th {\n",
       "        text-align: right;\n",
       "    }\n",
       "</style>\n",
       "<table border=\"1\" class=\"dataframe\">\n",
       "  <thead>\n",
       "    <tr style=\"text-align: right;\">\n",
       "      <th></th>\n",
       "      <th>Unnamed: 0</th>\n",
       "      <th>Facility</th>\n",
       "      <th>Incident Type</th>\n",
       "      <th>Direction</th>\n",
       "      <th>County</th>\n",
       "      <th>Year</th>\n",
       "      <th>TOD</th>\n",
       "      <th>PeakHour</th>\n",
       "      <th>DayofWeek</th>\n",
       "      <th>MonthofYear</th>\n",
       "      <th>Injury involved</th>\n",
       "      <th>Truck involved</th>\n",
       "      <th>Lane Closure Type</th>\n",
       "      <th>Fire involved</th>\n",
       "      <th>Duration (min)</th>\n",
       "    </tr>\n",
       "  </thead>\n",
       "  <tbody>\n",
       "    <tr>\n",
       "      <th>0</th>\n",
       "      <td>0</td>\n",
       "      <td>268</td>\n",
       "      <td>0</td>\n",
       "      <td>5</td>\n",
       "      <td>2</td>\n",
       "      <td>0</td>\n",
       "      <td>1</td>\n",
       "      <td>0</td>\n",
       "      <td>0</td>\n",
       "      <td>2</td>\n",
       "      <td>0</td>\n",
       "      <td>0</td>\n",
       "      <td>3</td>\n",
       "      <td>0</td>\n",
       "      <td>22.0</td>\n",
       "    </tr>\n",
       "    <tr>\n",
       "      <th>1</th>\n",
       "      <td>1</td>\n",
       "      <td>268</td>\n",
       "      <td>3</td>\n",
       "      <td>3</td>\n",
       "      <td>2</td>\n",
       "      <td>0</td>\n",
       "      <td>1</td>\n",
       "      <td>0</td>\n",
       "      <td>0</td>\n",
       "      <td>2</td>\n",
       "      <td>0</td>\n",
       "      <td>0</td>\n",
       "      <td>2</td>\n",
       "      <td>0</td>\n",
       "      <td>12.0</td>\n",
       "    </tr>\n",
       "    <tr>\n",
       "      <th>2</th>\n",
       "      <td>4</td>\n",
       "      <td>301</td>\n",
       "      <td>0</td>\n",
       "      <td>5</td>\n",
       "      <td>2</td>\n",
       "      <td>0</td>\n",
       "      <td>1</td>\n",
       "      <td>0</td>\n",
       "      <td>0</td>\n",
       "      <td>2</td>\n",
       "      <td>0</td>\n",
       "      <td>0</td>\n",
       "      <td>2</td>\n",
       "      <td>0</td>\n",
       "      <td>42.0</td>\n",
       "    </tr>\n",
       "    <tr>\n",
       "      <th>3</th>\n",
       "      <td>5</td>\n",
       "      <td>321</td>\n",
       "      <td>0</td>\n",
       "      <td>2</td>\n",
       "      <td>1</td>\n",
       "      <td>0</td>\n",
       "      <td>1</td>\n",
       "      <td>0</td>\n",
       "      <td>0</td>\n",
       "      <td>2</td>\n",
       "      <td>0</td>\n",
       "      <td>0</td>\n",
       "      <td>2</td>\n",
       "      <td>0</td>\n",
       "      <td>36.0</td>\n",
       "    </tr>\n",
       "    <tr>\n",
       "      <th>4</th>\n",
       "      <td>7</td>\n",
       "      <td>286</td>\n",
       "      <td>0</td>\n",
       "      <td>2</td>\n",
       "      <td>3</td>\n",
       "      <td>0</td>\n",
       "      <td>1</td>\n",
       "      <td>0</td>\n",
       "      <td>0</td>\n",
       "      <td>2</td>\n",
       "      <td>0</td>\n",
       "      <td>0</td>\n",
       "      <td>1</td>\n",
       "      <td>0</td>\n",
       "      <td>50.0</td>\n",
       "    </tr>\n",
       "    <tr>\n",
       "      <th>...</th>\n",
       "      <td>...</td>\n",
       "      <td>...</td>\n",
       "      <td>...</td>\n",
       "      <td>...</td>\n",
       "      <td>...</td>\n",
       "      <td>...</td>\n",
       "      <td>...</td>\n",
       "      <td>...</td>\n",
       "      <td>...</td>\n",
       "      <td>...</td>\n",
       "      <td>...</td>\n",
       "      <td>...</td>\n",
       "      <td>...</td>\n",
       "      <td>...</td>\n",
       "      <td>...</td>\n",
       "    </tr>\n",
       "    <tr>\n",
       "      <th>65011</th>\n",
       "      <td>96407</td>\n",
       "      <td>321</td>\n",
       "      <td>0</td>\n",
       "      <td>2</td>\n",
       "      <td>1</td>\n",
       "      <td>6</td>\n",
       "      <td>0</td>\n",
       "      <td>0</td>\n",
       "      <td>0</td>\n",
       "      <td>2</td>\n",
       "      <td>0</td>\n",
       "      <td>0</td>\n",
       "      <td>1</td>\n",
       "      <td>0</td>\n",
       "      <td>10.0</td>\n",
       "    </tr>\n",
       "    <tr>\n",
       "      <th>65012</th>\n",
       "      <td>96408</td>\n",
       "      <td>330</td>\n",
       "      <td>0</td>\n",
       "      <td>2</td>\n",
       "      <td>3</td>\n",
       "      <td>6</td>\n",
       "      <td>0</td>\n",
       "      <td>1</td>\n",
       "      <td>0</td>\n",
       "      <td>2</td>\n",
       "      <td>0</td>\n",
       "      <td>0</td>\n",
       "      <td>2</td>\n",
       "      <td>0</td>\n",
       "      <td>15.0</td>\n",
       "    </tr>\n",
       "    <tr>\n",
       "      <th>65013</th>\n",
       "      <td>96409</td>\n",
       "      <td>330</td>\n",
       "      <td>0</td>\n",
       "      <td>2</td>\n",
       "      <td>3</td>\n",
       "      <td>6</td>\n",
       "      <td>0</td>\n",
       "      <td>1</td>\n",
       "      <td>0</td>\n",
       "      <td>2</td>\n",
       "      <td>0</td>\n",
       "      <td>0</td>\n",
       "      <td>3</td>\n",
       "      <td>0</td>\n",
       "      <td>5.0</td>\n",
       "    </tr>\n",
       "    <tr>\n",
       "      <th>65014</th>\n",
       "      <td>96411</td>\n",
       "      <td>341</td>\n",
       "      <td>2</td>\n",
       "      <td>3</td>\n",
       "      <td>0</td>\n",
       "      <td>6</td>\n",
       "      <td>0</td>\n",
       "      <td>1</td>\n",
       "      <td>0</td>\n",
       "      <td>2</td>\n",
       "      <td>0</td>\n",
       "      <td>0</td>\n",
       "      <td>2</td>\n",
       "      <td>0</td>\n",
       "      <td>30.0</td>\n",
       "    </tr>\n",
       "    <tr>\n",
       "      <th>65015</th>\n",
       "      <td>96413</td>\n",
       "      <td>268</td>\n",
       "      <td>0</td>\n",
       "      <td>5</td>\n",
       "      <td>2</td>\n",
       "      <td>6</td>\n",
       "      <td>1</td>\n",
       "      <td>0</td>\n",
       "      <td>0</td>\n",
       "      <td>2</td>\n",
       "      <td>0</td>\n",
       "      <td>0</td>\n",
       "      <td>2</td>\n",
       "      <td>0</td>\n",
       "      <td>53.0</td>\n",
       "    </tr>\n",
       "  </tbody>\n",
       "</table>\n",
       "<p>65016 rows × 15 columns</p>\n",
       "</div>"
      ],
      "text/plain": [
       "       Unnamed: 0  Facility  Incident Type  Direction  County  Year  TOD  \\\n",
       "0               0       268              0          5       2     0    1   \n",
       "1               1       268              3          3       2     0    1   \n",
       "2               4       301              0          5       2     0    1   \n",
       "3               5       321              0          2       1     0    1   \n",
       "4               7       286              0          2       3     0    1   \n",
       "...           ...       ...            ...        ...     ...   ...  ...   \n",
       "65011       96407       321              0          2       1     6    0   \n",
       "65012       96408       330              0          2       3     6    0   \n",
       "65013       96409       330              0          2       3     6    0   \n",
       "65014       96411       341              2          3       0     6    0   \n",
       "65015       96413       268              0          5       2     6    1   \n",
       "\n",
       "       PeakHour  DayofWeek  MonthofYear  Injury involved  Truck involved  \\\n",
       "0             0          0            2                0               0   \n",
       "1             0          0            2                0               0   \n",
       "2             0          0            2                0               0   \n",
       "3             0          0            2                0               0   \n",
       "4             0          0            2                0               0   \n",
       "...         ...        ...          ...              ...             ...   \n",
       "65011         0          0            2                0               0   \n",
       "65012         1          0            2                0               0   \n",
       "65013         1          0            2                0               0   \n",
       "65014         1          0            2                0               0   \n",
       "65015         0          0            2                0               0   \n",
       "\n",
       "       Lane Closure Type  Fire involved  Duration (min)  \n",
       "0                      3              0            22.0  \n",
       "1                      2              0            12.0  \n",
       "2                      2              0            42.0  \n",
       "3                      2              0            36.0  \n",
       "4                      1              0            50.0  \n",
       "...                  ...            ...             ...  \n",
       "65011                  1              0            10.0  \n",
       "65012                  2              0            15.0  \n",
       "65013                  3              0             5.0  \n",
       "65014                  2              0            30.0  \n",
       "65015                  2              0            53.0  \n",
       "\n",
       "[65016 rows x 15 columns]"
      ]
     },
     "execution_count": 92,
     "metadata": {},
     "output_type": "execute_result"
    }
   ],
   "source": [
    "input_data_crash[input_data_crash['Year']==0]\n",
    "input_data_crash\n",
    "data_clear = pd.read_csv('incident_nyc_clearance.csv')\n",
    "data_clear"
   ]
  },
  {
   "cell_type": "code",
   "execution_count": null,
   "id": "fd8b2364",
   "metadata": {},
   "outputs": [],
   "source": []
  },
  {
   "cell_type": "markdown",
   "id": "57fbcdd3",
   "metadata": {},
   "source": [
    "# Adaptive Random Forest"
   ]
  },
  {
   "cell_type": "code",
   "execution_count": 101,
   "id": "7843c3cc",
   "metadata": {},
   "outputs": [],
   "source": [
    "#Load csv file as a stream\n",
    "stream_clear = FileStream('incident_nyc_clearance.csv')\n",
    "data_clear = pd.read_csv('incident_nyc_clearance.csv')"
   ]
  },
  {
   "cell_type": "code",
   "execution_count": 94,
   "id": "037461ad",
   "metadata": {},
   "outputs": [
    {
     "name": "stdout",
     "output_type": "stream",
     "text": [
      "Adaptive Random Forest regressor example\n",
      "20000 samples analyzed.\n",
      "Mean absolute error: 13.938745879558127\n"
     ]
    }
   ],
   "source": [
    "# Example code\n",
    "\n",
    "# Prepare stream for use\n",
    "# Setup the Adaptive Random Forest regressor\n",
    "arf_reg = AdaptiveRandomForestRegressor(random_state=123456)\n",
    "# Auxiliary variables to control loop and track performance\n",
    "n_samples = 0\n",
    "max_samples = 20000\n",
    "y_pred = np.zeros(max_samples)\n",
    "y_true = np.zeros(max_samples)\n",
    "# Run test-then-train loop for max_samples and while there is data\n",
    "while n_samples < max_samples and stream_clear.has_more_samples():\n",
    "    X, y = stream_clear.next_sample()\n",
    "    y_true[n_samples] = y[0]\n",
    "    y_pred[n_samples] = arf_reg.predict(X)[0]\n",
    "    arf_reg.partial_fit(X, y)\n",
    "    n_samples += 1\n",
    "# Display results\n",
    "print('Adaptive Random Forest regressor example')\n",
    "print('{} samples analyzed.'.format(n_samples))\n",
    "print('Mean absolute error: {}'.format(np.mean(np.abs(y_true - y_pred))))"
   ]
  },
  {
   "cell_type": "code",
   "execution_count": 109,
   "id": "6b238430",
   "metadata": {},
   "outputs": [
    {
     "data": {
      "text/html": [
       "<div>\n",
       "<style scoped>\n",
       "    .dataframe tbody tr th:only-of-type {\n",
       "        vertical-align: middle;\n",
       "    }\n",
       "\n",
       "    .dataframe tbody tr th {\n",
       "        vertical-align: top;\n",
       "    }\n",
       "\n",
       "    .dataframe thead th {\n",
       "        text-align: right;\n",
       "    }\n",
       "</style>\n",
       "<table border=\"1\" class=\"dataframe\">\n",
       "  <thead>\n",
       "    <tr style=\"text-align: right;\">\n",
       "      <th></th>\n",
       "      <th>Unnamed: 0</th>\n",
       "      <th>Facility</th>\n",
       "      <th>Incident Type</th>\n",
       "      <th>Direction</th>\n",
       "      <th>County</th>\n",
       "      <th>Year</th>\n",
       "      <th>TOD</th>\n",
       "      <th>PeakHour</th>\n",
       "      <th>DayofWeek</th>\n",
       "      <th>MonthofYear</th>\n",
       "      <th>Injury involved</th>\n",
       "      <th>Truck involved</th>\n",
       "      <th>Lane Closure Type</th>\n",
       "      <th>Fire involved</th>\n",
       "      <th>Duration (min)</th>\n",
       "    </tr>\n",
       "  </thead>\n",
       "  <tbody>\n",
       "    <tr>\n",
       "      <th>8</th>\n",
       "      <td>12</td>\n",
       "      <td>495</td>\n",
       "      <td>2</td>\n",
       "      <td>3</td>\n",
       "      <td>0</td>\n",
       "      <td>0</td>\n",
       "      <td>0</td>\n",
       "      <td>1</td>\n",
       "      <td>0</td>\n",
       "      <td>2</td>\n",
       "      <td>0</td>\n",
       "      <td>0</td>\n",
       "      <td>1</td>\n",
       "      <td>0</td>\n",
       "      <td>6.0</td>\n",
       "    </tr>\n",
       "    <tr>\n",
       "      <th>69</th>\n",
       "      <td>92</td>\n",
       "      <td>330</td>\n",
       "      <td>0</td>\n",
       "      <td>2</td>\n",
       "      <td>3</td>\n",
       "      <td>0</td>\n",
       "      <td>0</td>\n",
       "      <td>1</td>\n",
       "      <td>0</td>\n",
       "      <td>2</td>\n",
       "      <td>0</td>\n",
       "      <td>0</td>\n",
       "      <td>1</td>\n",
       "      <td>0</td>\n",
       "      <td>6.0</td>\n",
       "    </tr>\n",
       "    <tr>\n",
       "      <th>86</th>\n",
       "      <td>115</td>\n",
       "      <td>150</td>\n",
       "      <td>0</td>\n",
       "      <td>2</td>\n",
       "      <td>2</td>\n",
       "      <td>0</td>\n",
       "      <td>0</td>\n",
       "      <td>1</td>\n",
       "      <td>0</td>\n",
       "      <td>2</td>\n",
       "      <td>0</td>\n",
       "      <td>0</td>\n",
       "      <td>1</td>\n",
       "      <td>0</td>\n",
       "      <td>6.0</td>\n",
       "    </tr>\n",
       "    <tr>\n",
       "      <th>141</th>\n",
       "      <td>202</td>\n",
       "      <td>335</td>\n",
       "      <td>2</td>\n",
       "      <td>5</td>\n",
       "      <td>3</td>\n",
       "      <td>0</td>\n",
       "      <td>0</td>\n",
       "      <td>0</td>\n",
       "      <td>0</td>\n",
       "      <td>2</td>\n",
       "      <td>0</td>\n",
       "      <td>0</td>\n",
       "      <td>1</td>\n",
       "      <td>0</td>\n",
       "      <td>6.0</td>\n",
       "    </tr>\n",
       "    <tr>\n",
       "      <th>273</th>\n",
       "      <td>395</td>\n",
       "      <td>335</td>\n",
       "      <td>2</td>\n",
       "      <td>3</td>\n",
       "      <td>3</td>\n",
       "      <td>0</td>\n",
       "      <td>0</td>\n",
       "      <td>1</td>\n",
       "      <td>0</td>\n",
       "      <td>2</td>\n",
       "      <td>0</td>\n",
       "      <td>0</td>\n",
       "      <td>1</td>\n",
       "      <td>0</td>\n",
       "      <td>6.0</td>\n",
       "    </tr>\n",
       "    <tr>\n",
       "      <th>...</th>\n",
       "      <td>...</td>\n",
       "      <td>...</td>\n",
       "      <td>...</td>\n",
       "      <td>...</td>\n",
       "      <td>...</td>\n",
       "      <td>...</td>\n",
       "      <td>...</td>\n",
       "      <td>...</td>\n",
       "      <td>...</td>\n",
       "      <td>...</td>\n",
       "      <td>...</td>\n",
       "      <td>...</td>\n",
       "      <td>...</td>\n",
       "      <td>...</td>\n",
       "      <td>...</td>\n",
       "    </tr>\n",
       "    <tr>\n",
       "      <th>64745</th>\n",
       "      <td>95987</td>\n",
       "      <td>434</td>\n",
       "      <td>2</td>\n",
       "      <td>6</td>\n",
       "      <td>4</td>\n",
       "      <td>6</td>\n",
       "      <td>0</td>\n",
       "      <td>0</td>\n",
       "      <td>1</td>\n",
       "      <td>2</td>\n",
       "      <td>0</td>\n",
       "      <td>0</td>\n",
       "      <td>1</td>\n",
       "      <td>0</td>\n",
       "      <td>6.0</td>\n",
       "    </tr>\n",
       "    <tr>\n",
       "      <th>64755</th>\n",
       "      <td>96006</td>\n",
       "      <td>385</td>\n",
       "      <td>2</td>\n",
       "      <td>6</td>\n",
       "      <td>2</td>\n",
       "      <td>6</td>\n",
       "      <td>0</td>\n",
       "      <td>1</td>\n",
       "      <td>1</td>\n",
       "      <td>2</td>\n",
       "      <td>0</td>\n",
       "      <td>1</td>\n",
       "      <td>3</td>\n",
       "      <td>0</td>\n",
       "      <td>6.0</td>\n",
       "    </tr>\n",
       "    <tr>\n",
       "      <th>64785</th>\n",
       "      <td>96056</td>\n",
       "      <td>330</td>\n",
       "      <td>0</td>\n",
       "      <td>2</td>\n",
       "      <td>3</td>\n",
       "      <td>6</td>\n",
       "      <td>0</td>\n",
       "      <td>1</td>\n",
       "      <td>0</td>\n",
       "      <td>2</td>\n",
       "      <td>0</td>\n",
       "      <td>0</td>\n",
       "      <td>1</td>\n",
       "      <td>0</td>\n",
       "      <td>6.0</td>\n",
       "    </tr>\n",
       "    <tr>\n",
       "      <th>64977</th>\n",
       "      <td>96355</td>\n",
       "      <td>321</td>\n",
       "      <td>0</td>\n",
       "      <td>6</td>\n",
       "      <td>1</td>\n",
       "      <td>6</td>\n",
       "      <td>1</td>\n",
       "      <td>0</td>\n",
       "      <td>0</td>\n",
       "      <td>2</td>\n",
       "      <td>0</td>\n",
       "      <td>0</td>\n",
       "      <td>2</td>\n",
       "      <td>0</td>\n",
       "      <td>6.0</td>\n",
       "    </tr>\n",
       "    <tr>\n",
       "      <th>64985</th>\n",
       "      <td>96368</td>\n",
       "      <td>268</td>\n",
       "      <td>0</td>\n",
       "      <td>3</td>\n",
       "      <td>2</td>\n",
       "      <td>6</td>\n",
       "      <td>0</td>\n",
       "      <td>0</td>\n",
       "      <td>0</td>\n",
       "      <td>2</td>\n",
       "      <td>0</td>\n",
       "      <td>0</td>\n",
       "      <td>1</td>\n",
       "      <td>0</td>\n",
       "      <td>6.0</td>\n",
       "    </tr>\n",
       "  </tbody>\n",
       "</table>\n",
       "<p>1765 rows × 15 columns</p>\n",
       "</div>"
      ],
      "text/plain": [
       "       Unnamed: 0  Facility  Incident Type  Direction  County  Year  TOD  \\\n",
       "8              12       495              2          3       0     0    0   \n",
       "69             92       330              0          2       3     0    0   \n",
       "86            115       150              0          2       2     0    0   \n",
       "141           202       335              2          5       3     0    0   \n",
       "273           395       335              2          3       3     0    0   \n",
       "...           ...       ...            ...        ...     ...   ...  ...   \n",
       "64745       95987       434              2          6       4     6    0   \n",
       "64755       96006       385              2          6       2     6    0   \n",
       "64785       96056       330              0          2       3     6    0   \n",
       "64977       96355       321              0          6       1     6    1   \n",
       "64985       96368       268              0          3       2     6    0   \n",
       "\n",
       "       PeakHour  DayofWeek  MonthofYear  Injury involved  Truck involved  \\\n",
       "8             1          0            2                0               0   \n",
       "69            1          0            2                0               0   \n",
       "86            1          0            2                0               0   \n",
       "141           0          0            2                0               0   \n",
       "273           1          0            2                0               0   \n",
       "...         ...        ...          ...              ...             ...   \n",
       "64745         0          1            2                0               0   \n",
       "64755         1          1            2                0               1   \n",
       "64785         1          0            2                0               0   \n",
       "64977         0          0            2                0               0   \n",
       "64985         0          0            2                0               0   \n",
       "\n",
       "       Lane Closure Type  Fire involved  Duration (min)  \n",
       "8                      1              0             6.0  \n",
       "69                     1              0             6.0  \n",
       "86                     1              0             6.0  \n",
       "141                    1              0             6.0  \n",
       "273                    1              0             6.0  \n",
       "...                  ...            ...             ...  \n",
       "64745                  1              0             6.0  \n",
       "64755                  3              0             6.0  \n",
       "64785                  1              0             6.0  \n",
       "64977                  2              0             6.0  \n",
       "64985                  1              0             6.0  \n",
       "\n",
       "[1765 rows x 15 columns]"
      ]
     },
     "execution_count": 109,
     "metadata": {},
     "output_type": "execute_result"
    }
   ],
   "source": [
    "data_clear[data_clear['Duration (min)']==6]"
   ]
  },
  {
   "cell_type": "code",
   "execution_count": 105,
   "id": "6e2042f1",
   "metadata": {},
   "outputs": [
    {
     "data": {
      "text/plain": [
       "13.938745879558127"
      ]
     },
     "execution_count": 105,
     "metadata": {},
     "output_type": "execute_result"
    }
   ],
   "source": [
    "mean_absolute_error(y_pred, y_true)"
   ]
  },
  {
   "cell_type": "code",
   "execution_count": 195,
   "id": "65ed831d",
   "metadata": {},
   "outputs": [
    {
     "name": "stdout",
     "output_type": "stream",
     "text": [
      "Prequential Evaluation\n",
      "Evaluating 1 target(s).\n",
      "Pre-training on 2000 sample(s).\n",
      "Evaluating...\n",
      " ######-------------- [30%] [78.61s]"
     ]
    },
    {
     "name": "stderr",
     "output_type": "stream",
     "text": [
      "/opt/anaconda3/lib/python3.8/site-packages/skmultiflow/trees/nodes/active_learning_node_perceptron.py:127: RuntimeWarning: overflow encountered in long_scalars\n",
      "  a = square_val - ((val * val) / size)\n"
     ]
    },
    {
     "name": "stdout",
     "output_type": "stream",
     "text": [
      " #################### [100%] [269.73s]\n",
      "Processed samples: 20000\n",
      "Mean performance:\n",
      "M0 - MAE          : 13.929756\n"
     ]
    },
    {
     "data": {
      "text/plain": [
       "[AdaptiveRandomForestRegressor(aggregation_method='median', binary_split=False,\n",
       "                               drift_detection_criteria='mse',\n",
       "                               drift_detection_method=ADWIN(delta=0.001),\n",
       "                               grace_period=50, lambda_value=6,\n",
       "                               leaf_prediction='perceptron',\n",
       "                               learning_ratio_const=True,\n",
       "                               learning_ratio_decay=0.001,\n",
       "                               learning_ratio_perceptron=0.1,\n",
       "                               max_byte_size=1048576000, max_features=4,\n",
       "                               memory_estimate_period=2000000, n_estimators=10,\n",
       "                               no_preprune=False, nominal_attributes=None,\n",
       "                               random_state=123456, remove_poor_atts=False,\n",
       "                               split_confidence=0.01, stop_mem_management=False,\n",
       "                               tie_threshold=0.05,\n",
       "                               warning_detection_method=ADWIN(delta=0.01),\n",
       "                               weighted_vote_strategy=None)]"
      ]
     },
     "execution_count": 195,
     "metadata": {},
     "output_type": "execute_result"
    }
   ],
   "source": [
    "# 3. Setup the evaluator\n",
    "evaluator = EvaluatePrequential(show_plot=True,\n",
    "                                pretrain_size=2000,\n",
    "                                max_samples=20000, metrics=['mean_absolute_error'])\n",
    "# 4. Run evaluation\n",
    "evaluator.evaluate(stream=stream_clear, model=arf_reg)"
   ]
  },
  {
   "cell_type": "code",
   "execution_count": 83,
   "id": "a4272008",
   "metadata": {},
   "outputs": [
    {
     "name": "stdout",
     "output_type": "stream",
     "text": [
      "Prequential Evaluation\n",
      "Evaluating 1 target(s).\n",
      "Pre-training on 200 sample(s).\n",
      "Evaluating...\n",
      " #################### [100%] [2.77s]\n",
      "Processed samples: 10000\n",
      "Mean performance:\n",
      "HT - Accuracy     : 0.9611\n",
      "HT - Kappa        : 0.9091\n",
      "NB - Accuracy     : 0.9402\n",
      "NB - Kappa        : 0.8555\n"
     ]
    },
    {
     "data": {
      "text/plain": [
       "[HoeffdingTreeClassifier(binary_split=False, grace_period=200,\n",
       "                         leaf_prediction='nba', max_byte_size=33554432,\n",
       "                         memory_estimate_period=1000000, nb_threshold=0,\n",
       "                         no_preprune=False, nominal_attributes=None,\n",
       "                         remove_poor_atts=False, split_confidence=1e-07,\n",
       "                         split_criterion='info_gain', stop_mem_management=False,\n",
       "                         tie_threshold=0.05),\n",
       " NaiveBayes(nominal_attributes=None)]"
      ]
     },
     "execution_count": 83,
     "metadata": {},
     "output_type": "execute_result"
    }
   ],
   "source": [
    "# The second example demonstrates how to compare two models\n",
    "from skmultiflow.data import SEAGenerator\n",
    "from skmultiflow.trees import HoeffdingTreeClassifier\n",
    "from skmultiflow.bayes import NaiveBayes\n",
    "from skmultiflow.evaluation import EvaluateHoldout\n",
    "# Set the stream\n",
    "stream = SEAGenerator(random_state=1)\n",
    "# Set the models\n",
    "ht = HoeffdingTreeClassifier()\n",
    "nb = NaiveBayes()\n",
    "evaluator = EvaluatePrequential(max_samples=10000,\n",
    "                                max_time=1000,\n",
    "                                show_plot=True,\n",
    "                                metrics=['accuracy', 'kappa'])\n",
    "# Run evaluation\n",
    "evaluator.evaluate(stream=stream, model=[ht, nb], model_names=['HT', 'NB'])"
   ]
  },
  {
   "cell_type": "code",
   "execution_count": 149,
   "id": "7523be81",
   "metadata": {},
   "outputs": [],
   "source": [
    "from xgboost import XGBClassifier, XGBRegressor\n",
    "import xgboost as xgb\n",
    "from collections import Counter\n",
    "from sklearn.model_selection import train_test_split\n",
    "from sklearn.metrics import mean_squared_error, mean_absolute_error,mean_absolute_percentage_error\n",
    "from imblearn.over_sampling import SMOTE\n",
    "\n",
    "\n",
    "data_clear = crash_ann#data_clear[data_clear['Year']==5]\n",
    "\n",
    "df_input = data_clear.iloc[:,:-1]\n",
    "df_output = data_clear.iloc[:,-1]"
   ]
  },
  {
   "cell_type": "code",
   "execution_count": 150,
   "id": "16a6044e",
   "metadata": {},
   "outputs": [],
   "source": [
    "# Splitting the samples\n",
    "X_train, X_rem, y_train, y_rem = train_test_split(df_input, df_output, train_size=0.8, random_state=55)\n",
    "X_val, X_test, y_val, y_test = train_test_split(X_rem, y_rem, test_size=0.5, random_state=55)\n",
    "\n",
    "training_data = {'X_train':X_train,'Y_train':y_train,\n",
    "                'X_val': X_val,'Y_val':y_val,\n",
    "                'X_test': X_test,'Y_test':y_test}"
   ]
  },
  {
   "cell_type": "code",
   "execution_count": 152,
   "id": "786daf37",
   "metadata": {},
   "outputs": [
    {
     "name": "stdout",
     "output_type": "stream",
     "text": [
      "[15:23:05] WARNING: /opt/concourse/worker/volumes/live/7a2b9f41-3287-451b-6691-43e9a6c0910f/volume/xgboost-split_1619728204606/work/src/learner.cc:541: \n",
      "Parameters: { max_samples, min_samples_split } might not be used.\n",
      "\n",
      "  This may not be accurate due to some parameters are only used in language bindings but\n",
      "  passed down to XGBoost core.  Or some parameters are not used but slip through this\n",
      "  verification. Please open an issue if you find above cases.\n",
      "\n",
      "\n",
      "29.39582155664313\n",
      "1.232184862260499\n"
     ]
    }
   ],
   "source": [
    "#initial version of xgboost\n",
    "\n",
    "# Splitting the samples\n",
    "X_train, X_test, y_train, y_test = train_test_split(df_input, df_output, test_size=0.33, random_state=55)\n",
    "#Resampling to avoid imbalance\n",
    "# sm = SMOTE(random_state = 52)\n",
    "# X_train, y_train = sm.fit_resample(X_train, y_train)\n",
    "\n",
    "# Machine Learning Model\n",
    "#xgb=XGBRegressor(n_estimators=1000,learning_rate=0.1,max_depth=6,scale_pos_weight=80)\n",
    "xgb=XGBRegressor(n_estimators = 1000, n_jobs=-1, max_depth=5, min_samples_split=3, max_samples=1000)\n",
    "\n",
    "#rf=XGBClassifier(param)\n",
    "xgb.fit(X_train, y_train)\n",
    "predicted=xgb.predict(X_test)\n",
    "\n",
    "# Finding RMSE\n",
    "\n",
    "# def MAPE(Y_actual,Y_Predicted):\n",
    "#     mape = np.mean(np.abs((Y_actual - Y_Predicted)/Y_actual))*100\n",
    "#     return mape\n",
    "\n",
    "rmse=mean_squared_error(y_test, predicted, squared=False)\n",
    "mae=mean_absolute_error(y_test, predicted)\n",
    "mape = mean_absolute_percentage_error(y_test, predicted)\n",
    "print(mae)\n",
    "print(mape)"
   ]
  },
  {
   "cell_type": "code",
   "execution_count": 159,
   "id": "53e6ed02",
   "metadata": {},
   "outputs": [
    {
     "data": {
      "text/plain": [
       "3"
      ]
     },
     "execution_count": 159,
     "metadata": {},
     "output_type": "execute_result"
    }
   ],
   "source": [
    "a = [1,3]\n",
    "b=[2]\n",
    "c = sorted(a+b)\n",
    "c\n",
    "(3+4)//2"
   ]
  },
  {
   "cell_type": "markdown",
   "id": "16daba44",
   "metadata": {},
   "source": [
    "# ANN"
   ]
  },
  {
   "cell_type": "code",
   "execution_count": 77,
   "id": "1cec2f75",
   "metadata": {},
   "outputs": [],
   "source": [
    "from numpy import vstack\n",
    "from numpy import sqrt\n",
    "from pandas import read_csv\n",
    "from sklearn.metrics import mean_squared_error, mean_absolute_error, mean_absolute_percentage_error\n",
    "from torch.utils.data import Dataset\n",
    "from torch.utils.data import DataLoader\n",
    "from torch.utils.data import random_split\n",
    "from torch import Tensor\n",
    "from torch.nn import Linear\n",
    "from torch.nn import Sigmoid\n",
    "from torch.nn import Module\n",
    "from torch.optim import SGD\n",
    "from torch.nn import MSELoss\n",
    "from torch.nn.init import xavier_uniform_\n",
    "import torch.nn as nn\n",
    "import torch\n",
    "import torch.utils.data as utils\n",
    "import torch.nn.functional as F"
   ]
  },
  {
   "cell_type": "code",
   "execution_count": 63,
   "id": "60da3d2b",
   "metadata": {},
   "outputs": [],
   "source": [
    "class ANNModel_pred(nn.Module):\n",
    "\n",
    "    def __init__(self, input_size, output_size, layers, p=0.4):\n",
    "        super().__init__()\n",
    "\n",
    "        all_layers = []\n",
    "\n",
    "        for i in layers:\n",
    "            all_layers.append(nn.Linear(input_size, i))\n",
    "            all_layers.append(nn.ReLU(inplace=True))\n",
    "            all_layers.append(nn.BatchNorm1d(i))\n",
    "            all_layers.append(nn.Dropout(p))\n",
    "            input_size = i\n",
    "\n",
    "        all_layers.append(nn.Linear(layers[-1], output_size))\n",
    "\n",
    "        self.layers = nn.Sequential(*all_layers)\n",
    "\n",
    "    def forward(self, x):\n",
    "        x = self.layers(x)\n",
    "        return x"
   ]
  },
  {
   "cell_type": "code",
   "execution_count": 144,
   "id": "f68c9825",
   "metadata": {},
   "outputs": [
    {
     "name": "stdout",
     "output_type": "stream",
     "text": [
      "32715 16113\n",
      "Accuracy: 1.015\n"
     ]
    }
   ],
   "source": [
    "# dataset definition\n",
    "class PrepareDataset(Dataset):\n",
    "    # load the dataset\n",
    "    def __init__(self, df):\n",
    "        # store the inputs and outputs\n",
    "        self.X = df.iloc[:, :-1].values.astype('float32')\n",
    "        self.y = df.iloc[:, -1].values.astype('float32')\n",
    "        # ensure target has the right shape\n",
    "        self.y = self.y.reshape((len(self.y), 1))\n",
    "\n",
    "    # number of rows in the dataset\n",
    "    def __len__(self):\n",
    "        return len(self.X)\n",
    "\n",
    "    # get a row at an index\n",
    "    def __getitem__(self, idx):\n",
    "        return [self.X[idx], self.y[idx]]\n",
    "\n",
    "    # get indexes for train and test rows\n",
    "    def get_splits(self, n_test=0.33):\n",
    "        # determine sizes\n",
    "        test_size = round(n_test * len(self.X))\n",
    "        train_size = len(self.X) - test_size\n",
    "        # calculate the split\n",
    "        return random_split(self, [train_size, test_size],generator=torch.Generator().manual_seed(0))\n",
    "\n",
    "\n",
    "# model definition\n",
    "class MLP(Module):\n",
    "    # define model elements\n",
    "    def __init__(self, n_inputs):\n",
    "        super(MLP, self).__init__()\n",
    "        # input to first hidden layer\n",
    "        self.hidden1 = Linear(n_inputs, 200)\n",
    "        xavier_uniform_(self.hidden1.weight)\n",
    "        self.act1 = Sigmoid()\n",
    "        # second hidden layer\n",
    "        self.hidden2 = Linear(200, 50)\n",
    "        xavier_uniform_(self.hidden2.weight)\n",
    "        self.act2 = Sigmoid()\n",
    "        # third hidden layer and output\n",
    "        self.hidden3 = Linear(50, 1)\n",
    "        xavier_uniform_(self.hidden3.weight)\n",
    "\n",
    "    # forward propagate input\n",
    "    def forward(self, X):\n",
    "        # input to first hidden layer\n",
    "        X = self.hidden1(X)\n",
    "        X = self.act1(X)\n",
    "         # second hidden layer\n",
    "        X = self.hidden2(X)\n",
    "        X = self.act2(X)\n",
    "        # third hidden layer and output\n",
    "        X = self.hidden3(X)\n",
    "        return X\n",
    "\n",
    "# prepare the dataset\n",
    "def prepare_data(path):\n",
    "    # load the dataset\n",
    "    dataset = PrepareDataset(path)\n",
    "    # calculate split\n",
    "    train, test = dataset.get_splits()\n",
    "    # prepare data loaders\n",
    "    train_dl = DataLoader(train, batch_size=32, shuffle=True)\n",
    "    test_dl = DataLoader(test, batch_size=1024, shuffle=False)\n",
    "    return train_dl, test_dl\n",
    "\n",
    "# train the model\n",
    "def train_model(train_dl, model):\n",
    "    # define the optimization\n",
    "    criterion = MSELoss()\n",
    "    optimizer = SGD(model.parameters(), lr=0.01, momentum=0.9)\n",
    "    # enumerate epochs\n",
    "    for epoch in range(100):\n",
    "        # enumerate mini batches\n",
    "        for i, (inputs, targets) in enumerate(train_dl):\n",
    "            # clear the gradients\n",
    "            optimizer.zero_grad()\n",
    "            # compute the model output\n",
    "            yhat = model(inputs)\n",
    "            # calculate loss\n",
    "            loss = criterion(yhat, targets)\n",
    "            # credit assignment\n",
    "            loss.backward()\n",
    "            # update model weights\n",
    "            optimizer.step()\n",
    "\n",
    "# evaluate the model\n",
    "def evaluate_model(test_dl, model):\n",
    "    predictions, actuals = list(), list()\n",
    "    for i, (inputs, targets) in enumerate(test_dl):\n",
    "        # evaluate the model on the test set\n",
    "        yhat = model(inputs)\n",
    "        # retrieve numpy array\n",
    "        yhat = yhat.detach().numpy()\n",
    "        actual = targets.numpy()\n",
    "        actual = actual.reshape((len(actual), 1))\n",
    "        # store\n",
    "        predictions.append(yhat)\n",
    "        actuals.append(actual)\n",
    "    predictions, actuals = vstack(predictions), vstack(actuals)\n",
    "    # calculate mse\n",
    "    mse = mean_squared_error(actuals, predictions)\n",
    "    mae = mean_absolute_error(actuals, predictions)\n",
    "    mape = mean_absolute_percentage_error(actuals, predictions)\n",
    "    return mse, mae, mape\n",
    "\n",
    "# # make a class prediction for one row of data\n",
    "# def predict(row, model):\n",
    "#     # convert row to data\n",
    "#     row = Tensor([row])\n",
    "#     # make prediction\n",
    "#     yhat = model(row)\n",
    "#     # retrieve numpy array\n",
    "#     yhat = yhat.detach().numpy()\n",
    "#     return yhat\n",
    "\n",
    "# prepare the data\n",
    "path = 'incident_nyc_clearance.csv'\n",
    "train_dl, test_dl = prepare_data(crash_ann)\n",
    "print(len(train_dl.dataset), len(test_dl.dataset))\n",
    "# define the network\n",
    "model = MLP(crash_ann.shape[1]-1)\n",
    "#model = ANNModel_pred(data_clear.shape[1]-1,1, [20,50,100,200,300], p=0.4)\n",
    "#model = ANNModel(cat_embedding_pred_sizes, len(num_col_pred), 1, [50,100,200,300], p=0.5)\n",
    "# train the model\n",
    "train_model(train_dl, model)\n",
    "# evaluate the model\n",
    "acc = evaluate_model(test_dl, model)\n",
    "print('Accuracy: %.3f' % acc[2])\n",
    "# make a single prediction\n",
    "# row = [5.1,3.5,1.4,0.2]\n",
    "# yhat = predict(row, model)\n",
    "# print('Predicted: %s (class=%d)' % (yhat, argmax(yhat)))"
   ]
  },
  {
   "cell_type": "code",
   "execution_count": 199,
   "id": "47fdabad",
   "metadata": {},
   "outputs": [
    {
     "name": "stdout",
     "output_type": "stream",
     "text": [
      "8557 2933\n",
      "Accuracy: 0.764\n"
     ]
    }
   ],
   "source": [
    "class MLP(Module):\n",
    "    #define parameter\n",
    "    def __init__(self, n_inputs):\n",
    "        super(MLP, self).__init__()\n",
    "        #first hidden layer\n",
    "        self.hidden1 = Linear(n_inputs, 500)\n",
    "        xavier_uniform_(self.hidden1.weight)\n",
    "        self.act1 = Sigmoid()\n",
    "        #second hidden layer\n",
    "        self.hidden2 = Linear(500, 300)\n",
    "        xavier_uniform_(self.hidden2.weight)\n",
    "        self.act2 = Sigmoid()\n",
    "        #third hidden layer\n",
    "        self.hidden3 = Linear(300, 100)\n",
    "        xavier_uniform_(self.hidden3.weight)\n",
    "        self.act3 = Sigmoid()\n",
    "        #fourth hidden layer\n",
    "        self.hidden4 = Linear(100,1)\n",
    "        xavier_uniform_(self.hidden4.weight)\n",
    "\n",
    "    def forward(self, X):\n",
    "        X = self.hidden1(X)\n",
    "        X = self.act1(X)\n",
    "        X = self.hidden2(X)\n",
    "        X = self.act2(X)\n",
    "        X = self.hidden3(X)\n",
    "        X = self.act3(X)\n",
    "        X = self.hidden4(X)\n",
    "        X = F.dropout(X, 0.5, training=self.training)\n",
    "        return X\n",
    "    \n",
    "class PrepareDataset(Dataset):\n",
    "    def __init__(self, path):\n",
    "        self.column = ['Start Date Time','Direction','County','TOD', 'PeakHour',\n",
    "   'DayofWeek', 'MonthofYear', 'Injury involved', 'Truck involved','Lane Closure Type',\n",
    "   'Fire involved', 'Duration (min)']\n",
    "        self.data = pd.read_csv(path).reset_index().iloc[:,1:][self.column]\n",
    "        self.data = self.data[self.data['Duration (min)']<=30]\n",
    "        self.data['Start Date Time'] = pd.to_datetime(self.data['Start Date Time'])\n",
    "    def get_split(self,starttime, endtime):\n",
    "        train_data = self.data[self.data['Start Date Time']<=starttime].drop('Start Date Time', axis=1)\n",
    "        test_data = self.data[(self.data['Start Date Time']>starttime) & (self.data['Start Date Time']<=endtime)].drop('Start Date Time', axis=1)\n",
    "        train_seq, train_label = train_data.iloc[:,:-1].values.astype('float32'), train_data.iloc[:,-1].values.astype('float32')\n",
    "        test_seq, test_label = test_data.iloc[:,:-1].values.astype('float32'), test_data.iloc[:,-1].values.astype('float32')\n",
    "        train_seq, train_label = np.asarray(train_seq), np.asarray(train_label)\n",
    "        test_seq, test_label = np.asarray(test_seq), np.asarray(test_label)\n",
    "        \n",
    "        train_seq, train_label = torch.Tensor(train_seq), torch.Tensor(train_label)\n",
    "        test_seq, test_label = torch.Tensor(test_seq), torch.Tensor(test_label)\n",
    "        \n",
    "        train_dataset = utils.TensorDataset(train_seq, train_label)\n",
    "        test_dataset = utils.TensorDataset(test_seq, test_label)\n",
    "        \n",
    "        train_dl = utils.DataLoader(train_dataset, batch_size=32, shuffle=True)\n",
    "        test_dl = utils.DataLoader(test_dataset, batch_size=64, shuffle=False)\n",
    "        \n",
    "        return train_dl, test_dl\n",
    "\n",
    "def train_model(train_dl, model):\n",
    "    #define optimization\n",
    "    criterion = MSELoss()\n",
    "    optimizer = SGD(model.parameters(), lr=0.01, momentum=0.9)\n",
    "    #enumerate epochs\n",
    "    for i, (inputs, targets) in enumerate(train_dl):\n",
    "        #clear the gradients\n",
    "        optimizer.zero_grad()\n",
    "        #compute the model output\n",
    "        yhat = model(inputs)\n",
    "        #calculate training loss\n",
    "        loss = criterion(yhat, targets)\n",
    "        #credit assignment\n",
    "        loss.backward()\n",
    "        #update model weights\n",
    "        optimizer.step()\n",
    "\n",
    "# evaluate the model\n",
    "def evaluate_model(test_dl, model):\n",
    "    predictions, actuals = list(), list()\n",
    "    for i, (inputs, targets) in enumerate(test_dl):\n",
    "        # evaluate the model on the test set\n",
    "        yhat = model(inputs)\n",
    "        # retrieve numpy array\n",
    "        yhat = yhat.detach().numpy()\n",
    "        actual = targets.numpy()\n",
    "        actual = actual.reshape((len(actual), 1))\n",
    "        # store\n",
    "        predictions.append(yhat)\n",
    "        actuals.append(actual)\n",
    "    predictions, actuals = vstack(predictions), vstack(actuals)\n",
    "    # calculate mse\n",
    "    mse = mean_squared_error(actuals, predictions)\n",
    "    mae = mean_absolute_error(actuals, predictions)\n",
    "    mape = mean_absolute_percentage_error(actuals, predictions)\n",
    "    return mse, mae, mape\n",
    "\n",
    "            \n",
    "# prepare the data\n",
    "path = 'crash_nyc.csv'\n",
    "\n",
    "dataset = PrepareDataset(path)\n",
    "\n",
    "start = pd.Timestamp(2018,1,1,0)\n",
    "\n",
    "end = pd.Timestamp(2019,1,1,0)\n",
    "\n",
    "train_dl, test_dl = dataset.get_split(start, end)\n",
    "inputs, target = next(iter(train_dl))\n",
    "\n",
    "print(len(train_dl.dataset), len(test_dl.dataset))\n",
    "# define the network\n",
    "model = MLP(inputs.size(1))\n",
    "#model = ANNModel_pred(data_clear.shape[1]-1,1, [20,50,100,200,300], p=0.4)\n",
    "#model = ANNModel(cat_embedding_pred_sizes, len(num_col_pred), 1, [50,100,200,300], p=0.5)\n",
    "# train the model\n",
    "train_model(train_dl, model)\n",
    "# evaluate the model\n",
    "acc = evaluate_model(test_dl, model)\n",
    "print('Accuracy: %.3f' % acc[2])    \n",
    "        "
   ]
  },
  {
   "cell_type": "code",
   "execution_count": 70,
   "id": "6c210233",
   "metadata": {},
   "outputs": [
    {
     "data": {
      "text/plain": [
       "Timestamp('2017-01-01 00:00:00')"
      ]
     },
     "execution_count": 70,
     "metadata": {},
     "output_type": "execute_result"
    }
   ],
   "source": [
    "start = pd.Timestamp(2016,1,1,0)\n",
    "start"
   ]
  },
  {
   "cell_type": "code",
   "execution_count": 67,
   "id": "cc1522ce",
   "metadata": {},
   "outputs": [
    {
     "data": {
      "text/plain": [
       "1730.846"
      ]
     },
     "execution_count": 67,
     "metadata": {},
     "output_type": "execute_result"
    }
   ],
   "source": [
    "acc[0]"
   ]
  },
  {
   "cell_type": "code",
   "execution_count": 143,
   "id": "98484b16",
   "metadata": {},
   "outputs": [
    {
     "data": {
      "text/html": [
       "<div>\n",
       "<style scoped>\n",
       "    .dataframe tbody tr th:only-of-type {\n",
       "        vertical-align: middle;\n",
       "    }\n",
       "\n",
       "    .dataframe tbody tr th {\n",
       "        vertical-align: top;\n",
       "    }\n",
       "\n",
       "    .dataframe thead th {\n",
       "        text-align: right;\n",
       "    }\n",
       "</style>\n",
       "<table border=\"1\" class=\"dataframe\">\n",
       "  <thead>\n",
       "    <tr style=\"text-align: right;\">\n",
       "      <th></th>\n",
       "      <th>Direction</th>\n",
       "      <th>County</th>\n",
       "      <th>TOD</th>\n",
       "      <th>PeakHour</th>\n",
       "      <th>DayofWeek</th>\n",
       "      <th>MonthofYear</th>\n",
       "      <th>Injury involved</th>\n",
       "      <th>Truck involved</th>\n",
       "      <th>Lane Closure Type</th>\n",
       "      <th>Fire involved</th>\n",
       "      <th>Duration (min)</th>\n",
       "    </tr>\n",
       "  </thead>\n",
       "  <tbody>\n",
       "    <tr>\n",
       "      <th>0</th>\n",
       "      <td>3</td>\n",
       "      <td>0</td>\n",
       "      <td>1</td>\n",
       "      <td>0</td>\n",
       "      <td>0</td>\n",
       "      <td>2</td>\n",
       "      <td>0</td>\n",
       "      <td>0</td>\n",
       "      <td>3</td>\n",
       "      <td>0</td>\n",
       "      <td>22.0</td>\n",
       "    </tr>\n",
       "    <tr>\n",
       "      <th>1</th>\n",
       "      <td>1</td>\n",
       "      <td>2</td>\n",
       "      <td>1</td>\n",
       "      <td>0</td>\n",
       "      <td>0</td>\n",
       "      <td>2</td>\n",
       "      <td>0</td>\n",
       "      <td>0</td>\n",
       "      <td>1</td>\n",
       "      <td>0</td>\n",
       "      <td>65.0</td>\n",
       "    </tr>\n",
       "    <tr>\n",
       "      <th>2</th>\n",
       "      <td>0</td>\n",
       "      <td>3</td>\n",
       "      <td>1</td>\n",
       "      <td>0</td>\n",
       "      <td>0</td>\n",
       "      <td>2</td>\n",
       "      <td>0</td>\n",
       "      <td>0</td>\n",
       "      <td>3</td>\n",
       "      <td>0</td>\n",
       "      <td>110.0</td>\n",
       "    </tr>\n",
       "    <tr>\n",
       "      <th>3</th>\n",
       "      <td>3</td>\n",
       "      <td>0</td>\n",
       "      <td>1</td>\n",
       "      <td>0</td>\n",
       "      <td>0</td>\n",
       "      <td>2</td>\n",
       "      <td>0</td>\n",
       "      <td>0</td>\n",
       "      <td>2</td>\n",
       "      <td>0</td>\n",
       "      <td>42.0</td>\n",
       "    </tr>\n",
       "    <tr>\n",
       "      <th>4</th>\n",
       "      <td>1</td>\n",
       "      <td>1</td>\n",
       "      <td>1</td>\n",
       "      <td>0</td>\n",
       "      <td>0</td>\n",
       "      <td>2</td>\n",
       "      <td>0</td>\n",
       "      <td>0</td>\n",
       "      <td>2</td>\n",
       "      <td>0</td>\n",
       "      <td>36.0</td>\n",
       "    </tr>\n",
       "    <tr>\n",
       "      <th>...</th>\n",
       "      <td>...</td>\n",
       "      <td>...</td>\n",
       "      <td>...</td>\n",
       "      <td>...</td>\n",
       "      <td>...</td>\n",
       "      <td>...</td>\n",
       "      <td>...</td>\n",
       "      <td>...</td>\n",
       "      <td>...</td>\n",
       "      <td>...</td>\n",
       "      <td>...</td>\n",
       "    </tr>\n",
       "    <tr>\n",
       "      <th>48823</th>\n",
       "      <td>1</td>\n",
       "      <td>1</td>\n",
       "      <td>0</td>\n",
       "      <td>0</td>\n",
       "      <td>0</td>\n",
       "      <td>2</td>\n",
       "      <td>0</td>\n",
       "      <td>0</td>\n",
       "      <td>1</td>\n",
       "      <td>0</td>\n",
       "      <td>10.0</td>\n",
       "    </tr>\n",
       "    <tr>\n",
       "      <th>48824</th>\n",
       "      <td>1</td>\n",
       "      <td>2</td>\n",
       "      <td>0</td>\n",
       "      <td>1</td>\n",
       "      <td>0</td>\n",
       "      <td>2</td>\n",
       "      <td>0</td>\n",
       "      <td>0</td>\n",
       "      <td>2</td>\n",
       "      <td>0</td>\n",
       "      <td>15.0</td>\n",
       "    </tr>\n",
       "    <tr>\n",
       "      <th>48825</th>\n",
       "      <td>1</td>\n",
       "      <td>2</td>\n",
       "      <td>0</td>\n",
       "      <td>1</td>\n",
       "      <td>0</td>\n",
       "      <td>2</td>\n",
       "      <td>0</td>\n",
       "      <td>0</td>\n",
       "      <td>3</td>\n",
       "      <td>0</td>\n",
       "      <td>5.0</td>\n",
       "    </tr>\n",
       "    <tr>\n",
       "      <th>48826</th>\n",
       "      <td>3</td>\n",
       "      <td>0</td>\n",
       "      <td>0</td>\n",
       "      <td>1</td>\n",
       "      <td>0</td>\n",
       "      <td>2</td>\n",
       "      <td>0</td>\n",
       "      <td>0</td>\n",
       "      <td>2</td>\n",
       "      <td>0</td>\n",
       "      <td>68.0</td>\n",
       "    </tr>\n",
       "    <tr>\n",
       "      <th>48827</th>\n",
       "      <td>3</td>\n",
       "      <td>0</td>\n",
       "      <td>1</td>\n",
       "      <td>0</td>\n",
       "      <td>0</td>\n",
       "      <td>2</td>\n",
       "      <td>0</td>\n",
       "      <td>0</td>\n",
       "      <td>2</td>\n",
       "      <td>0</td>\n",
       "      <td>53.0</td>\n",
       "    </tr>\n",
       "  </tbody>\n",
       "</table>\n",
       "<p>48828 rows × 11 columns</p>\n",
       "</div>"
      ],
      "text/plain": [
       "       Direction  County  TOD  PeakHour  DayofWeek  MonthofYear  \\\n",
       "0              3       0    1         0          0            2   \n",
       "1              1       2    1         0          0            2   \n",
       "2              0       3    1         0          0            2   \n",
       "3              3       0    1         0          0            2   \n",
       "4              1       1    1         0          0            2   \n",
       "...          ...     ...  ...       ...        ...          ...   \n",
       "48823          1       1    0         0          0            2   \n",
       "48824          1       2    0         1          0            2   \n",
       "48825          1       2    0         1          0            2   \n",
       "48826          3       0    0         1          0            2   \n",
       "48827          3       0    1         0          0            2   \n",
       "\n",
       "       Injury involved  Truck involved  Lane Closure Type  Fire involved  \\\n",
       "0                    0               0                  3              0   \n",
       "1                    0               0                  1              0   \n",
       "2                    0               0                  3              0   \n",
       "3                    0               0                  2              0   \n",
       "4                    0               0                  2              0   \n",
       "...                ...             ...                ...            ...   \n",
       "48823                0               0                  1              0   \n",
       "48824                0               0                  2              0   \n",
       "48825                0               0                  3              0   \n",
       "48826                0               0                  2              0   \n",
       "48827                0               0                  2              0   \n",
       "\n",
       "       Duration (min)  \n",
       "0                22.0  \n",
       "1                65.0  \n",
       "2               110.0  \n",
       "3                42.0  \n",
       "4                36.0  \n",
       "...               ...  \n",
       "48823            10.0  \n",
       "48824            15.0  \n",
       "48825             5.0  \n",
       "48826            68.0  \n",
       "48827            53.0  \n",
       "\n",
       "[48828 rows x 11 columns]"
      ]
     },
     "execution_count": 143,
     "metadata": {},
     "output_type": "execute_result"
    }
   ],
   "source": [
    "column_ann = ['Direction','County', 'TOD', 'PeakHour',\n",
    "       'DayofWeek', 'MonthofYear', 'Injury involved', 'Truck involved','Lane Closure Type',\n",
    "       'Fire involved', 'Duration (min)']\n",
    "crash_ann = pd.read_csv('crash_nyc.csv').reset_index().iloc[:,1:][column_ann]\n",
    "crash_ann"
   ]
  }
 ],
 "metadata": {
  "kernelspec": {
   "display_name": "Python 3 (ipykernel)",
   "language": "python",
   "name": "python3"
  },
  "language_info": {
   "codemirror_mode": {
    "name": "ipython",
    "version": 3
   },
   "file_extension": ".py",
   "mimetype": "text/x-python",
   "name": "python",
   "nbconvert_exporter": "python",
   "pygments_lexer": "ipython3",
   "version": "3.9.13"
  }
 },
 "nbformat": 4,
 "nbformat_minor": 5
}
