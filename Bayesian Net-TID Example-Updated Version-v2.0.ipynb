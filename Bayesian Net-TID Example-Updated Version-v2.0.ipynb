{
 "cells": [
  {
   "cell_type": "markdown",
   "metadata": {},
   "source": [
    "# Please Switch your kernel (under kernel tab) to bayesian-net"
   ]
  },
  {
   "cell_type": "code",
   "execution_count": 1,
   "metadata": {},
   "outputs": [],
   "source": [
    "from pgmpy.models import BayesianModel,BayesianNetwork \n",
    "from sklearn.tree import DecisionTreeClassifier\n",
    "from sklearn.preprocessing import LabelEncoder, label_binarize\n",
    "from sklearn.model_selection import train_test_split\n",
    "from sklearn.metrics import mean_absolute_error, mean_absolute_percentage_error, accuracy_score, mean_squared_error,precision_recall_fscore_support, confusion_matrix, roc_auc_score, roc_curve, auc\n",
    "from pgmpy.factors.discrete import TabularCPD\n",
    "from pgmpy.estimators import MaximumLikelihoodEstimator, BayesianEstimator, ExpectationMaximization, IVEstimator\n",
    "from pgmpy.inference import VariableElimination, BeliefPropagation\n",
    "import bnlearn as bn\n",
    "import networkx as nx\n",
    "import graphviz\n",
    "from networkx.drawing.nx_agraph import write_dot, graphviz_layout\n",
    "import pandas as pd\n",
    "import numpy as np\n",
    "import copy\n",
    "import matplotlib.pyplot as plt\n",
    "import matplotlib.image as mpimg\n",
    "import random"
   ]
  },
  {
   "cell_type": "markdown",
   "metadata": {},
   "source": [
    "# Read Data"
   ]
  },
  {
   "cell_type": "code",
   "execution_count": 2,
   "metadata": {},
   "outputs": [],
   "source": [
    "crash = pd.read_csv('data/crash_BNExamples.csv').reset_index().iloc[:,1:]\n",
    "crash = crash.loc[(crash['Duration (min)']>0)&(crash['Duration (min)']<=150)].reset_index()\n",
    "crash['Duration_class'] = pd.cut(crash['Duration (min)'], [0,30,60,90,120], right=True, labels=[0,1,2,3])\n",
    "crash = crash.dropna()\n",
    "#target_var = 'Duration (min)'\n",
    "target_var = 'Duration_class'\n",
    "\n",
    "column_clear = ['Start Date Time','Direction','County', 'TOD', 'PeakHour',\n",
    "       'DayofWeek', 'MonthofYear', 'Injury involved', 'Truck involved','Lane Closure Type',\n",
    "       'Fire involved', target_var]\n",
    "\n",
    "crash['Start Date Time'] = pd.to_datetime(crash['Start Date Time'])\n",
    "\n",
    "data = crash[crash['Start Date Time'].dt.year.isin([2021])].iloc[:,1:]\n",
    "\n",
    "data = data[column_clear].iloc[:,1:]"
   ]
  },
  {
   "cell_type": "code",
   "execution_count": 3,
   "metadata": {},
   "outputs": [],
   "source": [
    "train, test = train_test_split(data, test_size=0.25)"
   ]
  },
  {
   "cell_type": "code",
   "execution_count": 4,
   "metadata": {},
   "outputs": [],
   "source": [
    "train_target = train.pop('Duration_class')"
   ]
  },
  {
   "cell_type": "code",
   "execution_count": 5,
   "metadata": {},
   "outputs": [
    {
     "data": {
      "text/html": [
       "<div>\n",
       "<style scoped>\n",
       "    .dataframe tbody tr th:only-of-type {\n",
       "        vertical-align: middle;\n",
       "    }\n",
       "\n",
       "    .dataframe tbody tr th {\n",
       "        vertical-align: top;\n",
       "    }\n",
       "\n",
       "    .dataframe thead th {\n",
       "        text-align: right;\n",
       "    }\n",
       "</style>\n",
       "<table border=\"1\" class=\"dataframe\">\n",
       "  <thead>\n",
       "    <tr style=\"text-align: right;\">\n",
       "      <th></th>\n",
       "      <th>Direction</th>\n",
       "      <th>County</th>\n",
       "      <th>TOD</th>\n",
       "      <th>PeakHour</th>\n",
       "      <th>DayofWeek</th>\n",
       "      <th>MonthofYear</th>\n",
       "      <th>Injury involved</th>\n",
       "      <th>Truck involved</th>\n",
       "      <th>Lane Closure Type</th>\n",
       "      <th>Fire involved</th>\n",
       "      <th>Duration_class</th>\n",
       "    </tr>\n",
       "  </thead>\n",
       "  <tbody>\n",
       "    <tr>\n",
       "      <th>3565</th>\n",
       "      <td>4</td>\n",
       "      <td>2</td>\n",
       "      <td>0</td>\n",
       "      <td>1</td>\n",
       "      <td>0</td>\n",
       "      <td>2</td>\n",
       "      <td>1</td>\n",
       "      <td>1</td>\n",
       "      <td>1</td>\n",
       "      <td>0</td>\n",
       "      <td>1</td>\n",
       "    </tr>\n",
       "    <tr>\n",
       "      <th>684</th>\n",
       "      <td>1</td>\n",
       "      <td>2</td>\n",
       "      <td>0</td>\n",
       "      <td>0</td>\n",
       "      <td>0</td>\n",
       "      <td>1</td>\n",
       "      <td>0</td>\n",
       "      <td>0</td>\n",
       "      <td>1</td>\n",
       "      <td>0</td>\n",
       "      <td>0</td>\n",
       "    </tr>\n",
       "    <tr>\n",
       "      <th>5928</th>\n",
       "      <td>3</td>\n",
       "      <td>2</td>\n",
       "      <td>0</td>\n",
       "      <td>0</td>\n",
       "      <td>0</td>\n",
       "      <td>2</td>\n",
       "      <td>1</td>\n",
       "      <td>1</td>\n",
       "      <td>1</td>\n",
       "      <td>1</td>\n",
       "      <td>3</td>\n",
       "    </tr>\n",
       "    <tr>\n",
       "      <th>1946</th>\n",
       "      <td>1</td>\n",
       "      <td>2</td>\n",
       "      <td>0</td>\n",
       "      <td>0</td>\n",
       "      <td>0</td>\n",
       "      <td>2</td>\n",
       "      <td>0</td>\n",
       "      <td>0</td>\n",
       "      <td>1</td>\n",
       "      <td>0</td>\n",
       "      <td>0</td>\n",
       "    </tr>\n",
       "    <tr>\n",
       "      <th>490</th>\n",
       "      <td>2</td>\n",
       "      <td>1</td>\n",
       "      <td>0</td>\n",
       "      <td>1</td>\n",
       "      <td>0</td>\n",
       "      <td>0</td>\n",
       "      <td>0</td>\n",
       "      <td>0</td>\n",
       "      <td>1</td>\n",
       "      <td>0</td>\n",
       "      <td>0</td>\n",
       "    </tr>\n",
       "    <tr>\n",
       "      <th>...</th>\n",
       "      <td>...</td>\n",
       "      <td>...</td>\n",
       "      <td>...</td>\n",
       "      <td>...</td>\n",
       "      <td>...</td>\n",
       "      <td>...</td>\n",
       "      <td>...</td>\n",
       "      <td>...</td>\n",
       "      <td>...</td>\n",
       "      <td>...</td>\n",
       "      <td>...</td>\n",
       "    </tr>\n",
       "    <tr>\n",
       "      <th>61</th>\n",
       "      <td>1</td>\n",
       "      <td>1</td>\n",
       "      <td>0</td>\n",
       "      <td>1</td>\n",
       "      <td>0</td>\n",
       "      <td>1</td>\n",
       "      <td>0</td>\n",
       "      <td>0</td>\n",
       "      <td>1</td>\n",
       "      <td>0</td>\n",
       "      <td>0</td>\n",
       "    </tr>\n",
       "    <tr>\n",
       "      <th>402</th>\n",
       "      <td>1</td>\n",
       "      <td>4</td>\n",
       "      <td>0</td>\n",
       "      <td>1</td>\n",
       "      <td>0</td>\n",
       "      <td>0</td>\n",
       "      <td>0</td>\n",
       "      <td>0</td>\n",
       "      <td>1</td>\n",
       "      <td>0</td>\n",
       "      <td>0</td>\n",
       "    </tr>\n",
       "    <tr>\n",
       "      <th>5050</th>\n",
       "      <td>3</td>\n",
       "      <td>3</td>\n",
       "      <td>0</td>\n",
       "      <td>1</td>\n",
       "      <td>1</td>\n",
       "      <td>0</td>\n",
       "      <td>0</td>\n",
       "      <td>1</td>\n",
       "      <td>1</td>\n",
       "      <td>1</td>\n",
       "      <td>2</td>\n",
       "    </tr>\n",
       "    <tr>\n",
       "      <th>164</th>\n",
       "      <td>4</td>\n",
       "      <td>2</td>\n",
       "      <td>1</td>\n",
       "      <td>0</td>\n",
       "      <td>0</td>\n",
       "      <td>1</td>\n",
       "      <td>0</td>\n",
       "      <td>0</td>\n",
       "      <td>2</td>\n",
       "      <td>0</td>\n",
       "      <td>0</td>\n",
       "    </tr>\n",
       "    <tr>\n",
       "      <th>3514</th>\n",
       "      <td>2</td>\n",
       "      <td>4</td>\n",
       "      <td>0</td>\n",
       "      <td>0</td>\n",
       "      <td>0</td>\n",
       "      <td>1</td>\n",
       "      <td>1</td>\n",
       "      <td>1</td>\n",
       "      <td>2</td>\n",
       "      <td>0</td>\n",
       "      <td>1</td>\n",
       "    </tr>\n",
       "  </tbody>\n",
       "</table>\n",
       "<p>4233 rows × 11 columns</p>\n",
       "</div>"
      ],
      "text/plain": [
       "      Direction  County  TOD  PeakHour  DayofWeek  MonthofYear  \\\n",
       "3565          4       2    0         1          0            2   \n",
       "684           1       2    0         0          0            1   \n",
       "5928          3       2    0         0          0            2   \n",
       "1946          1       2    0         0          0            2   \n",
       "490           2       1    0         1          0            0   \n",
       "...         ...     ...  ...       ...        ...          ...   \n",
       "61            1       1    0         1          0            1   \n",
       "402           1       4    0         1          0            0   \n",
       "5050          3       3    0         1          1            0   \n",
       "164           4       2    1         0          0            1   \n",
       "3514          2       4    0         0          0            1   \n",
       "\n",
       "      Injury involved  Truck involved  Lane Closure Type  Fire involved  \\\n",
       "3565                1               1                  1              0   \n",
       "684                 0               0                  1              0   \n",
       "5928                1               1                  1              1   \n",
       "1946                0               0                  1              0   \n",
       "490                 0               0                  1              0   \n",
       "...               ...             ...                ...            ...   \n",
       "61                  0               0                  1              0   \n",
       "402                 0               0                  1              0   \n",
       "5050                0               1                  1              1   \n",
       "164                 0               0                  2              0   \n",
       "3514                1               1                  2              0   \n",
       "\n",
       "     Duration_class  \n",
       "3565              1  \n",
       "684               0  \n",
       "5928              3  \n",
       "1946              0  \n",
       "490               0  \n",
       "...             ...  \n",
       "61                0  \n",
       "402               0  \n",
       "5050              2  \n",
       "164               0  \n",
       "3514              1  \n",
       "\n",
       "[4233 rows x 11 columns]"
      ]
     },
     "execution_count": 5,
     "metadata": {},
     "output_type": "execute_result"
    }
   ],
   "source": [
    "Xtrain, Xval, ytrain, yval = train_test_split(train, train_target, test_size=0.1, random_state=0)\n",
    "valid = pd.concat([Xval, yval], axis='columns')\n",
    "dfnum = pd.concat([Xtrain, ytrain], axis='columns')\n",
    "dfnum"
   ]
  },
  {
   "cell_type": "markdown",
   "metadata": {},
   "source": [
    "# Define Performance Metric: Accuracy Score, Precision, Recall, F1-Measurement"
   ]
  },
  {
   "cell_type": "code",
   "execution_count": 6,
   "metadata": {},
   "outputs": [],
   "source": [
    "#Get accuracy for classification task\n",
    "def get_acc(model, df, col):\n",
    "    #pred = model.predict(df[DAG['adjmat'].columns.values].iloc[:,:-1])\n",
    "    pred = model.predict(df.iloc[:,:-1])\n",
    "    print(pred)\n",
    "    acc = accuracy_score(df[col], pred)\n",
    "    print('Accuracy -', acc)\n",
    "    return acc"
   ]
  },
  {
   "cell_type": "code",
   "execution_count": 7,
   "metadata": {},
   "outputs": [],
   "source": [
    "def get_acc_label(model, df, col, labels):\n",
    "    #pred = model.predict(df[DAG['adjmat'].columns.values].iloc[:,:-1])\n",
    "    pred = model.predict(df.iloc[:,:-1])\n",
    "    print(pred)\n",
    "    acc = precision_recall_fscore_support(df[col], pred, average=None, labels=labels)\n",
    "    print('precision, recall, f1 -', acc)\n",
    "    return acc"
   ]
  },
  {
   "cell_type": "markdown",
   "metadata": {},
   "source": [
    "# Bayesian Network"
   ]
  },
  {
   "cell_type": "markdown",
   "metadata": {},
   "source": [
    "# Structure Learning"
   ]
  },
  {
   "cell_type": "code",
   "execution_count": 10,
   "metadata": {
    "scrolled": true
   },
   "outputs": [
    {
     "name": "stdout",
     "output_type": "stream",
     "text": [
      "[bnlearn] >Warning: Computing DAG with 11 nodes can take a very long time!\n",
      "[bnlearn] >Computing best DAG using [chow-liu]\n"
     ]
    },
    {
     "data": {
      "application/vnd.jupyter.widget-view+json": {
       "model_id": "05820b6197934d21893284f524064ef8",
       "version_major": 2,
       "version_minor": 0
      },
      "text/plain": [
       "Building tree:   0%|          | 0/55.0 [00:00<?, ?it/s]"
      ]
     },
     "metadata": {},
     "output_type": "display_data"
    },
    {
     "name": "stdout",
     "output_type": "stream",
     "text": [
      "[bnlearn] >Compute structure scores for model comparison (higher is better).\n"
     ]
    }
   ],
   "source": [
    "# Structure learning\n",
    "DAG = bn.structure_learning.fit(dfnum, methodtype='cl', root_node='Duration_class', bw_list_method='nodes', verbose=3)\n",
    "#DAG = bn.structure_learning.fit(data,methodtype='cl', scoretype='bdeu')\n",
    "#DAG = bn.structure_learning.fit(data,methodtype='naivebayes', scoretype='bdeu', root_node='Duration_class')\n"
   ]
  },
  {
   "cell_type": "code",
   "execution_count": 11,
   "metadata": {},
   "outputs": [
    {
     "data": {
      "text/plain": [
       "[('Duration_class', 'Truck involved'),\n",
       " ('Duration_class', 'Injury involved'),\n",
       " ('Duration_class', 'Fire involved'),\n",
       " ('Duration_class', 'Direction'),\n",
       " ('Direction', 'County'),\n",
       " ('Direction', 'Lane Closure Type'),\n",
       " ('Lane Closure Type', 'TOD'),\n",
       " ('Lane Closure Type', 'MonthofYear'),\n",
       " ('TOD', 'PeakHour'),\n",
       " ('TOD', 'DayofWeek')]"
      ]
     },
     "execution_count": 11,
     "metadata": {},
     "output_type": "execute_result"
    }
   ],
   "source": [
    "#model.edges()\n",
    "DAG['model_edges']"
   ]
  },
  {
   "cell_type": "code",
   "execution_count": 12,
   "metadata": {},
   "outputs": [],
   "source": [
    "#Define plotting method for hierarchy graph\n",
    "\n",
    "def hierarchy_pos(G, root=None, width=1., vert_gap = 0.2, vert_loc = 0, xcenter = 0.5):\n",
    "\n",
    "    '''\n",
    "    If the graph is a tree this will return the positions to plot this in a \n",
    "    hierarchical layout.\n",
    "    \n",
    "    G: the graph (must be a tree)\n",
    "    \n",
    "    root: the root node of current branch \n",
    "    - if the tree is directed and this is not given, \n",
    "      the root will be found and used\n",
    "    - if the tree is directed and this is given, then \n",
    "      the positions will be just for the descendants of this node.\n",
    "    - if the tree is undirected and not given, \n",
    "      then a random choice will be used.\n",
    "    \n",
    "    width: horizontal space allocated for this branch - avoids overlap with other branches\n",
    "    \n",
    "    vert_gap: gap between levels of hierarchy\n",
    "    \n",
    "    vert_loc: vertical location of root\n",
    "    \n",
    "    xcenter: horizontal location of root\n",
    "    '''\n",
    "    if not nx.is_tree(G):\n",
    "        raise TypeError('cannot use hierarchy_pos on a graph that is not a tree')\n",
    "\n",
    "    if root is None:\n",
    "        if isinstance(G, nx.DiGraph):\n",
    "            root = next(iter(nx.topological_sort(G)))  #allows back compatibility with nx version 1.11\n",
    "        else:\n",
    "            root = random.choice(list(G.nodes))\n",
    "\n",
    "    def _hierarchy_pos(G, root, width=1., vert_gap = 0.2, vert_loc = 0, xcenter = 0.5, pos = None, parent = None):\n",
    "        '''\n",
    "        see hierarchy_pos docstring for most arguments\n",
    "\n",
    "        pos: a dict saying where all nodes go if they have been assigned\n",
    "        parent: parent of this branch. - only affects it if non-directed\n",
    "\n",
    "        '''\n",
    "    \n",
    "        if pos is None:\n",
    "            pos = {root:(xcenter,vert_loc)}\n",
    "        else:\n",
    "            pos[root] = (xcenter, vert_loc)\n",
    "        children = list(G.neighbors(root))\n",
    "        if not isinstance(G, nx.DiGraph) and parent is not None:\n",
    "            children.remove(parent)  \n",
    "        if len(children)!=0:\n",
    "            dx = width/len(children) \n",
    "            nextx = xcenter - width/2 - dx/2\n",
    "            for child in children:\n",
    "                nextx += dx\n",
    "                pos = _hierarchy_pos(G,child, width = 2*dx, vert_gap = vert_gap, \n",
    "                                    vert_loc = vert_loc-vert_gap, xcenter=nextx,\n",
    "                                    pos=pos, parent = root)\n",
    "        return pos\n",
    "\n",
    "            \n",
    "    return _hierarchy_pos(G, root, width, vert_gap, vert_loc, xcenter)"
   ]
  },
  {
   "cell_type": "markdown",
   "metadata": {},
   "source": [
    "## Plot Learned Structure in two ways, directed and undirected graph"
   ]
  },
  {
   "cell_type": "code",
   "execution_count": 13,
   "metadata": {},
   "outputs": [
    {
     "data": {
      "image/png": "[encoded data removed]",
      "text/plain": [
       "<Figure size 640x480 with 1 Axes>"
      ]
     },
     "metadata": {},
     "output_type": "display_data"
    }
   ],
   "source": [
    "# Plot directed hierarchical graph\n",
    "#G = bn.plot(DAG)\n",
    "# Convert Bayesian network structure to a hierarchical structure (DAG)\n",
    "G = nx.DiGraph()\n",
    "#G.add_edges_from(model.edges())\n",
    "G.add_edges_from(DAG['model_edges'])\n",
    "\n",
    "# Plot the hierarchical structure\n",
    "plt.title('Hierarchical Layout of Directed Learned Structure')\n",
    "pos = hierarchy_pos(G) \n",
    "nx.draw_networkx(G, pos, with_labels=True, arrows=True, node_color=\"lightblue\", node_size=1000, font_size=9)\n",
    "\n",
    "plt.savefig('BN_structure_directed.png')"
   ]
  },
  {
   "cell_type": "code",
   "execution_count": 14,
   "metadata": {},
   "outputs": [
    {
     "data": {
      "image/png": "[encoded data removed]",
      "text/plain": [
       "<Figure size 640x480 with 1 Axes>"
      ]
     },
     "metadata": {},
     "output_type": "display_data"
    }
   ],
   "source": [
    "# Plot directed hierarchical graph\n",
    "G = nx.Graph()\n",
    "#G.add_edges_from(model.edges())\n",
    "G.add_edges_from(DAG['model_edges'])\n",
    "\n",
    "# Plot the hierarchical structure\n",
    "plt.title('Layout of Undirected Learned Structure')\n",
    "nx.draw_networkx(G, with_labels=True, arrows=True, node_color=\"lightblue\", node_size=1000, font_size=9)\n",
    "\n",
    "plt.savefig('BN_structure_undirected.png')"
   ]
  },
  {
   "cell_type": "markdown",
   "metadata": {},
   "source": [
    "# Parameter Learning"
   ]
  },
  {
   "cell_type": "code",
   "execution_count": 15,
   "metadata": {},
   "outputs": [
    {
     "name": "stdout",
     "output_type": "stream",
     "text": [
      "[bnlearn] >Parameter learning> Computing parameters using [bayes]\n",
      "[bnlearn] >Converting [<class 'pgmpy.base.DAG.DAG'>] to BayesianNetwork model.\n",
      "[bnlearn] >Converting adjmat to BayesianNetwork.\n",
      "[bnlearn] >CPD of Duration_class:\n",
      "+-------------------+----------+\n",
      "| Duration_class(0) | 0.397286 |\n",
      "+-------------------+----------+\n",
      "| Duration_class(1) | 0.302503 |\n",
      "+-------------------+----------+\n",
      "| Duration_class(2) | 0.180203 |\n",
      "+-------------------+----------+\n",
      "| Duration_class(3) | 0.120008 |\n",
      "+-------------------+----------+\n",
      "[bnlearn] >CPD of Truck involved:\n",
      "+-------------------+-----+---------------------+\n",
      "| Duration_class    | ... | Duration_class(3)   |\n",
      "+-------------------+-----+---------------------+\n",
      "| Truck involved(0) | ... | 0.19904458598726116 |\n",
      "+-------------------+-----+---------------------+\n",
      "| Truck involved(1) | ... | 0.8009554140127388  |\n",
      "+-------------------+-----+---------------------+\n",
      "[bnlearn] >CPD of Injury involved:\n",
      "+--------------------+-----+---------------------+\n",
      "| Duration_class     | ... | Duration_class(3)   |\n",
      "+--------------------+-----+---------------------+\n",
      "| Injury involved(0) | ... | 0.19904458598726116 |\n",
      "+--------------------+-----+---------------------+\n",
      "| Injury involved(1) | ... | 0.8009554140127388  |\n",
      "+--------------------+-----+---------------------+\n",
      "[bnlearn] >CPD of Fire involved:\n",
      "+------------------+-----+---------------------+\n",
      "| Duration_class   | ... | Duration_class(3)   |\n",
      "+------------------+-----+---------------------+\n",
      "| Fire involved(0) | ... | 0.19904458598726116 |\n",
      "+------------------+-----+---------------------+\n",
      "| Fire involved(1) | ... | 0.8009554140127388  |\n",
      "+------------------+-----+---------------------+\n",
      "[bnlearn] >CPD of Direction:\n",
      "+----------------+-----+---------------------+\n",
      "| Duration_class | ... | Duration_class(3)   |\n",
      "+----------------+-----+---------------------+\n",
      "| Direction(1)   | ... | 0.22452229299363058 |\n",
      "+----------------+-----+---------------------+\n",
      "| Direction(2)   | ... | 0.2340764331210191  |\n",
      "+----------------+-----+---------------------+\n",
      "| Direction(3)   | ... | 0.22929936305732485 |\n",
      "+----------------+-----+---------------------+\n",
      "| Direction(4)   | ... | 0.23089171974522293 |\n",
      "+----------------+-----+---------------------+\n",
      "| Direction(5)   | ... | 0.08121019108280254 |\n",
      "+----------------+-----+---------------------+\n",
      "[bnlearn] >CPD of County:\n",
      "+-----------+---------------------+-----+---------------------+\n",
      "| Direction | Direction(1)        | ... | Direction(5)        |\n",
      "+-----------+---------------------+-----+---------------------+\n",
      "| County(0) | 0.16884057971014493 | ... | 0.22018348623853212 |\n",
      "+-----------+---------------------+-----+---------------------+\n",
      "| County(1) | 0.2818840579710145  | ... | 0.21100917431192662 |\n",
      "+-----------+---------------------+-----+---------------------+\n",
      "| County(2) | 0.4007246376811594  | ... | 0.19724770642201836 |\n",
      "+-----------+---------------------+-----+---------------------+\n",
      "| County(3) | 0.07536231884057971 | ... | 0.18807339449541285 |\n",
      "+-----------+---------------------+-----+---------------------+\n",
      "| County(4) | 0.07318840579710145 | ... | 0.1834862385321101  |\n",
      "+-----------+---------------------+-----+---------------------+\n",
      "[bnlearn] >CPD of Lane Closure Type:\n",
      "+----------------------+-----+---------------------+\n",
      "| Direction            | ... | Direction(5)        |\n",
      "+----------------------+-----+---------------------+\n",
      "| Lane Closure Type(0) | ... | 0.22935779816513763 |\n",
      "+----------------------+-----+---------------------+\n",
      "| Lane Closure Type(1) | ... | 0.2889908256880734  |\n",
      "+----------------------+-----+---------------------+\n",
      "| Lane Closure Type(2) | ... | 0.24311926605504589 |\n",
      "+----------------------+-----+---------------------+\n",
      "| Lane Closure Type(3) | ... | 0.23853211009174313 |\n",
      "+----------------------+-----+---------------------+\n",
      "[bnlearn] >CPD of TOD:\n",
      "+-------------------+-----+----------------------+\n",
      "| Lane Closure Type | ... | Lane Closure Type(3) |\n",
      "+-------------------+-----+----------------------+\n",
      "| TOD(0)            | ... | 0.531322505800464    |\n",
      "+-------------------+-----+----------------------+\n",
      "| TOD(1)            | ... | 0.46867749419953597  |\n",
      "+-------------------+-----+----------------------+\n",
      "[bnlearn] >CPD of MonthofYear:\n",
      "+-------------------+-----+----------------------+\n",
      "| Lane Closure Type | ... | Lane Closure Type(3) |\n",
      "+-------------------+-----+----------------------+\n",
      "| MonthofYear(0)    | ... | 0.41840680587780354  |\n",
      "+-------------------+-----+----------------------+\n",
      "| MonthofYear(1)    | ... | 0.29311678267594743  |\n",
      "+-------------------+-----+----------------------+\n",
      "| MonthofYear(2)    | ... | 0.2884764114462491   |\n",
      "+-------------------+-----+----------------------+\n",
      "[bnlearn] >CPD of PeakHour:\n",
      "+-------------+--------------------+--------------------+\n",
      "| TOD         | TOD(0)             | TOD(1)             |\n",
      "+-------------+--------------------+--------------------+\n",
      "| PeakHour(0) | 0.4760194921774814 | 0.8125937031484258 |\n",
      "+-------------+--------------------+--------------------+\n",
      "| PeakHour(1) | 0.5239805078225186 | 0.1874062968515742 |\n",
      "+-------------+--------------------+--------------------+\n",
      "[bnlearn] >CPD of DayofWeek:\n",
      "+--------------+--------------------+---------------------+\n",
      "| TOD          | TOD(0)             | TOD(1)              |\n",
      "+--------------+--------------------+---------------------+\n",
      "| DayofWeek(0) | 0.7473711208002052 | 0.5847076461769115  |\n",
      "+--------------+--------------------+---------------------+\n",
      "| DayofWeek(1) | 0.2526288791997948 | 0.41529235382308843 |\n",
      "+--------------+--------------------+---------------------+\n",
      "[bnlearn] >Compute structure scores for model comparison (higher is better).\n"
     ]
    },
    {
     "data": {
      "text/plain": [
       "(Direction ⟂ Truck involved, Injury involved, Fire involved | Duration_class)\n",
       "(County ⟂ Injury involved, Fire involved, Duration_class, Lane Closure Type, PeakHour, TOD, MonthofYear, Truck involved, DayofWeek | Direction)\n",
       "(TOD ⟂ Direction, MonthofYear, Injury involved, Duration_class, Fire involved, County, Truck involved | Lane Closure Type)\n",
       "(PeakHour ⟂ Direction, Injury involved, Fire involved, Duration_class, Lane Closure Type, MonthofYear, County, Truck involved, DayofWeek | TOD)\n",
       "(DayofWeek ⟂ Direction, Injury involved, Fire involved, Duration_class, Lane Closure Type, PeakHour, MonthofYear, County, Truck involved | TOD)\n",
       "(MonthofYear ⟂ Direction, Injury involved, Fire involved, Duration_class, PeakHour, TOD, County, Truck involved, DayofWeek | Lane Closure Type)\n",
       "(Injury involved ⟂ Direction, Fire involved, Lane Closure Type, PeakHour, TOD, MonthofYear, County, Truck involved, DayofWeek | Duration_class)\n",
       "(Truck involved ⟂ Direction, Injury involved, Fire involved, Lane Closure Type, PeakHour, TOD, MonthofYear, County, DayofWeek | Duration_class)\n",
       "(Lane Closure Type ⟂ Injury involved, Fire involved, Duration_class, County, Truck involved | Direction)\n",
       "(Fire involved ⟂ Direction, Injury involved, Lane Closure Type, PeakHour, TOD, MonthofYear, County, Truck involved, DayofWeek | Duration_class)"
      ]
     },
     "execution_count": 15,
     "metadata": {},
     "output_type": "execute_result"
    }
   ],
   "source": [
    "# Parameter learning\n",
    "model = bn.parameter_learning.fit(DAG, dfnum, verbose=3);\n",
    "model = BayesianNetwork(ebunch=DAG['model_edges'])\n",
    "bayes = BayesianEstimator(model=model, data = data)\n",
    "model.fit(dfnum, estimator=BayesianEstimator, prior_type='BDeu',equivalent_sample_size=10,\n",
    "          complete_samples_only=False)\n",
    "model.local_independencies(bayes.variables)"
   ]
  },
  {
   "cell_type": "markdown",
   "metadata": {},
   "source": [
    "# Validation"
   ]
  },
  {
   "cell_type": "code",
   "execution_count": 38,
   "metadata": {
    "scrolled": true
   },
   "outputs": [
    {
     "data": {
      "application/vnd.jupyter.widget-view+json": {
       "model_id": "46e055a26ced47cd8406c0fce5d5513f",
       "version_major": 2,
       "version_minor": 0
      },
      "text/plain": [
       "  0%|          | 0/375 [00:00<?, ?it/s]"
      ]
     },
     "metadata": {},
     "output_type": "display_data"
    },
    {
     "name": "stdout",
     "output_type": "stream",
     "text": [
      "     Duration_class\n",
      "0                 1\n",
      "1                 1\n",
      "2                 2\n",
      "3                 1\n",
      "4                 1\n",
      "..              ...\n",
      "466               1\n",
      "467               0\n",
      "468               0\n",
      "469               0\n",
      "470               1\n",
      "\n",
      "[471 rows x 1 columns]\n",
      "Accuracy - 0.921443736730361\n"
     ]
    }
   ],
   "source": [
    "acc1 = get_acc(model, valid, 'Duration_class')"
   ]
  },
  {
   "cell_type": "code",
   "execution_count": 39,
   "metadata": {
    "scrolled": false
   },
   "outputs": [
    {
     "data": {
      "application/vnd.jupyter.widget-view+json": {
       "model_id": "c2da977ccdbc451797b7e2f7de688354",
       "version_major": 2,
       "version_minor": 0
      },
      "text/plain": [
       "  0%|          | 0/375 [00:00<?, ?it/s]"
      ]
     },
     "metadata": {},
     "output_type": "display_data"
    },
    {
     "name": "stdout",
     "output_type": "stream",
     "text": [
      "     Duration_class\n",
      "0                 1\n",
      "1                 1\n",
      "2                 2\n",
      "3                 1\n",
      "4                 1\n",
      "..              ...\n",
      "466               1\n",
      "467               0\n",
      "468               0\n",
      "469               0\n",
      "470               1\n",
      "\n",
      "[471 rows x 1 columns]\n",
      "precision, recall, f1 - (array([0.97969543, 0.9205298 , 0.98      , 0.7260274 ]), array([0.95073892, 0.9858156 , 0.67123288, 0.98148148]), array([0.965     , 0.95205479, 0.79674797, 0.83464567]), array([203, 141,  73,  54]))\n"
     ]
    }
   ],
   "source": [
    "acc2 = get_acc_label(model, valid, 'Duration_class', [0,1,2,3])"
   ]
  },
  {
   "cell_type": "markdown",
   "metadata": {},
   "source": [
    "# Inference: Dealing with Missing Information"
   ]
  },
  {
   "cell_type": "markdown",
   "metadata": {},
   "source": [
    "### BN predicts the TID based on probabilistic inference, which is capable of dealing with missing information. The following two scenarios show the prediction of TID with some missing variables."
   ]
  },
  {
   "cell_type": "markdown",
   "metadata": {},
   "source": [
    "## Scenario#1: Predicting TID with missing Fire Truck Involvement information"
   ]
  },
  {
   "cell_type": "code",
   "execution_count": 40,
   "metadata": {},
   "outputs": [],
   "source": [
    "#Inference with complete information\n",
    "inference = VariableElimination(model)\n",
    "# evidence = valid.iloc[0,:-1]\n",
    "# result=inference.query(variables=['Duration_class'], evidence=evidence)\n",
    "# print(result)"
   ]
  },
  {
   "cell_type": "code",
   "execution_count": 41,
   "metadata": {},
   "outputs": [
    {
     "name": "stdout",
     "output_type": "stream",
     "text": [
      "+-------------------+-----------------------+\n",
      "| Duration_class    |   phi(Duration_class) |\n",
      "+===================+=======================+\n",
      "| Duration_class(0) |                0.0002 |\n",
      "+-------------------+-----------------------+\n",
      "| Duration_class(1) |                0.6373 |\n",
      "+-------------------+-----------------------+\n",
      "| Duration_class(2) |                0.1402 |\n",
      "+-------------------+-----------------------+\n",
      "| Duration_class(3) |                0.2223 |\n",
      "+-------------------+-----------------------+\n"
     ]
    }
   ],
   "source": [
    "#Inference with missing Fire Truck Involvement information\n",
    "evidence = {'Direction':4, \n",
    "            'County': 3, \n",
    "            'TOD': 0, \n",
    "            'PeakHour': 1, \n",
    "            'DayofWeek': 0, \n",
    "            'MonthofYear': 1,\n",
    "           'Injury involved': 1,\n",
    "           'Truck involved': 1,\n",
    "           'Lane Closure Type': 1}\n",
    "           #'Fire involved': 0}\n",
    "result=inference.query(variables=['Duration_class'], evidence=evidence)\n",
    "print(result)"
   ]
  },
  {
   "cell_type": "markdown",
   "metadata": {},
   "source": [
    "## Scenario#2: Predicting TID with missing Fire Truck and Injury information"
   ]
  },
  {
   "cell_type": "code",
   "execution_count": 42,
   "metadata": {},
   "outputs": [
    {
     "name": "stdout",
     "output_type": "stream",
     "text": [
      "+-------------------+-----------------------+\n",
      "| Duration_class    |   phi(Duration_class) |\n",
      "+===================+=======================+\n",
      "| Duration_class(0) |                0.0046 |\n",
      "+-------------------+-----------------------+\n",
      "| Duration_class(1) |                0.5098 |\n",
      "+-------------------+-----------------------+\n",
      "| Duration_class(2) |                0.3077 |\n",
      "+-------------------+-----------------------+\n",
      "| Duration_class(3) |                0.1778 |\n",
      "+-------------------+-----------------------+\n"
     ]
    }
   ],
   "source": [
    "#Inference with missing Fire Involvement and Injury information\n",
    "evidence = {'Direction':4, \n",
    "            'County': 3, \n",
    "            'TOD': 0, \n",
    "            'PeakHour': 1, \n",
    "            'DayofWeek': 0, \n",
    "            'MonthofYear': 1,\n",
    "            #'Injury involved': 1,\n",
    "           'Truck involved': 1,\n",
    "           'Lane Closure Type': 1\n",
    "           #'Fire involved': 0\n",
    "           }\n",
    "result=inference.query(variables=['Duration_class'], evidence=evidence)\n",
    "print(result)"
   ]
  },
  {
   "cell_type": "markdown",
   "metadata": {},
   "source": [
    "# Decision-making using probabilistic inference"
   ]
  },
  {
   "cell_type": "markdown",
   "metadata": {},
   "source": [
    "### The probabilistic inference in BN also enables to manipulate the certainty in the selected variables, thereby ensuring the creation of scenario-based network structure"
   ]
  },
  {
   "cell_type": "code",
   "execution_count": 50,
   "metadata": {},
   "outputs": [
    {
     "data": {
      "image/png": "[encoded data removed]",
      "text/plain": [
       "<Figure size 640x480 with 1 Axes>"
      ]
     },
     "metadata": {},
     "output_type": "display_data"
    }
   ],
   "source": [
    "img=mpimg.imread('BN_structure_directed.png')\n",
    "plt.imshow(img)\n",
    "plt.axis('off')\n",
    "plt.show()"
   ]
  },
  {
   "cell_type": "code",
   "execution_count": 51,
   "metadata": {},
   "outputs": [
    {
     "name": "stdout",
     "output_type": "stream",
     "text": [
      "+-------------------+-----------------------+\n",
      "| Duration_class    |   phi(Duration_class) |\n",
      "+===================+=======================+\n",
      "| Duration_class(0) |                0.0000 |\n",
      "+-------------------+-----------------------+\n",
      "| Duration_class(1) |                0.2344 |\n",
      "+-------------------+-----------------------+\n",
      "| Duration_class(2) |                0.2979 |\n",
      "+-------------------+-----------------------+\n",
      "| Duration_class(3) |                0.4677 |\n",
      "+-------------------+-----------------------+\n",
      "+--------------+------------------+\n",
      "| Direction    |   phi(Direction) |\n",
      "+==============+==================+\n",
      "| Direction(1) |           0.2457 |\n",
      "+--------------+------------------+\n",
      "| Direction(2) |           0.2794 |\n",
      "+--------------+------------------+\n",
      "| Direction(3) |           0.2487 |\n",
      "+--------------+------------------+\n",
      "| Direction(4) |           0.2229 |\n",
      "+--------------+------------------+\n",
      "| Direction(5) |           0.0033 |\n",
      "+--------------+------------------+\n",
      "+-----------+---------------+\n",
      "| County    |   phi(County) |\n",
      "+===========+===============+\n",
      "| County(0) |        0.1837 |\n",
      "+-----------+---------------+\n",
      "| County(1) |        0.1675 |\n",
      "+-----------+---------------+\n",
      "| County(2) |        0.3443 |\n",
      "+-----------+---------------+\n",
      "| County(3) |        0.2754 |\n",
      "+-----------+---------------+\n",
      "| County(4) |        0.0291 |\n",
      "+-----------+---------------+\n",
      "+--------+------------+\n",
      "| TOD    |   phi(TOD) |\n",
      "+========+============+\n",
      "| TOD(0) |     0.8740 |\n",
      "+--------+------------+\n",
      "| TOD(1) |     0.1260 |\n",
      "+--------+------------+\n",
      "+----------------+--------------------+\n",
      "| MonthofYear    |   phi(MonthofYear) |\n",
      "+================+====================+\n",
      "| MonthofYear(0) |             0.5078 |\n",
      "+----------------+--------------------+\n",
      "| MonthofYear(1) |             0.2640 |\n",
      "+----------------+--------------------+\n",
      "| MonthofYear(2) |             0.2283 |\n",
      "+----------------+--------------------+\n",
      "+-------------+-----------------+\n",
      "| PeakHour    |   phi(PeakHour) |\n",
      "+=============+=================+\n",
      "| PeakHour(0) |          0.5377 |\n",
      "+-------------+-----------------+\n",
      "| PeakHour(1) |          0.4623 |\n",
      "+-------------+-----------------+\n",
      "+--------------+------------------+\n",
      "| DayofWeek    |   phi(DayofWeek) |\n",
      "+==============+==================+\n",
      "| DayofWeek(0) |           0.7684 |\n",
      "+--------------+------------------+\n",
      "| DayofWeek(1) |           0.2316 |\n",
      "+--------------+------------------+\n"
     ]
    }
   ],
   "source": [
    "evidence = {'Injury involved': 1,\n",
    "           'Truck involved': 1,\n",
    "           'Lane Closure Type': 1,\n",
    "           'Fire involved': 1}\n",
    "model.nodes()\n",
    "for node in model.nodes():\n",
    "    if node not in evidence:\n",
    "        result=inference.query(variables=[node], evidence=evidence)\n",
    "        print(result)"
   ]
  },
  {
   "cell_type": "markdown",
   "metadata": {},
   "source": [
    "# Prediction"
   ]
  },
  {
   "cell_type": "code",
   "execution_count": 52,
   "metadata": {},
   "outputs": [
    {
     "data": {
      "application/vnd.jupyter.widget-view+json": {
       "model_id": "d62d4dcdd1b147ca9b408975b80512f7",
       "version_major": 2,
       "version_minor": 0
      },
      "text/plain": [
       "  0%|          | 0/913 [00:00<?, ?it/s]"
      ]
     },
     "metadata": {},
     "output_type": "display_data"
    }
   ],
   "source": [
    "result_pred = model.predict(test.iloc[:,:-1])"
   ]
  },
  {
   "cell_type": "code",
   "execution_count": 53,
   "metadata": {},
   "outputs": [
    {
     "name": "stdout",
     "output_type": "stream",
     "text": [
      "Test accuracy score - 0.9254302103250478\n",
      "Test precision, recall, F1-score and Sample Size - (array([0.99383667, 0.9351145 , 1.        , 0.63425926]), array([0.95132743, 1.        , 0.68181818, 1.        ]), array([0.97211756, 0.96646943, 0.81081081, 0.77620397]), array([678, 490, 264, 137]))\n"
     ]
    }
   ],
   "source": [
    "acc_test=accuracy_score(test['Duration_class'], result_pred)\n",
    "acc_label_test=precision_recall_fscore_support(test['Duration_class'], result_pred, labels=[0,1,2,3])\n",
    "print(\"Test accuracy score -\", acc_test)\n",
    "print(\"Test precision, recall, F1-score and Sample Size -\", acc_label_test)"
   ]
  },
  {
   "cell_type": "code",
   "execution_count": 54,
   "metadata": {},
   "outputs": [],
   "source": [
    "test['Duration_class']\n",
    "ytest=label_binarize(test['Duration_class'], classes=[0,1,2,3])\n",
    "ypred = label_binarize(result_pred, classes=[0,1,2,3])"
   ]
  },
  {
   "cell_type": "markdown",
   "metadata": {},
   "source": [
    "# TPR, FPR and AUC"
   ]
  },
  {
   "cell_type": "code",
   "execution_count": 57,
   "metadata": {
    "scrolled": false
   },
   "outputs": [],
   "source": [
    "ytest=label_binarize(test['Duration_class'], classes=[0,1,2,3])\n",
    "fpr, tpr = dict(), dict()\n",
    "roc_auc = dict()\n",
    "n_classes = 4\n",
    "for i in range(n_classes):\n",
    "    fpr[i], tpr[i], _ = roc_curve(ytest[:,i], ypred[:,i])\n",
    "    roc_auc[i] = auc(fpr[i], tpr[i])\n",
    "\n",
    "# for i in range(n_classes):\n",
    "#     plt.figure()\n",
    "#     plt.plot(fpr[i], tpr[i], label='ROC curve (area = %0.2f)' % roc_auc[i])\n",
    "#     plt.plot([0,1],[0,1], 'k--')\n",
    "#     plt.xlim([0.0, 1.0])\n",
    "#     plt.ylim([0.0, 1.04])\n",
    "#     plt.xlabel('False Positive Rate')\n",
    "#     plt.ylabel('True Positive Rate')\n",
    "#     plt.title('AUC-ROC for TID (Duration Class=%0.0f)' % i)\n",
    "#     plt.legend(loc='lower right')\n",
    "#     plt.show()\n",
    "#     plt.savefig('AUC_ROC for TID (Duration Class=%0.0f).png' %i)"
   ]
  },
  {
   "cell_type": "code",
   "execution_count": 58,
   "metadata": {},
   "outputs": [
    {
     "name": "stdout",
     "output_type": "stream",
     "text": [
      "Class 0: true positive rate (TPR) is 0.95, false positive rate (FPR) is 0.00, AUC score is 0.97\n",
      "Class 1: true positive rate (TPR) is 1.00, false positive rate (FPR) is 0.03, AUC score is 0.98\n",
      "Class 2: true positive rate (TPR) is 0.68, false positive rate (FPR) is 0.00, AUC score is 0.84\n",
      "Class 3: true positive rate (TPR) is 1.00, false positive rate (FPR) is 0.06, AUC score is 0.97\n"
     ]
    }
   ],
   "source": [
    "roc_auc\n",
    "tpr\n",
    "fpr[0][1]\n",
    "for i in range(n_classes):\n",
    "    print(\"Class {}: true positive rate (TPR) is {:.2f}, false positive rate (FPR) is {:.2f}, AUC score is {:.2f}\".format(i, tpr[i][1], fpr[i][1], roc_auc[i]))"
   ]
  },
  {
   "cell_type": "markdown",
   "metadata": {},
   "source": [
    "| TID Class | TPR | FPR | AUC |\n",
    "| --- | --- | --- | --- |\n",
    "| Class 0 (0-30 min) | 0.95 | 0 | 0.97 |\n",
    "| Class 1 (30-60 min) | 1.00 | 0.03 | 0.98 |\n",
    "| Class 2 (60-90 min) | 0.68 | 0 | 0.84 |\n",
    "| Class 3 (Larger than 90 min) | 1.00 | 0.06 | 0.97 |"
   ]
  },
  {
   "cell_type": "code",
   "execution_count": null,
   "metadata": {},
   "outputs": [],
   "source": []
  }
 ],
 "metadata": {
  "kernelspec": {
   "display_name": "bayesian-net-test",
   "language": "python",
   "name": "bayesian-net-test"
  },
  "language_info": {
   "codemirror_mode": {
    "name": "ipython",
    "version": 3
   },
   "file_extension": ".py",
   "mimetype": "text/x-python",
   "name": "python",
   "nbconvert_exporter": "python",
   "pygments_lexer": "ipython3",
   "version": "3.11.4"
  }
 },
 "nbformat": 4,
 "nbformat_minor": 5
}
