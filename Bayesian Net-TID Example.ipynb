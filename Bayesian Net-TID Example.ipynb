{
 "cells": [
  {
   "cell_type": "code",
   "execution_count": 119,
   "id": "d8de1e35",
   "metadata": {},
   "outputs": [],
   "source": [
    "from pgmpy.models import BayesianModel,BayesianNetwork \n",
    "from sklearn.tree import DecisionTreeClassifier\n",
    "from sklearn.preprocessing import LabelEncoder, label_binarize\n",
    "from sklearn.model_selection import train_test_split\n",
    "from sklearn.metrics import mean_absolute_error, mean_absolute_percentage_error, accuracy_score, mean_squared_error,precision_recall_fscore_support, confusion_matrix, roc_auc_score, roc_curve, auc\n",
    "from pgmpy.factors.discrete import TabularCPD\n",
    "from pgmpy.estimators import MaximumLikelihoodEstimator, BayesianEstimator, ExpectationMaximization, IVEstimator\n",
    "from pgmpy.inference import VariableElimination\n",
    "import bnlearn as bn\n",
    "import networkx as nx\n",
    "from networkx.drawing.nx_agraph import write_dot, graphviz_layout\n",
    "import pandas as pd\n",
    "import numpy as np\n",
    "import copy\n",
    "import matplotlib.pyplot as plt\n",
    "import matplotlib.image as mpimg"
   ]
  },
  {
   "cell_type": "markdown",
   "id": "0b49a710",
   "metadata": {},
   "source": [
    "# Read Data"
   ]
  },
  {
   "cell_type": "code",
   "execution_count": 68,
   "id": "072bcfbe",
   "metadata": {},
   "outputs": [],
   "source": [
    "crash = pd.read_csv('data/crash_nyc_2021.csv').reset_index().iloc[:,1:]\n",
    "crash = crash.loc[(crash['Duration (min)']>0)&(crash['Duration (min)']<=150)].reset_index()\n",
    "crash['Duration_class'] = pd.cut(crash['Duration (min)'], [0,30,60,90,120,150], right=True, labels=[0,1,2,3,4])\n",
    "crash = crash.dropna()\n",
    "#target_var = 'Duration (min)'\n",
    "target_var = 'Duration_class'\n",
    "\n",
    "column_clear = ['Start Date Time','Direction','County', 'Year', 'TOD', 'PeakHour',\n",
    "       'DayofWeek', 'MonthofYear', 'Injury involved', 'Truck involved','Lane Closure Type',\n",
    "       'Fire involved', target_var]\n",
    "\n",
    "crash['Start Date Time'] = pd.to_datetime(crash['Start Date Time'])\n",
    "\n",
    "data = crash[crash['Start Date Time'].dt.year.isin([2021])].iloc[:,1:]\n",
    "\n",
    "data = data[column_clear].iloc[:,1:]"
   ]
  },
  {
   "cell_type": "code",
   "execution_count": 69,
   "id": "52c5616b",
   "metadata": {},
   "outputs": [],
   "source": [
    "train, test = train_test_split(data, test_size=0.25)"
   ]
  },
  {
   "cell_type": "code",
   "execution_count": 70,
   "id": "aaf656ae",
   "metadata": {},
   "outputs": [],
   "source": [
    "train_target = train.pop('Duration_class')"
   ]
  },
  {
   "cell_type": "code",
   "execution_count": 71,
   "id": "e4546fe4",
   "metadata": {},
   "outputs": [
    {
     "data": {
      "text/html": [
       "<div>\n",
       "<style scoped>\n",
       "    .dataframe tbody tr th:only-of-type {\n",
       "        vertical-align: middle;\n",
       "    }\n",
       "\n",
       "    .dataframe tbody tr th {\n",
       "        vertical-align: top;\n",
       "    }\n",
       "\n",
       "    .dataframe thead th {\n",
       "        text-align: right;\n",
       "    }\n",
       "</style>\n",
       "<table border=\"1\" class=\"dataframe\">\n",
       "  <thead>\n",
       "    <tr style=\"text-align: right;\">\n",
       "      <th></th>\n",
       "      <th>Direction</th>\n",
       "      <th>County</th>\n",
       "      <th>Year</th>\n",
       "      <th>TOD</th>\n",
       "      <th>PeakHour</th>\n",
       "      <th>DayofWeek</th>\n",
       "      <th>MonthofYear</th>\n",
       "      <th>Injury involved</th>\n",
       "      <th>Truck involved</th>\n",
       "      <th>Lane Closure Type</th>\n",
       "      <th>Fire involved</th>\n",
       "      <th>Duration_class</th>\n",
       "    </tr>\n",
       "  </thead>\n",
       "  <tbody>\n",
       "    <tr>\n",
       "      <th>2174</th>\n",
       "      <td>2</td>\n",
       "      <td>0</td>\n",
       "      <td>6</td>\n",
       "      <td>1</td>\n",
       "      <td>0</td>\n",
       "      <td>1</td>\n",
       "      <td>0</td>\n",
       "      <td>0</td>\n",
       "      <td>0</td>\n",
       "      <td>1</td>\n",
       "      <td>0</td>\n",
       "      <td>0</td>\n",
       "    </tr>\n",
       "    <tr>\n",
       "      <th>1453</th>\n",
       "      <td>2</td>\n",
       "      <td>2</td>\n",
       "      <td>6</td>\n",
       "      <td>0</td>\n",
       "      <td>1</td>\n",
       "      <td>0</td>\n",
       "      <td>0</td>\n",
       "      <td>0</td>\n",
       "      <td>0</td>\n",
       "      <td>1</td>\n",
       "      <td>0</td>\n",
       "      <td>0</td>\n",
       "    </tr>\n",
       "    <tr>\n",
       "      <th>224</th>\n",
       "      <td>2</td>\n",
       "      <td>4</td>\n",
       "      <td>6</td>\n",
       "      <td>0</td>\n",
       "      <td>1</td>\n",
       "      <td>0</td>\n",
       "      <td>2</td>\n",
       "      <td>0</td>\n",
       "      <td>0</td>\n",
       "      <td>2</td>\n",
       "      <td>0</td>\n",
       "      <td>0</td>\n",
       "    </tr>\n",
       "    <tr>\n",
       "      <th>4137</th>\n",
       "      <td>4</td>\n",
       "      <td>3</td>\n",
       "      <td>6</td>\n",
       "      <td>0</td>\n",
       "      <td>0</td>\n",
       "      <td>0</td>\n",
       "      <td>0</td>\n",
       "      <td>1</td>\n",
       "      <td>1</td>\n",
       "      <td>2</td>\n",
       "      <td>0</td>\n",
       "      <td>1</td>\n",
       "    </tr>\n",
       "    <tr>\n",
       "      <th>1567</th>\n",
       "      <td>2</td>\n",
       "      <td>2</td>\n",
       "      <td>6</td>\n",
       "      <td>0</td>\n",
       "      <td>0</td>\n",
       "      <td>0</td>\n",
       "      <td>0</td>\n",
       "      <td>0</td>\n",
       "      <td>0</td>\n",
       "      <td>1</td>\n",
       "      <td>0</td>\n",
       "      <td>0</td>\n",
       "    </tr>\n",
       "    <tr>\n",
       "      <th>...</th>\n",
       "      <td>...</td>\n",
       "      <td>...</td>\n",
       "      <td>...</td>\n",
       "      <td>...</td>\n",
       "      <td>...</td>\n",
       "      <td>...</td>\n",
       "      <td>...</td>\n",
       "      <td>...</td>\n",
       "      <td>...</td>\n",
       "      <td>...</td>\n",
       "      <td>...</td>\n",
       "      <td>...</td>\n",
       "    </tr>\n",
       "    <tr>\n",
       "      <th>5788</th>\n",
       "      <td>3</td>\n",
       "      <td>3</td>\n",
       "      <td>6</td>\n",
       "      <td>1</td>\n",
       "      <td>0</td>\n",
       "      <td>0</td>\n",
       "      <td>0</td>\n",
       "      <td>1</td>\n",
       "      <td>1</td>\n",
       "      <td>1</td>\n",
       "      <td>1</td>\n",
       "      <td>3</td>\n",
       "    </tr>\n",
       "    <tr>\n",
       "      <th>625</th>\n",
       "      <td>1</td>\n",
       "      <td>4</td>\n",
       "      <td>6</td>\n",
       "      <td>0</td>\n",
       "      <td>1</td>\n",
       "      <td>0</td>\n",
       "      <td>2</td>\n",
       "      <td>0</td>\n",
       "      <td>0</td>\n",
       "      <td>1</td>\n",
       "      <td>0</td>\n",
       "      <td>0</td>\n",
       "    </tr>\n",
       "    <tr>\n",
       "      <th>1565</th>\n",
       "      <td>2</td>\n",
       "      <td>1</td>\n",
       "      <td>6</td>\n",
       "      <td>0</td>\n",
       "      <td>0</td>\n",
       "      <td>1</td>\n",
       "      <td>0</td>\n",
       "      <td>0</td>\n",
       "      <td>0</td>\n",
       "      <td>2</td>\n",
       "      <td>0</td>\n",
       "      <td>0</td>\n",
       "    </tr>\n",
       "    <tr>\n",
       "      <th>3529</th>\n",
       "      <td>4</td>\n",
       "      <td>3</td>\n",
       "      <td>6</td>\n",
       "      <td>0</td>\n",
       "      <td>0</td>\n",
       "      <td>0</td>\n",
       "      <td>1</td>\n",
       "      <td>1</td>\n",
       "      <td>1</td>\n",
       "      <td>3</td>\n",
       "      <td>0</td>\n",
       "      <td>1</td>\n",
       "    </tr>\n",
       "    <tr>\n",
       "      <th>5274</th>\n",
       "      <td>3</td>\n",
       "      <td>3</td>\n",
       "      <td>6</td>\n",
       "      <td>0</td>\n",
       "      <td>0</td>\n",
       "      <td>1</td>\n",
       "      <td>1</td>\n",
       "      <td>0</td>\n",
       "      <td>1</td>\n",
       "      <td>1</td>\n",
       "      <td>1</td>\n",
       "      <td>2</td>\n",
       "    </tr>\n",
       "  </tbody>\n",
       "</table>\n",
       "<p>4438 rows × 12 columns</p>\n",
       "</div>"
      ],
      "text/plain": [
       "      Direction  County  Year  TOD  PeakHour  DayofWeek  MonthofYear  \\\n",
       "2174          2       0     6    1         0          1            0   \n",
       "1453          2       2     6    0         1          0            0   \n",
       "224           2       4     6    0         1          0            2   \n",
       "4137          4       3     6    0         0          0            0   \n",
       "1567          2       2     6    0         0          0            0   \n",
       "...         ...     ...   ...  ...       ...        ...          ...   \n",
       "5788          3       3     6    1         0          0            0   \n",
       "625           1       4     6    0         1          0            2   \n",
       "1565          2       1     6    0         0          1            0   \n",
       "3529          4       3     6    0         0          0            1   \n",
       "5274          3       3     6    0         0          1            1   \n",
       "\n",
       "      Injury involved  Truck involved  Lane Closure Type  Fire involved  \\\n",
       "2174                0               0                  1              0   \n",
       "1453                0               0                  1              0   \n",
       "224                 0               0                  2              0   \n",
       "4137                1               1                  2              0   \n",
       "1567                0               0                  1              0   \n",
       "...               ...             ...                ...            ...   \n",
       "5788                1               1                  1              1   \n",
       "625                 0               0                  1              0   \n",
       "1565                0               0                  2              0   \n",
       "3529                1               1                  3              0   \n",
       "5274                0               1                  1              1   \n",
       "\n",
       "     Duration_class  \n",
       "2174              0  \n",
       "1453              0  \n",
       "224               0  \n",
       "4137              1  \n",
       "1567              0  \n",
       "...             ...  \n",
       "5788              3  \n",
       "625               0  \n",
       "1565              0  \n",
       "3529              1  \n",
       "5274              2  \n",
       "\n",
       "[4438 rows x 12 columns]"
      ]
     },
     "execution_count": 71,
     "metadata": {},
     "output_type": "execute_result"
    }
   ],
   "source": [
    "Xtrain, Xval, ytrain, yval = train_test_split(train, train_target, test_size=0.1, random_state=0)\n",
    "valid = pd.concat([Xval, yval], axis='columns')\n",
    "dfnum = pd.concat([Xtrain, ytrain], axis='columns')\n",
    "dfnum"
   ]
  },
  {
   "cell_type": "code",
   "execution_count": 72,
   "id": "80837c88",
   "metadata": {},
   "outputs": [],
   "source": [
    "# Get mape for regression task\n",
    "def get_mape(model, df, col):\n",
    "    # Get accuracy score by the model for the validation dataset df with target col\n",
    "    pred = model.predict(df.iloc[:,:-1])\n",
    "    print(pred)\n",
    "    mape = mean_absolute_percentage_error(df[col], pred)\n",
    "    print('MAPE -', mape)\n",
    "    return mape"
   ]
  },
  {
   "cell_type": "code",
   "execution_count": 73,
   "id": "f51104ba",
   "metadata": {},
   "outputs": [],
   "source": [
    "#Get accuracy for classification task\n",
    "def get_acc(model, df, col):\n",
    "    #pred = model.predict(df[DAG['adjmat'].columns.values].iloc[:,:-1])\n",
    "    pred = model.predict(df.iloc[:,:-1])\n",
    "    print(pred)\n",
    "    acc = accuracy_score(df[col], pred)\n",
    "    print('Accuracy -', acc)\n",
    "    return acc"
   ]
  },
  {
   "cell_type": "code",
   "execution_count": 74,
   "id": "43da7318",
   "metadata": {},
   "outputs": [],
   "source": [
    "def get_acc_label(model, df, col, labels):\n",
    "    #pred = model.predict(df[DAG['adjmat'].columns.values].iloc[:,:-1])\n",
    "    pred = model.predict(df.iloc[:,:-1])\n",
    "    print(pred)\n",
    "    acc = precision_recall_fscore_support(df[col], pred, average=None, labels=labels)\n",
    "    print('precision, recall, f1 -', acc)\n",
    "    return acc"
   ]
  },
  {
   "cell_type": "markdown",
   "id": "32ae06b7",
   "metadata": {},
   "source": [
    "# Bayesian Network"
   ]
  },
  {
   "cell_type": "markdown",
   "id": "a591d859",
   "metadata": {},
   "source": [
    "# Structure Learning"
   ]
  },
  {
   "cell_type": "code",
   "execution_count": 146,
   "id": "75a8adad",
   "metadata": {
    "scrolled": true
   },
   "outputs": [
    {
     "name": "stdout",
     "output_type": "stream",
     "text": [
      "[bnlearn] >Warning: Computing DAG with 12 nodes can take a very long time!\n",
      "[bnlearn] >Computing best DAG using [chow-liu]\n"
     ]
    },
    {
     "data": {
      "application/vnd.jupyter.widget-view+json": {
       "model_id": "84c0d01d431f4ffda7061c70594d67ba",
       "version_major": 2,
       "version_minor": 0
      },
      "text/plain": [
       "Building tree:   0%|          | 0/66.0 [00:00<?, ?it/s]"
      ]
     },
     "metadata": {},
     "output_type": "display_data"
    },
    {
     "name": "stdout",
     "output_type": "stream",
     "text": [
      "[bnlearn] >Compute structure scores ['k2', 'bds', 'bic', 'bdeu'] for model comparison (higher is better).\n"
     ]
    }
   ],
   "source": [
    "# Structure learning\n",
    "DAG = bn.structure_learning.fit(dfnum, methodtype='cl', root_node='Duration_class', bw_list_method='nodes', verbose=3)\n",
    "#DAG = bn.structure_learning.fit(data,methodtype='cl', scoretype='bdeu')\n",
    "#DAG = bn.structure_learning.fit(data,methodtype='naivebayes', scoretype='bdeu', root_node='Duration_class')\n"
   ]
  },
  {
   "cell_type": "code",
   "execution_count": 147,
   "id": "eb258119",
   "metadata": {},
   "outputs": [
    {
     "data": {
      "image/png": "[encoded data removed]",
      "text/plain": [
       "<Figure size 432x288 with 1 Axes>"
      ]
     },
     "metadata": {},
     "output_type": "display_data"
    }
   ],
   "source": [
    "# Plot graph\n",
    "#G = bn.plot(DAG)\n",
    "# Convert Bayesian network structure to a hierarchical structure (DAG)\n",
    "G = nx.DiGraph()\n",
    "G.add_edges_from(model.edges())\n",
    "\n",
    "# Plot the hierarchical structure\n",
    "plt.title('Hierarchical Layout of Learned Structure')\n",
    "pos =graphviz_layout(G, prog='dot')\n",
    "#fig=plt.figure(figsize=(20,10))\n",
    "nx.draw(G, pos, with_labels=True, arrows=True, node_color=\"lightblue\", node_size=1000, font_size=9)\n",
    "plt.savefig('BN_structure.png')"
   ]
  },
  {
   "cell_type": "markdown",
   "id": "2a6c3694",
   "metadata": {},
   "source": [
    "# Parameter Learning"
   ]
  },
  {
   "cell_type": "code",
   "execution_count": 94,
   "id": "7140ea29",
   "metadata": {},
   "outputs": [
    {
     "name": "stdout",
     "output_type": "stream",
     "text": [
      "[bnlearn] >Parameter learning> Computing parameters using [bayes]\n",
      "[bnlearn] >Converting [<class 'pgmpy.base.DAG.DAG'>] to BayesianNetwork model.\n",
      "[bnlearn] >Converting adjmat to BayesianNetwork.\n",
      "[bnlearn] >CPD of Duration_class:\n",
      "+-------------------+-----------+\n",
      "| Duration_class(0) | 0.372563  |\n",
      "+-------------------+-----------+\n",
      "| Duration_class(1) | 0.289261  |\n",
      "+-------------------+-----------+\n",
      "| Duration_class(2) | 0.158146  |\n",
      "+-------------------+-----------+\n",
      "| Duration_class(3) | 0.106289  |\n",
      "+-------------------+-----------+\n",
      "| Duration_class(4) | 0.0737403 |\n",
      "+-------------------+-----------+\n",
      "[bnlearn] >CPD of Truck involved:\n",
      "+-------------------+---------------------+-----+---------------------+---------------------+\n",
      "| Duration_class    | Duration_class(0)   | ... | Duration_class(3)   | Duration_class(4)   |\n",
      "+-------------------+---------------------+-----+---------------------+---------------------+\n",
      "| Truck involved(0) | 0.9452122408687068  | ... | 0.17301038062283736 | 0.24937655860349128 |\n",
      "+-------------------+---------------------+-----+---------------------+---------------------+\n",
      "| Truck involved(1) | 0.05478775913129319 | ... | 0.8269896193771626  | 0.7506234413965087  |\n",
      "+-------------------+---------------------+-----+---------------------+---------------------+\n",
      "[bnlearn] >CPD of Injury involved:\n",
      "+--------------------+---------------------+-----+---------------------+---------------------+\n",
      "| Duration_class     | Duration_class(0)   | ... | Duration_class(3)   | Duration_class(4)   |\n",
      "+--------------------+---------------------+-----+---------------------+---------------------+\n",
      "| Injury involved(0) | 0.9091806515301086  | ... | 0.17301038062283736 | 0.24937655860349128 |\n",
      "+--------------------+---------------------+-----+---------------------+---------------------+\n",
      "| Injury involved(1) | 0.09081934846989141 | ... | 0.8269896193771626  | 0.7506234413965087  |\n",
      "+--------------------+---------------------+-----+---------------------+---------------------+\n",
      "[bnlearn] >CPD of Fire involved:\n",
      "+------------------+----------------------+-----+---------------------+---------------------+\n",
      "| Duration_class   | Duration_class(0)    | ... | Duration_class(3)   | Duration_class(4)   |\n",
      "+------------------+----------------------+-----+---------------------+---------------------+\n",
      "| Fire involved(0) | 0.9506416584402764   | ... | 0.17301038062283736 | 0.24937655860349128 |\n",
      "+------------------+----------------------+-----+---------------------+---------------------+\n",
      "| Fire involved(1) | 0.049358341559723594 | ... | 0.8269896193771626  | 0.7506234413965087  |\n",
      "+------------------+----------------------+-----+---------------------+---------------------+\n",
      "[bnlearn] >CPD of Direction:\n",
      "+----------------+---------------------+-----+---------------------+---------------------+\n",
      "| Duration_class | Duration_class(0)   | ... | Duration_class(3)   | Duration_class(4)   |\n",
      "+----------------+---------------------+-----+---------------------+---------------------+\n",
      "| Direction(1)   | 0.3020730503455084  | ... | 0.2231833910034602  | 0.2194513715710723  |\n",
      "+----------------+---------------------+-----+---------------------+---------------------+\n",
      "| Direction(2)   | 0.271964461994077   | ... | 0.24567474048442905 | 0.2194513715710723  |\n",
      "+----------------+---------------------+-----+---------------------+---------------------+\n",
      "| Direction(3)   | 0.20681145113524185 | ... | 0.2370242214532872  | 0.23940149625935161 |\n",
      "+----------------+---------------------+-----+---------------------+---------------------+\n",
      "| Direction(4)   | 0.1934846989141165  | ... | 0.2231833910034602  | 0.22194513715710723 |\n",
      "+----------------+---------------------+-----+---------------------+---------------------+\n",
      "| Direction(5)   | 0.02566633761105627 | ... | 0.07093425605536333 | 0.09975062344139651 |\n",
      "+----------------+---------------------+-----+---------------------+---------------------+\n",
      "[bnlearn] >CPD of County:\n",
      "+-----------+---------------------+---------------------+-----+---------------------+--------------------+\n",
      "| Direction | Direction(1)        | Direction(2)        | ... | Direction(4)        | Direction(5)       |\n",
      "+-----------+---------------------+---------------------+-----+---------------------+--------------------+\n",
      "| County(0) | 0.17134831460674158 | 0.1257267441860465  | ... | 0.20812182741116753 | 0.2146118721461187 |\n",
      "+-----------+---------------------+---------------------+-----+---------------------+--------------------+\n",
      "| County(1) | 0.2984550561797753  | 0.2870639534883721  | ... | 0.04060913705583756 | 0.2009132420091324 |\n",
      "+-----------+---------------------+---------------------+-----+---------------------+--------------------+\n",
      "| County(2) | 0.39185393258426965 | 0.4265988372093023  | ... | 0.2521150592216582  | 0.2146118721461187 |\n",
      "+-----------+---------------------+---------------------+-----+---------------------+--------------------+\n",
      "| County(3) | 0.07303370786516854 | 0.08502906976744186 | ... | 0.4576988155668359  | 0.1872146118721461 |\n",
      "+-----------+---------------------+---------------------+-----+---------------------+--------------------+\n",
      "| County(4) | 0.06530898876404495 | 0.0755813953488372  | ... | 0.04145516074450085 | 0.182648401826484  |\n",
      "+-----------+---------------------+---------------------+-----+---------------------+--------------------+\n",
      "[bnlearn] >CPD of Lane Closure Type:\n",
      "+----------------------+----------------------+-----+---------------------+--------------------+\n",
      "| Direction            | Direction(1)         | ... | Direction(4)        | Direction(5)       |\n",
      "+----------------------+----------------------+-----+---------------------+--------------------+\n",
      "| Lane Closure Type(0) | 0.037921348314606744 | ... | 0.04483925549915398 | 0.228310502283105  |\n",
      "+----------------------+----------------------+-----+---------------------+--------------------+\n",
      "| Lane Closure Type(1) | 0.6123595505617978   | ... | 0.5372250423011844  | 0.2922374429223744 |\n",
      "+----------------------+----------------------+-----+---------------------+--------------------+\n",
      "| Lane Closure Type(2) | 0.2654494382022472   | ... | 0.3409475465313029  | 0.2374429223744292 |\n",
      "+----------------------+----------------------+-----+---------------------+--------------------+\n",
      "| Lane Closure Type(3) | 0.08426966292134831  | ... | 0.07698815566835872 | 0.2420091324200913 |\n",
      "+----------------------+----------------------+-----+---------------------+--------------------+\n",
      "[bnlearn] >CPD of TOD:\n",
      "+-------------------+----------------------+----------------------+----------------------+----------------------+\n",
      "| Lane Closure Type | Lane Closure Type(0) | Lane Closure Type(1) | Lane Closure Type(2) | Lane Closure Type(3) |\n",
      "+-------------------+----------------------+----------------------+----------------------+----------------------+\n",
      "| TOD(0)            | 0.5263157894736842   | 0.8551191242755957   | 0.6480099502487562   | 0.5152838427947598   |\n",
      "+-------------------+----------------------+----------------------+----------------------+----------------------+\n",
      "| TOD(1)            | 0.47368421052631576  | 0.1448808757244044   | 0.35199004975124376  | 0.4847161572052402   |\n",
      "+-------------------+----------------------+----------------------+----------------------+----------------------+\n",
      "[bnlearn] >CPD of MonthofYear:\n",
      "+-------------------+----------------------+----------------------+----------------------+----------------------+\n",
      "| Lane Closure Type | Lane Closure Type(0) | Lane Closure Type(1) | Lane Closure Type(2) | Lane Closure Type(3) |\n",
      "+-------------------+----------------------+----------------------+----------------------+----------------------+\n",
      "| MonthofYear(0)    | 0.3433583959899749   | 0.5049366816913501   | 0.449212271973466    | 0.4177583697234352   |\n",
      "+-------------------+----------------------+----------------------+----------------------+----------------------+\n",
      "| MonthofYear(1)    | 0.33208020050125314  | 0.27377119553552265  | 0.269485903814262    | 0.29985443959243085  |\n",
      "+-------------------+----------------------+----------------------+----------------------+----------------------+\n",
      "| MonthofYear(2)    | 0.32456140350877194  | 0.2212921227731273   | 0.28130182421227196  | 0.2823871906841339   |\n",
      "+-------------------+----------------------+----------------------+----------------------+----------------------+\n",
      "[bnlearn] >CPD of PeakHour:\n",
      "+-------------+--------------------+---------------------+\n",
      "| TOD         | TOD(0)             | TOD(1)              |\n",
      "+-------------+--------------------+---------------------+\n",
      "| PeakHour(0) | 0.4727540500736377 | 0.8167155425219942  |\n",
      "+-------------+--------------------+---------------------+\n",
      "| PeakHour(1) | 0.5272459499263623 | 0.18328445747800587 |\n",
      "+-------------+--------------------+---------------------+\n",
      "[bnlearn] >CPD of DayofWeek:\n",
      "+--------------+---------------------+---------------------+\n",
      "| TOD          | TOD(0)              | TOD(1)              |\n",
      "+--------------+---------------------+---------------------+\n",
      "| DayofWeek(0) | 0.7511045655375552  | 0.5769794721407625  |\n",
      "+--------------+---------------------+---------------------+\n",
      "| DayofWeek(1) | 0.24889543446244478 | 0.42302052785923755 |\n",
      "+--------------+---------------------+---------------------+\n",
      "[bnlearn] >CPD of Year:\n",
      "+-----------+--------------+--------------+\n",
      "| DayofWeek | DayofWeek(0) | DayofWeek(1) |\n",
      "+-----------+--------------+--------------+\n",
      "| Year(6)   | 1.0          | 1.0          |\n",
      "+-----------+--------------+--------------+\n",
      "[bnlearn] >Compute structure scores ['k2', 'bds', 'bic', 'bdeu'] for model comparison (higher is better).\n"
     ]
    },
    {
     "data": {
      "text/plain": [
       "(Direction ⟂ Fire involved, Truck involved, Injury involved | Duration_class)\n",
       "(County ⟂ Lane Closure Type, PeakHour, Duration_class, Fire involved, Year, Injury involved, DayofWeek, Truck involved, MonthofYear, TOD | Direction)\n",
       "(Year ⟂ Lane Closure Type, PeakHour, Duration_class, Fire involved, Injury involved, Truck involved, Direction, County, MonthofYear, TOD | DayofWeek)\n",
       "(TOD ⟂ Truck involved, Direction, County, Duration_class, Fire involved, MonthofYear, Injury involved | Lane Closure Type)\n",
       "(PeakHour ⟂ Lane Closure Type, Duration_class, Fire involved, Year, Injury involved, DayofWeek, Truck involved, Direction, County, MonthofYear | TOD)\n",
       "(DayofWeek ⟂ Lane Closure Type, PeakHour, Duration_class, Fire involved, Injury involved, Truck involved, Direction, County, MonthofYear | TOD)\n",
       "(MonthofYear ⟂ PeakHour, Duration_class, Fire involved, Year, Injury involved, DayofWeek, Truck involved, Direction, County, TOD | Lane Closure Type)\n",
       "(Injury involved ⟂ Lane Closure Type, PeakHour, Fire involved, Year, DayofWeek, Truck involved, Direction, County, MonthofYear, TOD | Duration_class)\n",
       "(Truck involved ⟂ Lane Closure Type, PeakHour, Fire involved, Year, Injury involved, DayofWeek, Direction, County, MonthofYear, TOD | Duration_class)\n",
       "(Lane Closure Type ⟂ Truck involved, County, Duration_class, Fire involved, Injury involved | Direction)\n",
       "(Fire involved ⟂ Lane Closure Type, PeakHour, Year, Injury involved, DayofWeek, Truck involved, Direction, County, MonthofYear, TOD | Duration_class)"
      ]
     },
     "execution_count": 94,
     "metadata": {},
     "output_type": "execute_result"
    }
   ],
   "source": [
    "# Parameter learning\n",
    "model = bn.parameter_learning.fit(DAG, dfnum, verbose=3);\n",
    "model = BayesianNetwork(ebunch=DAG['model_edges'])\n",
    "bayes = BayesianEstimator(model=model, data = data)\n",
    "model.fit(dfnum, estimator=BayesianEstimator, prior_type='BDeu',equivalent_sample_size=10,\n",
    "          complete_samples_only=False)\n",
    "model.local_independencies(bayes.variables)"
   ]
  },
  {
   "cell_type": "markdown",
   "id": "bdd6cfe3",
   "metadata": {},
   "source": [
    "# Validation"
   ]
  },
  {
   "cell_type": "code",
   "execution_count": 92,
   "id": "bdb52652",
   "metadata": {
    "scrolled": true
   },
   "outputs": [
    {
     "data": {
      "application/vnd.jupyter.widget-view+json": {
       "model_id": "3f59d890c9964d35a72dc5dd94f8772f",
       "version_major": 2,
       "version_minor": 0
      },
      "text/plain": [
       "  0%|          | 0/388 [00:00<?, ?it/s]"
      ]
     },
     "metadata": {},
     "output_type": "display_data"
    },
    {
     "name": "stdout",
     "output_type": "stream",
     "text": [
      "     Duration_class\n",
      "0                 1\n",
      "1                 1\n",
      "2                 3\n",
      "3                 3\n",
      "4                 3\n",
      "..              ...\n",
      "489               3\n",
      "490               3\n",
      "491               0\n",
      "492               3\n",
      "493               3\n",
      "\n",
      "[494 rows x 1 columns]\n",
      "Accuracy - 0.8643724696356275\n"
     ]
    }
   ],
   "source": [
    "acc1 = get_acc(model, valid, 'Duration_class')"
   ]
  },
  {
   "cell_type": "code",
   "execution_count": 912,
   "id": "0093e6b9",
   "metadata": {
    "scrolled": false
   },
   "outputs": [
    {
     "data": {
      "application/vnd.jupyter.widget-view+json": {
       "model_id": "6ee362086d864dbfa973cad32a9196ac",
       "version_major": 2,
       "version_minor": 0
      },
      "text/plain": [
       "  0%|          | 0/395 [00:00<?, ?it/s]"
      ]
     },
     "metadata": {},
     "output_type": "display_data"
    },
    {
     "name": "stdout",
     "output_type": "stream",
     "text": [
      "     Duration_class\n",
      "0                 1\n",
      "1                 2\n",
      "2                 0\n",
      "3                 3\n",
      "4                 0\n",
      "..              ...\n",
      "489               3\n",
      "490               3\n",
      "491               2\n",
      "492               0\n",
      "493               3\n",
      "\n",
      "[494 rows x 1 columns]\n",
      "precision, recall, f1 - (array([0.98342541, 0.91715976, 1.        , 0.42307692, 0.        ]), array([0.93193717, 0.99358974, 0.54054054, 1.        , 0.        ]), array([0.95698925, 0.95384615, 0.70175439, 0.59459459, 0.        ]), array([191, 156,  74,  44,  29], dtype=int64))\n"
     ]
    }
   ],
   "source": [
    "acc2 = get_acc_label(model, valid, 'Duration_class', [0,1,2,3,4])"
   ]
  },
  {
   "cell_type": "markdown",
   "id": "fe97b421",
   "metadata": {},
   "source": [
    "# Inference"
   ]
  },
  {
   "cell_type": "code",
   "execution_count": 902,
   "id": "13b7be37",
   "metadata": {},
   "outputs": [
    {
     "name": "stdout",
     "output_type": "stream",
     "text": [
      "+-------------------+-----------------------+\n",
      "| Duration_class    |   phi(Duration_class) |\n",
      "+===================+=======================+\n",
      "| Duration_class(0) |                0.0005 |\n",
      "+-------------------+-----------------------+\n",
      "| Duration_class(1) |                0.9931 |\n",
      "+-------------------+-----------------------+\n",
      "| Duration_class(2) |                0.0041 |\n",
      "+-------------------+-----------------------+\n",
      "| Duration_class(3) |                0.0010 |\n",
      "+-------------------+-----------------------+\n",
      "| Duration_class(4) |                0.0013 |\n",
      "+-------------------+-----------------------+\n"
     ]
    }
   ],
   "source": [
    "inference = VariableElimination(model)\n",
    "evidence = valid.iloc[0,:-1]\n",
    "result=inference.query(variables=['Duration_class'], evidence=evidence)\n",
    "print(result)"
   ]
  },
  {
   "cell_type": "code",
   "execution_count": 936,
   "id": "26cd70c1",
   "metadata": {},
   "outputs": [
    {
     "data": {
      "text/html": [
       "<div>\n",
       "<style scoped>\n",
       "    .dataframe tbody tr th:only-of-type {\n",
       "        vertical-align: middle;\n",
       "    }\n",
       "\n",
       "    .dataframe tbody tr th {\n",
       "        vertical-align: top;\n",
       "    }\n",
       "\n",
       "    .dataframe thead th {\n",
       "        text-align: right;\n",
       "    }\n",
       "</style>\n",
       "<table border=\"1\" class=\"dataframe\">\n",
       "  <thead>\n",
       "    <tr style=\"text-align: right;\">\n",
       "      <th></th>\n",
       "      <th>Direction</th>\n",
       "      <th>County</th>\n",
       "      <th>Year</th>\n",
       "      <th>TOD</th>\n",
       "      <th>PeakHour</th>\n",
       "      <th>DayofWeek</th>\n",
       "      <th>MonthofYear</th>\n",
       "      <th>Injury involved</th>\n",
       "      <th>Truck involved</th>\n",
       "      <th>Lane Closure Type</th>\n",
       "      <th>Fire involved</th>\n",
       "      <th>Duration_class</th>\n",
       "    </tr>\n",
       "  </thead>\n",
       "  <tbody>\n",
       "    <tr>\n",
       "      <th>2818</th>\n",
       "      <td>3</td>\n",
       "      <td>3</td>\n",
       "      <td>6</td>\n",
       "      <td>0</td>\n",
       "      <td>0</td>\n",
       "      <td>0</td>\n",
       "      <td>0</td>\n",
       "      <td>1</td>\n",
       "      <td>1</td>\n",
       "      <td>1</td>\n",
       "      <td>0</td>\n",
       "      <td>1</td>\n",
       "    </tr>\n",
       "    <tr>\n",
       "      <th>5315</th>\n",
       "      <td>2</td>\n",
       "      <td>1</td>\n",
       "      <td>6</td>\n",
       "      <td>0</td>\n",
       "      <td>0</td>\n",
       "      <td>0</td>\n",
       "      <td>2</td>\n",
       "      <td>0</td>\n",
       "      <td>1</td>\n",
       "      <td>1</td>\n",
       "      <td>1</td>\n",
       "      <td>2</td>\n",
       "    </tr>\n",
       "    <tr>\n",
       "      <th>280</th>\n",
       "      <td>2</td>\n",
       "      <td>1</td>\n",
       "      <td>6</td>\n",
       "      <td>0</td>\n",
       "      <td>1</td>\n",
       "      <td>0</td>\n",
       "      <td>1</td>\n",
       "      <td>0</td>\n",
       "      <td>0</td>\n",
       "      <td>2</td>\n",
       "      <td>0</td>\n",
       "      <td>0</td>\n",
       "    </tr>\n",
       "    <tr>\n",
       "      <th>5736</th>\n",
       "      <td>4</td>\n",
       "      <td>3</td>\n",
       "      <td>6</td>\n",
       "      <td>0</td>\n",
       "      <td>0</td>\n",
       "      <td>0</td>\n",
       "      <td>2</td>\n",
       "      <td>1</td>\n",
       "      <td>1</td>\n",
       "      <td>1</td>\n",
       "      <td>1</td>\n",
       "      <td>3</td>\n",
       "    </tr>\n",
       "    <tr>\n",
       "      <th>49</th>\n",
       "      <td>2</td>\n",
       "      <td>2</td>\n",
       "      <td>6</td>\n",
       "      <td>0</td>\n",
       "      <td>1</td>\n",
       "      <td>0</td>\n",
       "      <td>1</td>\n",
       "      <td>0</td>\n",
       "      <td>0</td>\n",
       "      <td>2</td>\n",
       "      <td>0</td>\n",
       "      <td>0</td>\n",
       "    </tr>\n",
       "    <tr>\n",
       "      <th>...</th>\n",
       "      <td>...</td>\n",
       "      <td>...</td>\n",
       "      <td>...</td>\n",
       "      <td>...</td>\n",
       "      <td>...</td>\n",
       "      <td>...</td>\n",
       "      <td>...</td>\n",
       "      <td>...</td>\n",
       "      <td>...</td>\n",
       "      <td>...</td>\n",
       "      <td>...</td>\n",
       "      <td>...</td>\n",
       "    </tr>\n",
       "    <tr>\n",
       "      <th>5450</th>\n",
       "      <td>4</td>\n",
       "      <td>0</td>\n",
       "      <td>6</td>\n",
       "      <td>0</td>\n",
       "      <td>1</td>\n",
       "      <td>1</td>\n",
       "      <td>0</td>\n",
       "      <td>1</td>\n",
       "      <td>1</td>\n",
       "      <td>2</td>\n",
       "      <td>1</td>\n",
       "      <td>2</td>\n",
       "    </tr>\n",
       "    <tr>\n",
       "      <th>5832</th>\n",
       "      <td>1</td>\n",
       "      <td>2</td>\n",
       "      <td>6</td>\n",
       "      <td>0</td>\n",
       "      <td>0</td>\n",
       "      <td>1</td>\n",
       "      <td>2</td>\n",
       "      <td>1</td>\n",
       "      <td>1</td>\n",
       "      <td>1</td>\n",
       "      <td>1</td>\n",
       "      <td>3</td>\n",
       "    </tr>\n",
       "    <tr>\n",
       "      <th>4815</th>\n",
       "      <td>1</td>\n",
       "      <td>0</td>\n",
       "      <td>6</td>\n",
       "      <td>0</td>\n",
       "      <td>0</td>\n",
       "      <td>0</td>\n",
       "      <td>0</td>\n",
       "      <td>0</td>\n",
       "      <td>1</td>\n",
       "      <td>1</td>\n",
       "      <td>1</td>\n",
       "      <td>2</td>\n",
       "    </tr>\n",
       "    <tr>\n",
       "      <th>1031</th>\n",
       "      <td>3</td>\n",
       "      <td>2</td>\n",
       "      <td>6</td>\n",
       "      <td>0</td>\n",
       "      <td>1</td>\n",
       "      <td>1</td>\n",
       "      <td>0</td>\n",
       "      <td>0</td>\n",
       "      <td>0</td>\n",
       "      <td>1</td>\n",
       "      <td>0</td>\n",
       "      <td>0</td>\n",
       "    </tr>\n",
       "    <tr>\n",
       "      <th>6363</th>\n",
       "      <td>3</td>\n",
       "      <td>3</td>\n",
       "      <td>6</td>\n",
       "      <td>1</td>\n",
       "      <td>0</td>\n",
       "      <td>0</td>\n",
       "      <td>1</td>\n",
       "      <td>1</td>\n",
       "      <td>1</td>\n",
       "      <td>1</td>\n",
       "      <td>1</td>\n",
       "      <td>4</td>\n",
       "    </tr>\n",
       "  </tbody>\n",
       "</table>\n",
       "<p>494 rows × 12 columns</p>\n",
       "</div>"
      ],
      "text/plain": [
       "      Direction  County  Year  TOD  PeakHour  DayofWeek  MonthofYear  \\\n",
       "2818          3       3     6    0         0          0            0   \n",
       "5315          2       1     6    0         0          0            2   \n",
       "280           2       1     6    0         1          0            1   \n",
       "5736          4       3     6    0         0          0            2   \n",
       "49            2       2     6    0         1          0            1   \n",
       "...         ...     ...   ...  ...       ...        ...          ...   \n",
       "5450          4       0     6    0         1          1            0   \n",
       "5832          1       2     6    0         0          1            2   \n",
       "4815          1       0     6    0         0          0            0   \n",
       "1031          3       2     6    0         1          1            0   \n",
       "6363          3       3     6    1         0          0            1   \n",
       "\n",
       "      Injury involved  Truck involved  Lane Closure Type  Fire involved  \\\n",
       "2818                1               1                  1              0   \n",
       "5315                0               1                  1              1   \n",
       "280                 0               0                  2              0   \n",
       "5736                1               1                  1              1   \n",
       "49                  0               0                  2              0   \n",
       "...               ...             ...                ...            ...   \n",
       "5450                1               1                  2              1   \n",
       "5832                1               1                  1              1   \n",
       "4815                0               1                  1              1   \n",
       "1031                0               0                  1              0   \n",
       "6363                1               1                  1              1   \n",
       "\n",
       "     Duration_class  \n",
       "2818              1  \n",
       "5315              2  \n",
       "280               0  \n",
       "5736              3  \n",
       "49                0  \n",
       "...             ...  \n",
       "5450              2  \n",
       "5832              3  \n",
       "4815              2  \n",
       "1031              0  \n",
       "6363              4  \n",
       "\n",
       "[494 rows x 12 columns]"
      ]
     },
     "execution_count": 936,
     "metadata": {},
     "output_type": "execute_result"
    }
   ],
   "source": [
    "valid"
   ]
  },
  {
   "cell_type": "markdown",
   "id": "3bf18e3c",
   "metadata": {},
   "source": [
    "# Prediction"
   ]
  },
  {
   "cell_type": "code",
   "execution_count": 913,
   "id": "68686b33",
   "metadata": {},
   "outputs": [
    {
     "data": {
      "application/vnd.jupyter.widget-view+json": {
       "model_id": "1946e784d4fe4a05ad8465edba769807",
       "version_major": 2,
       "version_minor": 0
      },
      "text/plain": [
       "  0%|          | 0/991 [00:00<?, ?it/s]"
      ]
     },
     "metadata": {},
     "output_type": "display_data"
    }
   ],
   "source": [
    "result_pred = model.predict(test.iloc[:,:-1])"
   ]
  },
  {
   "cell_type": "code",
   "execution_count": 919,
   "id": "4fc895ea",
   "metadata": {},
   "outputs": [
    {
     "name": "stdout",
     "output_type": "stream",
     "text": [
      "Test accuracy score - 0.8807785888077859\n",
      "Test precision, recall, F1-score and Sample Size - (array([0.99671593, 0.95017794, 1.        , 0.4334471 , 0.        ]), array([0.95590551, 0.99813084, 0.67164179, 1.        , 0.        ]), array([0.97588424, 0.97356427, 0.80357143, 0.6047619 , 0.        ]), array([635, 535, 268, 127,  79], dtype=int64))\n"
     ]
    }
   ],
   "source": [
    "acc_test=accuracy_score(test['Duration_class'], result_pred)\n",
    "acc_label_test=precision_recall_fscore_support(test['Duration_class'], result_pred, labels=[0,1,2,3,4])\n",
    "print(\"Test accuracy score -\", acc_test)\n",
    "print(\"Test precision, recall, F1-score and Sample Size -\", acc_label_test)"
   ]
  },
  {
   "cell_type": "code",
   "execution_count": 928,
   "id": "35ceb03a",
   "metadata": {},
   "outputs": [],
   "source": [
    "test['Duration_class']\n",
    "ytest=label_binarize(test['Duration_class'], classes=[0,1,2,3,4])\n",
    "ypred = label_binarize(result_pred, classes=[0,1,2,3,4])"
   ]
  },
  {
   "cell_type": "markdown",
   "id": "a32f0cb0",
   "metadata": {},
   "source": [
    "# AUC-ROC Curve"
   ]
  },
  {
   "cell_type": "code",
   "execution_count": 930,
   "id": "629b249c",
   "metadata": {
    "scrolled": false
   },
   "outputs": [
    {
     "data": {
      "image/png": "[encoded data removed]",
      "text/plain": [
       "<Figure size 432x288 with 1 Axes>"
      ]
     },
     "metadata": {
      "needs_background": "light"
     },
     "output_type": "display_data"
    },
    {
     "data": {
      "image/png": "[encoded data removed]",
      "text/plain": [
       "<Figure size 432x288 with 1 Axes>"
      ]
     },
     "metadata": {
      "needs_background": "light"
     },
     "output_type": "display_data"
    },
    {
     "data": {
      "image/png": "[encoded data removed]",
      "text/plain": [
       "<Figure size 432x288 with 1 Axes>"
      ]
     },
     "metadata": {
      "needs_background": "light"
     },
     "output_type": "display_data"
    },
    {
     "data": {
      "image/png": "[encoded data removed]",
      "text/plain": [
       "<Figure size 432x288 with 1 Axes>"
      ]
     },
     "metadata": {
      "needs_background": "light"
     },
     "output_type": "display_data"
    }
   ],
   "source": [
    "ytest=label_binarize(test['Duration_class'], classes=[0,1,2,3,4])\n",
    "fpr, tpr = dict(), dict()\n",
    "roc_auc = dict()\n",
    "n_classes = 4\n",
    "for i in range(n_classes):\n",
    "    fpr[i], tpr[i], _ = roc_curve(ytest[:,i], ypred[:,i])\n",
    "    roc_auc[i] = auc(fpr[i], tpr[i])\n",
    "\n",
    "for i in range(n_classes):\n",
    "    plt.figure()\n",
    "    plt.plot(fpr[i], tpr[i], label='ROC curve (area = %0.2f)' % roc_auc[i])\n",
    "    plt.plot([0,1],[0,1], 'k--')\n",
    "    plt.xlim([0.0, 1.0])\n",
    "    plt.ylim([0.0, 1.04])\n",
    "    plt.xlabel('False Positive Rate')\n",
    "    plt.ylabel('True Positive Rate')\n",
    "    plt.title('AUC-ROC for Traffic Incident Duration')\n",
    "    plt.legend(loc='lower right')\n",
    "    plt.show()"
   ]
  },
  {
   "cell_type": "code",
   "execution_count": 148,
   "id": "3fa23707",
   "metadata": {
    "scrolled": true
   },
   "outputs": [],
   "source": [
    "# Fitting Classifier to the Training Set\n",
    "model = DecisionTreeClassifier(criterion='entropy',max_depth=2, random_state=42)\n",
    "model.fit(Xtrain, ytrain)"
   ]
  },
  {
   "cell_type": "code",
   "execution_count": 66,
   "id": "6b0d4042",
   "metadata": {},
   "outputs": [
    {
     "data": {
      "image/svg+xml": [
       "<?xml version=\"1.0\" encoding=\"UTF-8\" standalone=\"no\"?>\n",
       "<!DOCTYPE svg PUBLIC \"-//W3C//DTD SVG 1.1//EN\"\n",
       " \"http://www.w3.org/Graphics/SVG/1.1/DTD/svg11.dtd\">\n",
       "<!-- Generated by graphviz version 2.50.0 (0)\n",
       " -->\n",
       "<!-- Title: Tree Pages: 1 -->\n",
       "<svg width=\"750pt\" height=\"314pt\"\n",
       " viewBox=\"0.00 0.00 749.50 314.00\" xmlns=\"http://www.w3.org/2000/svg\" xmlns:xlink=\"http://www.w3.org/1999/xlink\">\n",
       "<g id=\"graph0\" class=\"graph\" transform=\"scale(1 1) rotate(0) translate(4 310)\">\n",
       "<title>Tree</title>\n",
       "<polygon fill=\"white\" stroke=\"transparent\" points=\"-4,4 -4,-310 745.5,-310 745.5,4 -4,4\"/>\n",
       "<!-- 0 -->\n",
       "<g id=\"node1\" class=\"node\">\n",
       "<title>0</title>\n",
       "<path fill=\"#fbede3\" stroke=\"black\" d=\"M458,-306C458,-306 252,-306 252,-306 246,-306 240,-300 240,-294 240,-294 240,-235 240,-235 240,-229 246,-223 252,-223 252,-223 458,-223 458,-223 464,-223 470,-229 470,-235 470,-235 470,-294 470,-294 470,-300 464,-306 458,-306\"/>\n",
       "<text text-anchor=\"middle\" x=\"355\" y=\"-290.8\" font-family=\"Helvetica,sans-Serif\" font-size=\"14.00\">Truck involved &lt;= 0.5</text>\n",
       "<text text-anchor=\"middle\" x=\"355\" y=\"-275.8\" font-family=\"Helvetica,sans-Serif\" font-size=\"14.00\">entropy = 1.967</text>\n",
       "<text text-anchor=\"middle\" x=\"355\" y=\"-260.8\" font-family=\"Helvetica,sans-Serif\" font-size=\"14.00\">samples = 4438</text>\n",
       "<text text-anchor=\"middle\" x=\"355\" y=\"-245.8\" font-family=\"Helvetica,sans-Serif\" font-size=\"14.00\">value = [1814, 1376, 673, 375, 200]</text>\n",
       "<text text-anchor=\"middle\" x=\"355\" y=\"-230.8\" font-family=\"Helvetica,sans-Serif\" font-size=\"14.00\">class = [</text>\n",
       "</g>\n",
       "<!-- 1 -->\n",
       "<g id=\"node2\" class=\"node\">\n",
       "<title>1</title>\n",
       "<path fill=\"#e89153\" stroke=\"black\" d=\"M325.5,-187C325.5,-187 172.5,-187 172.5,-187 166.5,-187 160.5,-181 160.5,-175 160.5,-175 160.5,-116 160.5,-116 160.5,-110 166.5,-104 172.5,-104 172.5,-104 325.5,-104 325.5,-104 331.5,-104 337.5,-110 337.5,-116 337.5,-116 337.5,-175 337.5,-175 337.5,-181 331.5,-187 325.5,-187\"/>\n",
       "<text text-anchor=\"middle\" x=\"249\" y=\"-171.8\" font-family=\"Helvetica,sans-Serif\" font-size=\"14.00\">Fire involved &lt;= 0.5</text>\n",
       "<text text-anchor=\"middle\" x=\"249\" y=\"-156.8\" font-family=\"Helvetica,sans-Serif\" font-size=\"14.00\">entropy = 0.545</text>\n",
       "<text text-anchor=\"middle\" x=\"249\" y=\"-141.8\" font-family=\"Helvetica,sans-Serif\" font-size=\"14.00\">samples = 2040</text>\n",
       "<text text-anchor=\"middle\" x=\"249\" y=\"-126.8\" font-family=\"Helvetica,sans-Serif\" font-size=\"14.00\">value = [1803, 228, 9, 0, 0]</text>\n",
       "<text text-anchor=\"middle\" x=\"249\" y=\"-111.8\" font-family=\"Helvetica,sans-Serif\" font-size=\"14.00\">class = [</text>\n",
       "</g>\n",
       "<!-- 0&#45;&gt;1 -->\n",
       "<g id=\"edge1\" class=\"edge\">\n",
       "<title>0&#45;&gt;1</title>\n",
       "<path fill=\"none\" stroke=\"black\" d=\"M318.22,-222.91C309.92,-213.74 301.03,-203.93 292.48,-194.49\"/>\n",
       "<polygon fill=\"black\" stroke=\"black\" points=\"295.02,-192.08 285.71,-187.02 289.83,-196.78 295.02,-192.08\"/>\n",
       "<text text-anchor=\"middle\" x=\"284.48\" y=\"-208.29\" font-family=\"Helvetica,sans-Serif\" font-size=\"14.00\">True</text>\n",
       "</g>\n",
       "<!-- 4 -->\n",
       "<g id=\"node5\" class=\"node\">\n",
       "<title>4</title>\n",
       "<path fill=\"#daf8c8\" stroke=\"black\" d=\"M556.5,-187C556.5,-187 367.5,-187 367.5,-187 361.5,-187 355.5,-181 355.5,-175 355.5,-175 355.5,-116 355.5,-116 355.5,-110 361.5,-104 367.5,-104 367.5,-104 556.5,-104 556.5,-104 562.5,-104 568.5,-110 568.5,-116 568.5,-116 568.5,-175 568.5,-175 568.5,-181 562.5,-187 556.5,-187\"/>\n",
       "<text text-anchor=\"middle\" x=\"462\" y=\"-171.8\" font-family=\"Helvetica,sans-Serif\" font-size=\"14.00\">Fire involved &lt;= 0.5</text>\n",
       "<text text-anchor=\"middle\" x=\"462\" y=\"-156.8\" font-family=\"Helvetica,sans-Serif\" font-size=\"14.00\">entropy = 1.775</text>\n",
       "<text text-anchor=\"middle\" x=\"462\" y=\"-141.8\" font-family=\"Helvetica,sans-Serif\" font-size=\"14.00\">samples = 2398</text>\n",
       "<text text-anchor=\"middle\" x=\"462\" y=\"-126.8\" font-family=\"Helvetica,sans-Serif\" font-size=\"14.00\">value = [11, 1148, 664, 375, 200]</text>\n",
       "<text text-anchor=\"middle\" x=\"462\" y=\"-111.8\" font-family=\"Helvetica,sans-Serif\" font-size=\"14.00\">class = &#39;</text>\n",
       "</g>\n",
       "<!-- 0&#45;&gt;4 -->\n",
       "<g id=\"edge4\" class=\"edge\">\n",
       "<title>0&#45;&gt;4</title>\n",
       "<path fill=\"none\" stroke=\"black\" d=\"M392.12,-222.91C400.51,-213.74 409.48,-203.93 418.11,-194.49\"/>\n",
       "<polygon fill=\"black\" stroke=\"black\" points=\"420.78,-196.76 424.94,-187.02 415.61,-192.04 420.78,-196.76\"/>\n",
       "<text text-anchor=\"middle\" x=\"426.06\" y=\"-208.3\" font-family=\"Helvetica,sans-Serif\" font-size=\"14.00\">False</text>\n",
       "</g>\n",
       "<!-- 2 -->\n",
       "<g id=\"node3\" class=\"node\">\n",
       "<title>2</title>\n",
       "<path fill=\"#e5823a\" stroke=\"black\" d=\"M150,-68C150,-68 12,-68 12,-68 6,-68 0,-62 0,-56 0,-56 0,-12 0,-12 0,-6 6,0 12,0 12,0 150,0 150,0 156,0 162,-6 162,-12 162,-12 162,-56 162,-56 162,-62 156,-68 150,-68\"/>\n",
       "<text text-anchor=\"middle\" x=\"81\" y=\"-52.8\" font-family=\"Helvetica,sans-Serif\" font-size=\"14.00\">entropy = 0.059</text>\n",
       "<text text-anchor=\"middle\" x=\"81\" y=\"-37.8\" font-family=\"Helvetica,sans-Serif\" font-size=\"14.00\">samples = 1814</text>\n",
       "<text text-anchor=\"middle\" x=\"81\" y=\"-22.8\" font-family=\"Helvetica,sans-Serif\" font-size=\"14.00\">value = [1803, 6, 5, 0, 0]</text>\n",
       "<text text-anchor=\"middle\" x=\"81\" y=\"-7.8\" font-family=\"Helvetica,sans-Serif\" font-size=\"14.00\">class = [</text>\n",
       "</g>\n",
       "<!-- 1&#45;&gt;2 -->\n",
       "<g id=\"edge2\" class=\"edge\">\n",
       "<title>1&#45;&gt;2</title>\n",
       "<path fill=\"none\" stroke=\"black\" d=\"M186.44,-103.73C171.39,-93.92 155.36,-83.46 140.45,-73.75\"/>\n",
       "<polygon fill=\"black\" stroke=\"black\" points=\"142.11,-70.65 131.82,-68.13 138.29,-76.52 142.11,-70.65\"/>\n",
       "</g>\n",
       "<!-- 3 -->\n",
       "<g id=\"node4\" class=\"node\">\n",
       "<title>3</title>\n",
       "<path fill=\"#7de53d\" stroke=\"black\" d=\"M323.5,-68C323.5,-68 192.5,-68 192.5,-68 186.5,-68 180.5,-62 180.5,-56 180.5,-56 180.5,-12 180.5,-12 180.5,-6 186.5,0 192.5,0 192.5,0 323.5,0 323.5,0 329.5,0 335.5,-6 335.5,-12 335.5,-12 335.5,-56 335.5,-56 335.5,-62 329.5,-68 323.5,-68\"/>\n",
       "<text text-anchor=\"middle\" x=\"258\" y=\"-52.8\" font-family=\"Helvetica,sans-Serif\" font-size=\"14.00\">entropy = 0.128</text>\n",
       "<text text-anchor=\"middle\" x=\"258\" y=\"-37.8\" font-family=\"Helvetica,sans-Serif\" font-size=\"14.00\">samples = 226</text>\n",
       "<text text-anchor=\"middle\" x=\"258\" y=\"-22.8\" font-family=\"Helvetica,sans-Serif\" font-size=\"14.00\">value = [0, 222, 4, 0, 0]</text>\n",
       "<text text-anchor=\"middle\" x=\"258\" y=\"-7.8\" font-family=\"Helvetica,sans-Serif\" font-size=\"14.00\">class = &#39;</text>\n",
       "</g>\n",
       "<!-- 1&#45;&gt;3 -->\n",
       "<g id=\"edge3\" class=\"edge\">\n",
       "<title>1&#45;&gt;3</title>\n",
       "<path fill=\"none\" stroke=\"black\" d=\"M252.35,-103.73C253.03,-95.43 253.75,-86.67 254.44,-78.28\"/>\n",
       "<polygon fill=\"black\" stroke=\"black\" points=\"257.93,-78.55 255.26,-68.3 250.96,-77.98 257.93,-78.55\"/>\n",
       "</g>\n",
       "<!-- 5 -->\n",
       "<g id=\"node6\" class=\"node\">\n",
       "<title>5</title>\n",
       "<path fill=\"#7ce53b\" stroke=\"black\" d=\"M526,-68C526,-68 382,-68 382,-68 376,-68 370,-62 370,-56 370,-56 370,-12 370,-12 370,-6 376,0 382,0 382,0 526,0 526,0 532,0 538,-6 538,-12 538,-12 538,-56 538,-56 538,-62 532,-68 526,-68\"/>\n",
       "<text text-anchor=\"middle\" x=\"454\" y=\"-52.8\" font-family=\"Helvetica,sans-Serif\" font-size=\"14.00\">entropy = 0.078</text>\n",
       "<text text-anchor=\"middle\" x=\"454\" y=\"-37.8\" font-family=\"Helvetica,sans-Serif\" font-size=\"14.00\">samples = 1157</text>\n",
       "<text text-anchor=\"middle\" x=\"454\" y=\"-22.8\" font-family=\"Helvetica,sans-Serif\" font-size=\"14.00\">value = [11, 1146, 0, 0, 0]</text>\n",
       "<text text-anchor=\"middle\" x=\"454\" y=\"-7.8\" font-family=\"Helvetica,sans-Serif\" font-size=\"14.00\">class = &#39;</text>\n",
       "</g>\n",
       "<!-- 4&#45;&gt;5 -->\n",
       "<g id=\"edge5\" class=\"edge\">\n",
       "<title>4&#45;&gt;5</title>\n",
       "<path fill=\"none\" stroke=\"black\" d=\"M459.02,-103.73C458.41,-95.43 457.77,-86.67 457.16,-78.28\"/>\n",
       "<polygon fill=\"black\" stroke=\"black\" points=\"460.65,-78.02 456.43,-68.3 453.67,-78.53 460.65,-78.02\"/>\n",
       "</g>\n",
       "<!-- 6 -->\n",
       "<g id=\"node7\" class=\"node\">\n",
       "<title>6</title>\n",
       "<path fill=\"#bdf6ec\" stroke=\"black\" d=\"M729.5,-68C729.5,-68 568.5,-68 568.5,-68 562.5,-68 556.5,-62 556.5,-56 556.5,-56 556.5,-12 556.5,-12 556.5,-6 562.5,0 568.5,0 568.5,0 729.5,0 729.5,0 735.5,0 741.5,-6 741.5,-12 741.5,-12 741.5,-56 741.5,-56 741.5,-62 735.5,-68 729.5,-68\"/>\n",
       "<text text-anchor=\"middle\" x=\"649\" y=\"-52.8\" font-family=\"Helvetica,sans-Serif\" font-size=\"14.00\">entropy = 1.444</text>\n",
       "<text text-anchor=\"middle\" x=\"649\" y=\"-37.8\" font-family=\"Helvetica,sans-Serif\" font-size=\"14.00\">samples = 1241</text>\n",
       "<text text-anchor=\"middle\" x=\"649\" y=\"-22.8\" font-family=\"Helvetica,sans-Serif\" font-size=\"14.00\">value = [0, 2, 664, 375, 200]</text>\n",
       "<text text-anchor=\"middle\" x=\"649\" y=\"-7.8\" font-family=\"Helvetica,sans-Serif\" font-size=\"14.00\">class = 0</text>\n",
       "</g>\n",
       "<!-- 4&#45;&gt;6 -->\n",
       "<g id=\"edge6\" class=\"edge\">\n",
       "<title>4&#45;&gt;6</title>\n",
       "<path fill=\"none\" stroke=\"black\" d=\"M531.37,-103.88C548.54,-93.83 566.87,-83.09 583.84,-73.16\"/>\n",
       "<polygon fill=\"black\" stroke=\"black\" points=\"585.71,-76.12 592.57,-68.04 582.17,-70.08 585.71,-76.12\"/>\n",
       "</g>\n",
       "</g>\n",
       "</svg>\n"
      ],
      "text/plain": [
       "<graphviz.sources.Source at 0x2923313dc10>"
      ]
     },
     "execution_count": 66,
     "metadata": {},
     "output_type": "execute_result"
    }
   ],
   "source": [
    "# Visualize the tree by graphiz\n",
    "import graphviz\n",
    "from sklearn import tree\n",
    "feature_names = dfnum.columns[:-1]\n",
    "class_names=['0','1','2','3','4']\n",
    "dot_data = tree.export_graphviz(model, out_file=None, filled=True, rounded = True, feature_names=feature_names, class_names=str(class_names))\n",
    "graph = graphviz.Source(dot_data)\n",
    "graph"
   ]
  }
 ],
 "metadata": {
  "kernelspec": {
   "display_name": "Python 3 (ipykernel)",
   "language": "python",
   "name": "python3"
  },
  "language_info": {
   "codemirror_mode": {
    "name": "ipython",
    "version": 3
   },
   "file_extension": ".py",
   "mimetype": "text/x-python",
   "name": "python",
   "nbconvert_exporter": "python",
   "pygments_lexer": "ipython3",
   "version": "3.9.12"
  }
 },
 "nbformat": 4,
 "nbformat_minor": 5
}
